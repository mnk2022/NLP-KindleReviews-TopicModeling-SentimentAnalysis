{
  "cells": [
    {
      "cell_type": "markdown",
      "id": "c7264a09",
      "metadata": {
        "id": "c7264a09"
      },
      "source": [
        "# Binary Sentiment Analysis"
      ]
    },
    {
      "cell_type": "markdown",
      "id": "51f0d80b",
      "metadata": {
        "id": "51f0d80b"
      },
      "source": [
        "## Import Packages"
      ]
    },
    {
      "cell_type": "code",
      "execution_count": 57,
      "id": "9d705af2",
      "metadata": {
        "colab": {
          "base_uri": "https://localhost:8080/"
        },
        "id": "9d705af2",
        "outputId": "d91174ea-76a0-4960-fc5c-149eff91c53f"
      },
      "outputs": [
        {
          "name": "stdout",
          "output_type": "stream",
          "text": [
            "[nltk_data] Downloading package stopwords to /root/nltk_data...\n",
            "[nltk_data]   Package stopwords is already up-to-date!\n"
          ]
        }
      ],
      "source": [
        "import pandas as pd\n",
        "import numpy as np\n",
        "import matplotlib.pyplot as plt\n",
        "import seaborn as sns\n",
        "from typing import List, Tuple\n",
        "import warnings\n",
        "warnings.filterwarnings(\"ignore\")\n",
        "\n",
        "import re\n",
        "import nltk\n",
        "nltk.download('stopwords')\n",
        "from nltk.corpus import stopwords\n",
        "tokenizer = nltk.tokenize.punkt.PunktSentenceTokenizer()\n",
        "\n",
        "from sklearn.feature_extraction.text import CountVectorizer, TfidfVectorizer \n",
        "from sklearn.naive_bayes import MultinomialNB\n",
        "from sklearn.linear_model import LogisticRegression\n",
        "from sklearn.pipeline import make_pipeline\n",
        "from sklearn.utils import resample\n",
        "from sklearn.model_selection import train_test_split,cross_val_score,GridSearchCV,RandomizedSearchCV\n",
        "from sklearn.metrics import hamming_loss, accuracy_score, classification_report, roc_auc_score, confusion_matrix #Performance related\n",
        "from sklearn.preprocessing import LabelEncoder\n",
        "\n",
        "from tensorflow.keras.utils import to_categorical\n",
        "from keras.preprocessing.text import Tokenizer\n",
        "from keras.preprocessing.sequence import pad_sequences\n",
        "from keras.models import Sequential\n",
        "from keras.layers import Dense\n",
        "from keras.layers import Flatten, Masking\n",
        "from keras.layers import Embedding\n",
        "from keras.layers import Dropout\n",
        "from keras.layers.recurrent import SimpleRNN, LSTM\n",
        "from keras.layers import Conv1D\n",
        "from keras.layers import MaxPooling1D"
      ]
    },
    {
      "cell_type": "code",
      "execution_count": 5,
      "id": "2s8Ib5sFa0tr",
      "metadata": {
        "colab": {
          "base_uri": "https://localhost:8080/"
        },
        "id": "2s8Ib5sFa0tr",
        "outputId": "2183aa08-4ad9-4fff-f294-3dcd04f29de3"
      },
      "outputs": [
        {
          "name": "stdout",
          "output_type": "stream",
          "text": [
            "/content/drive/MyDrive/NLP_Project\n",
            "Drive already mounted at /content/drive; to attempt to forcibly remount, call drive.mount(\"/content/drive\", force_remount=True).\n"
          ]
        }
      ],
      "source": [
        "# Mounting on the drive to read data file\n",
        "from google.colab import drive\n",
        "%cd /content/drive/MyDrive/NLP_Project\n",
        "drive.mount('/content/drive')"
      ]
    },
    {
      "cell_type": "markdown",
      "id": "79bdd73c",
      "metadata": {
        "id": "79bdd73c"
      },
      "source": [
        "## Exploratory Data Analysis"
      ]
    },
    {
      "cell_type": "markdown",
      "id": "8812KlOOnLid",
      "metadata": {
        "id": "8812KlOOnLid"
      },
      "source": [
        "### Reading Data"
      ]
    },
    {
      "cell_type": "code",
      "execution_count": 6,
      "id": "ecce61ca",
      "metadata": {
        "id": "ecce61ca"
      },
      "outputs": [],
      "source": [
        "# Using pd.read_csv() for reading the data\n",
        "kindle_df_raw = pd.read_csv('kindle.csv',parse_dates=['reviewTime'])"
      ]
    },
    {
      "cell_type": "markdown",
      "id": "vsm-wyNVnOU_",
      "metadata": {
        "id": "vsm-wyNVnOU_"
      },
      "source": [
        "NOTE: The size of this dataset file is 275.2 MB. Therefore the above code where pd.read_csv( ) has been used to read the data works fine. However, for larger datasets of sizes varying from 500 MB to 5 TB or more, this method of reading data is not efficient. Hence, for such cases, the recoomendation is to use open( ) function for reading data with readlines( ) method."
      ]
    },
    {
      "cell_type": "markdown",
      "id": "_zHdBnDGqs-d",
      "metadata": {
        "id": "_zHdBnDGqs-d"
      },
      "source": [
        "### Exploring Data"
      ]
    },
    {
      "cell_type": "code",
      "execution_count": 7,
      "id": "6b8305f4",
      "metadata": {
        "colab": {
          "base_uri": "https://localhost:8080/"
        },
        "id": "6b8305f4",
        "outputId": "8a1462f0-837c-42d2-ae69-6d22c7dd872e"
      },
      "outputs": [
        {
          "data": {
            "text/plain": [
              "(410695, 11)"
            ]
          },
          "execution_count": 7,
          "metadata": {},
          "output_type": "execute_result"
        }
      ],
      "source": [
        "# Shape of the dataset\n",
        "kindle_df_raw.shape"
      ]
    },
    {
      "cell_type": "code",
      "execution_count": 8,
      "id": "b23566b7",
      "metadata": {
        "id": "b23566b7"
      },
      "outputs": [],
      "source": [
        "# Filtering for June onwards\n",
        "kindle_df = kindle_df_raw[kindle_df_raw.reviewTime >= '2014-06-01']"
      ]
    },
    {
      "cell_type": "code",
      "execution_count": 9,
      "id": "290662d5",
      "metadata": {
        "colab": {
          "base_uri": "https://localhost:8080/"
        },
        "id": "290662d5",
        "outputId": "0b99080a-aabd-497a-ce51-aa54da0d0fa6"
      },
      "outputs": [
        {
          "data": {
            "text/plain": [
              "(115093, 11)"
            ]
          },
          "execution_count": 9,
          "metadata": {},
          "output_type": "execute_result"
        }
      ],
      "source": [
        "# Shape of the dataset after filtering\n",
        "kindle_df.shape"
      ]
    },
    {
      "cell_type": "code",
      "execution_count": 10,
      "id": "933f0635",
      "metadata": {
        "id": "933f0635"
      },
      "outputs": [],
      "source": [
        "# Dropping the unnecessary columns\n",
        "kindle_df = kindle_df.iloc[:,[2,4,5,6,-2]]\n",
        "kindle_df = kindle_df.reset_index(drop='True')\n",
        "kindle_df.columns = ['product_id','rating','review','review_date','review_summary']"
      ]
    },
    {
      "cell_type": "code",
      "execution_count": 11,
      "id": "a1639a6f",
      "metadata": {
        "colab": {
          "base_uri": "https://localhost:8080/"
        },
        "id": "a1639a6f",
        "outputId": "0e47822e-1331-4a6c-8cb7-4a9097eb84e4",
        "scrolled": true
      },
      "outputs": [
        {
          "name": "stdout",
          "output_type": "stream",
          "text": [
            "<class 'pandas.core.frame.DataFrame'>\n",
            "RangeIndex: 115093 entries, 0 to 115092\n",
            "Data columns (total 5 columns):\n",
            " #   Column          Non-Null Count   Dtype         \n",
            "---  ------          --------------   -----         \n",
            " 0   product_id      115093 non-null  object        \n",
            " 1   rating          115093 non-null  int64         \n",
            " 2   review          115093 non-null  object        \n",
            " 3   review_date     115093 non-null  datetime64[ns]\n",
            " 4   review_summary  115093 non-null  object        \n",
            "dtypes: datetime64[ns](1), int64(1), object(3)\n",
            "memory usage: 4.4+ MB\n"
          ]
        }
      ],
      "source": [
        "kindle_df.info()"
      ]
    },
    {
      "cell_type": "code",
      "execution_count": 12,
      "id": "43689580",
      "metadata": {
        "colab": {
          "base_uri": "https://localhost:8080/",
          "height": 112
        },
        "id": "43689580",
        "outputId": "0a491c56-5727-47ec-928b-3855588472d3",
        "scrolled": true
      },
      "outputs": [
        {
          "data": {
            "text/html": [
              "\n",
              "  <div id=\"df-5c1b43a3-a41d-4a0e-943b-a167a29a6cf9\">\n",
              "    <div class=\"colab-df-container\">\n",
              "      <div>\n",
              "<style scoped>\n",
              "    .dataframe tbody tr th:only-of-type {\n",
              "        vertical-align: middle;\n",
              "    }\n",
              "\n",
              "    .dataframe tbody tr th {\n",
              "        vertical-align: top;\n",
              "    }\n",
              "\n",
              "    .dataframe thead th {\n",
              "        text-align: right;\n",
              "    }\n",
              "</style>\n",
              "<table border=\"1\" class=\"dataframe\">\n",
              "  <thead>\n",
              "    <tr style=\"text-align: right;\">\n",
              "      <th></th>\n",
              "      <th>product_id</th>\n",
              "      <th>rating</th>\n",
              "      <th>review</th>\n",
              "      <th>review_date</th>\n",
              "      <th>review_summary</th>\n",
              "    </tr>\n",
              "  </thead>\n",
              "  <tbody>\n",
              "    <tr>\n",
              "      <th>0</th>\n",
              "      <td>B000F83SZQ</td>\n",
              "      <td>4</td>\n",
              "      <td>I enjoyed this one tho I'm not sure why it's c...</td>\n",
              "      <td>2014-06-10</td>\n",
              "      <td>Nice old fashioned story</td>\n",
              "    </tr>\n",
              "    <tr>\n",
              "      <th>1</th>\n",
              "      <td>B000FC26RI</td>\n",
              "      <td>4</td>\n",
              "      <td>I thought it would be instructive to compare t...</td>\n",
              "      <td>2014-06-21</td>\n",
              "      <td>Compare and contrast for a better understanding</td>\n",
              "    </tr>\n",
              "  </tbody>\n",
              "</table>\n",
              "</div>\n",
              "      <button class=\"colab-df-convert\" onclick=\"convertToInteractive('df-5c1b43a3-a41d-4a0e-943b-a167a29a6cf9')\"\n",
              "              title=\"Convert this dataframe to an interactive table.\"\n",
              "              style=\"display:none;\">\n",
              "        \n",
              "  <svg xmlns=\"http://www.w3.org/2000/svg\" height=\"24px\"viewBox=\"0 0 24 24\"\n",
              "       width=\"24px\">\n",
              "    <path d=\"M0 0h24v24H0V0z\" fill=\"none\"/>\n",
              "    <path d=\"M18.56 5.44l.94 2.06.94-2.06 2.06-.94-2.06-.94-.94-2.06-.94 2.06-2.06.94zm-11 1L8.5 8.5l.94-2.06 2.06-.94-2.06-.94L8.5 2.5l-.94 2.06-2.06.94zm10 10l.94 2.06.94-2.06 2.06-.94-2.06-.94-.94-2.06-.94 2.06-2.06.94z\"/><path d=\"M17.41 7.96l-1.37-1.37c-.4-.4-.92-.59-1.43-.59-.52 0-1.04.2-1.43.59L10.3 9.45l-7.72 7.72c-.78.78-.78 2.05 0 2.83L4 21.41c.39.39.9.59 1.41.59.51 0 1.02-.2 1.41-.59l7.78-7.78 2.81-2.81c.8-.78.8-2.07 0-2.86zM5.41 20L4 18.59l7.72-7.72 1.47 1.35L5.41 20z\"/>\n",
              "  </svg>\n",
              "      </button>\n",
              "      \n",
              "  <style>\n",
              "    .colab-df-container {\n",
              "      display:flex;\n",
              "      flex-wrap:wrap;\n",
              "      gap: 12px;\n",
              "    }\n",
              "\n",
              "    .colab-df-convert {\n",
              "      background-color: #E8F0FE;\n",
              "      border: none;\n",
              "      border-radius: 50%;\n",
              "      cursor: pointer;\n",
              "      display: none;\n",
              "      fill: #1967D2;\n",
              "      height: 32px;\n",
              "      padding: 0 0 0 0;\n",
              "      width: 32px;\n",
              "    }\n",
              "\n",
              "    .colab-df-convert:hover {\n",
              "      background-color: #E2EBFA;\n",
              "      box-shadow: 0px 1px 2px rgba(60, 64, 67, 0.3), 0px 1px 3px 1px rgba(60, 64, 67, 0.15);\n",
              "      fill: #174EA6;\n",
              "    }\n",
              "\n",
              "    [theme=dark] .colab-df-convert {\n",
              "      background-color: #3B4455;\n",
              "      fill: #D2E3FC;\n",
              "    }\n",
              "\n",
              "    [theme=dark] .colab-df-convert:hover {\n",
              "      background-color: #434B5C;\n",
              "      box-shadow: 0px 1px 3px 1px rgba(0, 0, 0, 0.15);\n",
              "      filter: drop-shadow(0px 1px 2px rgba(0, 0, 0, 0.3));\n",
              "      fill: #FFFFFF;\n",
              "    }\n",
              "  </style>\n",
              "\n",
              "      <script>\n",
              "        const buttonEl =\n",
              "          document.querySelector('#df-5c1b43a3-a41d-4a0e-943b-a167a29a6cf9 button.colab-df-convert');\n",
              "        buttonEl.style.display =\n",
              "          google.colab.kernel.accessAllowed ? 'block' : 'none';\n",
              "\n",
              "        async function convertToInteractive(key) {\n",
              "          const element = document.querySelector('#df-5c1b43a3-a41d-4a0e-943b-a167a29a6cf9');\n",
              "          const dataTable =\n",
              "            await google.colab.kernel.invokeFunction('convertToInteractive',\n",
              "                                                     [key], {});\n",
              "          if (!dataTable) return;\n",
              "\n",
              "          const docLinkHtml = 'Like what you see? Visit the ' +\n",
              "            '<a target=\"_blank\" href=https://colab.research.google.com/notebooks/data_table.ipynb>data table notebook</a>'\n",
              "            + ' to learn more about interactive tables.';\n",
              "          element.innerHTML = '';\n",
              "          dataTable['output_type'] = 'display_data';\n",
              "          await google.colab.output.renderOutput(dataTable, element);\n",
              "          const docLink = document.createElement('div');\n",
              "          docLink.innerHTML = docLinkHtml;\n",
              "          element.appendChild(docLink);\n",
              "        }\n",
              "      </script>\n",
              "    </div>\n",
              "  </div>\n",
              "  "
            ],
            "text/plain": [
              "   product_id  rating                                             review  \\\n",
              "0  B000F83SZQ       4  I enjoyed this one tho I'm not sure why it's c...   \n",
              "1  B000FC26RI       4  I thought it would be instructive to compare t...   \n",
              "\n",
              "  review_date                                   review_summary  \n",
              "0  2014-06-10                         Nice old fashioned story  \n",
              "1  2014-06-21  Compare and contrast for a better understanding  "
            ]
          },
          "execution_count": 12,
          "metadata": {},
          "output_type": "execute_result"
        }
      ],
      "source": [
        "kindle_df.head(2)"
      ]
    },
    {
      "cell_type": "code",
      "execution_count": 13,
      "id": "548f8370",
      "metadata": {
        "colab": {
          "base_uri": "https://localhost:8080/"
        },
        "id": "548f8370",
        "outputId": "28f65ed4-a5b8-408c-ada2-842b0d67bf87"
      },
      "outputs": [
        {
          "name": "stdout",
          "output_type": "stream",
          "text": [
            "2014-06-01 00:00:00\n",
            "2014-07-23 00:00:00\n"
          ]
        }
      ],
      "source": [
        "print(kindle_df.review_date.min())\n",
        "print(kindle_df.review_date.max())"
      ]
    },
    {
      "cell_type": "code",
      "execution_count": 14,
      "id": "73916511",
      "metadata": {
        "colab": {
          "base_uri": "https://localhost:8080/",
          "height": 292
        },
        "id": "73916511",
        "outputId": "c818e212-0934-417e-c2ec-23577305ec1e"
      },
      "outputs": [
        {
          "data": {
            "image/png": "[encoded data removed]",
            "text/plain": [
              "<Figure size 432x288 with 1 Axes>"
            ]
          },
          "metadata": {
            "needs_background": "light"
          },
          "output_type": "display_data"
        }
      ],
      "source": [
        "# Rating Distribution\n",
        "kindle_df.rating.value_counts().plot(kind='bar')\n",
        "plt.title(\"Distribution of Ratings\")\n",
        "plt.xlabel(\"Ratings\")\n",
        "plt.ylabel(\"Count\")\n",
        "plt.show()"
      ]
    },
    {
      "cell_type": "markdown",
      "id": "4c1e5de6",
      "metadata": {
        "id": "4c1e5de6"
      },
      "source": [
        "### Label Assignment"
      ]
    },
    {
      "cell_type": "code",
      "execution_count": 15,
      "id": "33b790ba",
      "metadata": {
        "id": "33b790ba"
      },
      "outputs": [],
      "source": [
        "# Creating a backup file\n",
        "kindle_df1 = kindle_df.copy()"
      ]
    },
    {
      "cell_type": "markdown",
      "id": "6DcDOlxrqP1W",
      "metadata": {
        "id": "6DcDOlxrqP1W"
      },
      "source": [
        "### Preparing Dataset for Binary Classification\n",
        "\n",
        "- Excluding records with a neutral review rating of 3 for this binary classification sentiment analysis project\n",
        "- Grouping the records with positive review ratings of 4 and 5 as the sentiment \"1\" (positive) and those with negative review ratings of 1 and 2 as the sentiment \"0\" (negative)"
      ]
    },
    {
      "cell_type": "code",
      "execution_count": 16,
      "id": "963bee32",
      "metadata": {
        "id": "963bee32"
      },
      "outputs": [],
      "source": [
        "# Excluding the records with review rating 3 from the dataset\n",
        "kindle_df1 = kindle_df1[kindle_df1['rating'] != 3]"
      ]
    },
    {
      "cell_type": "code",
      "execution_count": 17,
      "id": "7f8420b8",
      "metadata": {
        "id": "7f8420b8"
      },
      "outputs": [],
      "source": [
        "# Creating 1 and 0 sentiment labels for the records\n",
        "kindle_df1['sentiment'] = kindle_df1['rating'].apply(lambda x: 1 if x>3 else 0)"
      ]
    },
    {
      "cell_type": "markdown",
      "id": "WDZxTazhrzDE",
      "metadata": {
        "id": "WDZxTazhrzDE"
      },
      "source": [
        "### Analyzing the distribution of both the sentiments"
      ]
    },
    {
      "cell_type": "code",
      "execution_count": 18,
      "id": "76fc2694",
      "metadata": {
        "colab": {
          "base_uri": "https://localhost:8080/",
          "height": 206
        },
        "id": "76fc2694",
        "outputId": "943f3b03-7728-4872-bcb9-6e6fcfb93b01"
      },
      "outputs": [
        {
          "data": {
            "text/html": [
              "\n",
              "  <div id=\"df-e5728abc-bec9-4870-8e39-234d06c41ea0\">\n",
              "    <div class=\"colab-df-container\">\n",
              "      <div>\n",
              "<style scoped>\n",
              "    .dataframe tbody tr th:only-of-type {\n",
              "        vertical-align: middle;\n",
              "    }\n",
              "\n",
              "    .dataframe tbody tr th {\n",
              "        vertical-align: top;\n",
              "    }\n",
              "\n",
              "    .dataframe thead th {\n",
              "        text-align: right;\n",
              "    }\n",
              "</style>\n",
              "<table border=\"1\" class=\"dataframe\">\n",
              "  <thead>\n",
              "    <tr style=\"text-align: right;\">\n",
              "      <th></th>\n",
              "      <th>review</th>\n",
              "      <th>sentiment</th>\n",
              "    </tr>\n",
              "  </thead>\n",
              "  <tbody>\n",
              "    <tr>\n",
              "      <th>0</th>\n",
              "      <td>I enjoyed this one tho I'm not sure why it's c...</td>\n",
              "      <td>1</td>\n",
              "    </tr>\n",
              "    <tr>\n",
              "      <th>1</th>\n",
              "      <td>I thought it would be instructive to compare t...</td>\n",
              "      <td>1</td>\n",
              "    </tr>\n",
              "    <tr>\n",
              "      <th>2</th>\n",
              "      <td>I live in a town adjacent a 'medium' sized cit...</td>\n",
              "      <td>1</td>\n",
              "    </tr>\n",
              "    <tr>\n",
              "      <th>3</th>\n",
              "      <td>A manual on desert island survival in its own ...</td>\n",
              "      <td>1</td>\n",
              "    </tr>\n",
              "    <tr>\n",
              "      <th>4</th>\n",
              "      <td>The author had a great story line. Brought eac...</td>\n",
              "      <td>1</td>\n",
              "    </tr>\n",
              "  </tbody>\n",
              "</table>\n",
              "</div>\n",
              "      <button class=\"colab-df-convert\" onclick=\"convertToInteractive('df-e5728abc-bec9-4870-8e39-234d06c41ea0')\"\n",
              "              title=\"Convert this dataframe to an interactive table.\"\n",
              "              style=\"display:none;\">\n",
              "        \n",
              "  <svg xmlns=\"http://www.w3.org/2000/svg\" height=\"24px\"viewBox=\"0 0 24 24\"\n",
              "       width=\"24px\">\n",
              "    <path d=\"M0 0h24v24H0V0z\" fill=\"none\"/>\n",
              "    <path d=\"M18.56 5.44l.94 2.06.94-2.06 2.06-.94-2.06-.94-.94-2.06-.94 2.06-2.06.94zm-11 1L8.5 8.5l.94-2.06 2.06-.94-2.06-.94L8.5 2.5l-.94 2.06-2.06.94zm10 10l.94 2.06.94-2.06 2.06-.94-2.06-.94-.94-2.06-.94 2.06-2.06.94z\"/><path d=\"M17.41 7.96l-1.37-1.37c-.4-.4-.92-.59-1.43-.59-.52 0-1.04.2-1.43.59L10.3 9.45l-7.72 7.72c-.78.78-.78 2.05 0 2.83L4 21.41c.39.39.9.59 1.41.59.51 0 1.02-.2 1.41-.59l7.78-7.78 2.81-2.81c.8-.78.8-2.07 0-2.86zM5.41 20L4 18.59l7.72-7.72 1.47 1.35L5.41 20z\"/>\n",
              "  </svg>\n",
              "      </button>\n",
              "      \n",
              "  <style>\n",
              "    .colab-df-container {\n",
              "      display:flex;\n",
              "      flex-wrap:wrap;\n",
              "      gap: 12px;\n",
              "    }\n",
              "\n",
              "    .colab-df-convert {\n",
              "      background-color: #E8F0FE;\n",
              "      border: none;\n",
              "      border-radius: 50%;\n",
              "      cursor: pointer;\n",
              "      display: none;\n",
              "      fill: #1967D2;\n",
              "      height: 32px;\n",
              "      padding: 0 0 0 0;\n",
              "      width: 32px;\n",
              "    }\n",
              "\n",
              "    .colab-df-convert:hover {\n",
              "      background-color: #E2EBFA;\n",
              "      box-shadow: 0px 1px 2px rgba(60, 64, 67, 0.3), 0px 1px 3px 1px rgba(60, 64, 67, 0.15);\n",
              "      fill: #174EA6;\n",
              "    }\n",
              "\n",
              "    [theme=dark] .colab-df-convert {\n",
              "      background-color: #3B4455;\n",
              "      fill: #D2E3FC;\n",
              "    }\n",
              "\n",
              "    [theme=dark] .colab-df-convert:hover {\n",
              "      background-color: #434B5C;\n",
              "      box-shadow: 0px 1px 3px 1px rgba(0, 0, 0, 0.15);\n",
              "      filter: drop-shadow(0px 1px 2px rgba(0, 0, 0, 0.3));\n",
              "      fill: #FFFFFF;\n",
              "    }\n",
              "  </style>\n",
              "\n",
              "      <script>\n",
              "        const buttonEl =\n",
              "          document.querySelector('#df-e5728abc-bec9-4870-8e39-234d06c41ea0 button.colab-df-convert');\n",
              "        buttonEl.style.display =\n",
              "          google.colab.kernel.accessAllowed ? 'block' : 'none';\n",
              "\n",
              "        async function convertToInteractive(key) {\n",
              "          const element = document.querySelector('#df-e5728abc-bec9-4870-8e39-234d06c41ea0');\n",
              "          const dataTable =\n",
              "            await google.colab.kernel.invokeFunction('convertToInteractive',\n",
              "                                                     [key], {});\n",
              "          if (!dataTable) return;\n",
              "\n",
              "          const docLinkHtml = 'Like what you see? Visit the ' +\n",
              "            '<a target=\"_blank\" href=https://colab.research.google.com/notebooks/data_table.ipynb>data table notebook</a>'\n",
              "            + ' to learn more about interactive tables.';\n",
              "          element.innerHTML = '';\n",
              "          dataTable['output_type'] = 'display_data';\n",
              "          await google.colab.output.renderOutput(dataTable, element);\n",
              "          const docLink = document.createElement('div');\n",
              "          docLink.innerHTML = docLinkHtml;\n",
              "          element.appendChild(docLink);\n",
              "        }\n",
              "      </script>\n",
              "    </div>\n",
              "  </div>\n",
              "  "
            ],
            "text/plain": [
              "                                              review  sentiment\n",
              "0  I enjoyed this one tho I'm not sure why it's c...          1\n",
              "1  I thought it would be instructive to compare t...          1\n",
              "2  I live in a town adjacent a 'medium' sized cit...          1\n",
              "3  A manual on desert island survival in its own ...          1\n",
              "4  The author had a great story line. Brought eac...          1"
            ]
          },
          "execution_count": 18,
          "metadata": {},
          "output_type": "execute_result"
        }
      ],
      "source": [
        "# The final raw dataset for further analysis\n",
        "kindle_df2 = kindle_df1[['review','sentiment']]\n",
        "kindle_df2.head(5)"
      ]
    },
    {
      "cell_type": "code",
      "execution_count": 19,
      "id": "9e1124ad",
      "metadata": {
        "colab": {
          "base_uri": "https://localhost:8080/"
        },
        "id": "9e1124ad",
        "outputId": "b21f5b0f-7271-4034-fa4b-35e83ac35deb"
      },
      "outputs": [
        {
          "data": {
            "text/plain": [
              "1    100379\n",
              "0      5347\n",
              "Name: sentiment, dtype: int64"
            ]
          },
          "execution_count": 19,
          "metadata": {},
          "output_type": "execute_result"
        }
      ],
      "source": [
        "kindle_df2.sentiment.value_counts()"
      ]
    },
    {
      "cell_type": "code",
      "execution_count": 20,
      "id": "4b57037a",
      "metadata": {
        "colab": {
          "base_uri": "https://localhost:8080/",
          "height": 292
        },
        "id": "4b57037a",
        "outputId": "87cdedf1-491f-4f82-dca6-987966dd9d2b"
      },
      "outputs": [
        {
          "data": {
            "image/png": "[encoded data removed]",
            "text/plain": [
              "<Figure size 432x288 with 1 Axes>"
            ]
          },
          "metadata": {
            "needs_background": "light"
          },
          "output_type": "display_data"
        }
      ],
      "source": [
        "# Bar plot for analyzing the distribution of the two sentiments\n",
        "kindle_df2.sentiment.value_counts().plot(kind='bar')\n",
        "plt.title(\"Distribution of the sentiments\")\n",
        "plt.xlabel(\"Sentiments\")\n",
        "plt.ylabel(\"Count\")\n",
        "plt.show()"
      ]
    },
    {
      "cell_type": "markdown",
      "id": "c24bc9b1",
      "metadata": {
        "id": "c24bc9b1"
      },
      "source": [
        "## Data Pre-processing"
      ]
    },
    {
      "cell_type": "markdown",
      "id": "GtnWy9a4sHcm",
      "metadata": {
        "id": "GtnWy9a4sHcm"
      },
      "source": [
        "### Defining functions for data pre-processing"
      ]
    },
    {
      "cell_type": "code",
      "execution_count": 21,
      "id": "23dcec90",
      "metadata": {
        "id": "23dcec90"
      },
      "outputs": [],
      "source": [
        "# Default stopwords list from package\n",
        "stop_words = set(stopwords.words('english'))\n",
        "stop_words_custom = list(stop_words)\n",
        "\n",
        "# Removing punctuation from stopwords\n",
        "temp = []\n",
        "for i in stop_words_custom:\n",
        "    temp.append(re.sub(r'[^a-z0-9\\s]', '', i))\n",
        "\n",
        "# Updating stopwords list to create a custome_stopwords list\n",
        "to_add = ['im', 'its']\n",
        "stops = [\"not\",\"doesnt\",\"didnt\",\"wouldnt\",\"shouldnt\",\"couldnt\",\"very\",\"too\",\"really\",\"so\"]\n",
        "custom_stopwords = list(set(temp) - set(stops) | set(to_add))"
      ]
    },
    {
      "cell_type": "code",
      "execution_count": 22,
      "id": "a5ba5181",
      "metadata": {
        "id": "a5ba5181"
      },
      "outputs": [],
      "source": [
        "# A function for cleaning data\n",
        "\n",
        "def clean(review_text):\n",
        "    review_text = str(review_text).lower() # Converting to lowercase\n",
        "    #review_text = re.sub('\\[.*?\\]', '', review_text)\n",
        "    review_text = re.sub('https?://\\S+|www\\.\\S+', '', review_text) # Removing URls\n",
        "    review_text = re.sub('<.*?>+', '', review_text) # Removing special characters\n",
        "    review_text = re.sub(r'[^a-z0-9\\s]', '', review_text) # Removing punctuation\n",
        "    review_text = re.sub('\\n', '', review_text) # Removing '\\n' character\n",
        "    review_text = re.sub('\\w*\\d\\w*', '', review_text)\n",
        "    review_text = re.sub('\\s+',' ', review_text) #Replaceing multiple spaces with asingle space\n",
        "    return(review_text)"
      ]
    },
    {
      "cell_type": "markdown",
      "id": "TYbTzLLQ7_vU",
      "metadata": {
        "id": "TYbTzLLQ7_vU"
      },
      "source": [
        "#### Cleaning Data"
      ]
    },
    {
      "cell_type": "code",
      "execution_count": 23,
      "id": "e1c66335",
      "metadata": {
        "id": "e1c66335"
      },
      "outputs": [],
      "source": [
        "kindle_df3 = kindle_df2.copy()\n",
        "kindle_df3['review'] = kindle_df3['review'].apply(clean)"
      ]
    },
    {
      "cell_type": "markdown",
      "id": "GMH_p5H-8CPA",
      "metadata": {
        "id": "GMH_p5H-8CPA"
      },
      "source": [
        "#### Removing Stopwords"
      ]
    },
    {
      "cell_type": "code",
      "execution_count": 24,
      "id": "6adb05ff",
      "metadata": {
        "id": "6adb05ff"
      },
      "outputs": [],
      "source": [
        "# Removing stopwords\n",
        "kindle_df3['reviews_cleaned'] = kindle_df3['review'].apply(lambda x: ' '.join([word for word in x.split() if word not in (custom_stopwords)]))\n"
      ]
    },
    {
      "cell_type": "code",
      "execution_count": 25,
      "id": "70bf0235",
      "metadata": {
        "colab": {
          "base_uri": "https://localhost:8080/",
          "height": 112
        },
        "id": "70bf0235",
        "outputId": "80a283ca-b00d-43f5-da62-5682084118ba",
        "scrolled": true
      },
      "outputs": [
        {
          "data": {
            "text/html": [
              "\n",
              "  <div id=\"df-71642c08-fb10-4134-8d8c-c01681752ef1\">\n",
              "    <div class=\"colab-df-container\">\n",
              "      <div>\n",
              "<style scoped>\n",
              "    .dataframe tbody tr th:only-of-type {\n",
              "        vertical-align: middle;\n",
              "    }\n",
              "\n",
              "    .dataframe tbody tr th {\n",
              "        vertical-align: top;\n",
              "    }\n",
              "\n",
              "    .dataframe thead th {\n",
              "        text-align: right;\n",
              "    }\n",
              "</style>\n",
              "<table border=\"1\" class=\"dataframe\">\n",
              "  <thead>\n",
              "    <tr style=\"text-align: right;\">\n",
              "      <th></th>\n",
              "      <th>reviews_cleaned</th>\n",
              "      <th>sentiment</th>\n",
              "    </tr>\n",
              "  </thead>\n",
              "  <tbody>\n",
              "    <tr>\n",
              "      <th>0</th>\n",
              "      <td>enjoyed one tho not sure called amy brewster m...</td>\n",
              "      <td>1</td>\n",
              "    </tr>\n",
              "    <tr>\n",
              "      <th>1</th>\n",
              "      <td>thought would instructive compare charles john...</td>\n",
              "      <td>1</td>\n",
              "    </tr>\n",
              "  </tbody>\n",
              "</table>\n",
              "</div>\n",
              "      <button class=\"colab-df-convert\" onclick=\"convertToInteractive('df-71642c08-fb10-4134-8d8c-c01681752ef1')\"\n",
              "              title=\"Convert this dataframe to an interactive table.\"\n",
              "              style=\"display:none;\">\n",
              "        \n",
              "  <svg xmlns=\"http://www.w3.org/2000/svg\" height=\"24px\"viewBox=\"0 0 24 24\"\n",
              "       width=\"24px\">\n",
              "    <path d=\"M0 0h24v24H0V0z\" fill=\"none\"/>\n",
              "    <path d=\"M18.56 5.44l.94 2.06.94-2.06 2.06-.94-2.06-.94-.94-2.06-.94 2.06-2.06.94zm-11 1L8.5 8.5l.94-2.06 2.06-.94-2.06-.94L8.5 2.5l-.94 2.06-2.06.94zm10 10l.94 2.06.94-2.06 2.06-.94-2.06-.94-.94-2.06-.94 2.06-2.06.94z\"/><path d=\"M17.41 7.96l-1.37-1.37c-.4-.4-.92-.59-1.43-.59-.52 0-1.04.2-1.43.59L10.3 9.45l-7.72 7.72c-.78.78-.78 2.05 0 2.83L4 21.41c.39.39.9.59 1.41.59.51 0 1.02-.2 1.41-.59l7.78-7.78 2.81-2.81c.8-.78.8-2.07 0-2.86zM5.41 20L4 18.59l7.72-7.72 1.47 1.35L5.41 20z\"/>\n",
              "  </svg>\n",
              "      </button>\n",
              "      \n",
              "  <style>\n",
              "    .colab-df-container {\n",
              "      display:flex;\n",
              "      flex-wrap:wrap;\n",
              "      gap: 12px;\n",
              "    }\n",
              "\n",
              "    .colab-df-convert {\n",
              "      background-color: #E8F0FE;\n",
              "      border: none;\n",
              "      border-radius: 50%;\n",
              "      cursor: pointer;\n",
              "      display: none;\n",
              "      fill: #1967D2;\n",
              "      height: 32px;\n",
              "      padding: 0 0 0 0;\n",
              "      width: 32px;\n",
              "    }\n",
              "\n",
              "    .colab-df-convert:hover {\n",
              "      background-color: #E2EBFA;\n",
              "      box-shadow: 0px 1px 2px rgba(60, 64, 67, 0.3), 0px 1px 3px 1px rgba(60, 64, 67, 0.15);\n",
              "      fill: #174EA6;\n",
              "    }\n",
              "\n",
              "    [theme=dark] .colab-df-convert {\n",
              "      background-color: #3B4455;\n",
              "      fill: #D2E3FC;\n",
              "    }\n",
              "\n",
              "    [theme=dark] .colab-df-convert:hover {\n",
              "      background-color: #434B5C;\n",
              "      box-shadow: 0px 1px 3px 1px rgba(0, 0, 0, 0.15);\n",
              "      filter: drop-shadow(0px 1px 2px rgba(0, 0, 0, 0.3));\n",
              "      fill: #FFFFFF;\n",
              "    }\n",
              "  </style>\n",
              "\n",
              "      <script>\n",
              "        const buttonEl =\n",
              "          document.querySelector('#df-71642c08-fb10-4134-8d8c-c01681752ef1 button.colab-df-convert');\n",
              "        buttonEl.style.display =\n",
              "          google.colab.kernel.accessAllowed ? 'block' : 'none';\n",
              "\n",
              "        async function convertToInteractive(key) {\n",
              "          const element = document.querySelector('#df-71642c08-fb10-4134-8d8c-c01681752ef1');\n",
              "          const dataTable =\n",
              "            await google.colab.kernel.invokeFunction('convertToInteractive',\n",
              "                                                     [key], {});\n",
              "          if (!dataTable) return;\n",
              "\n",
              "          const docLinkHtml = 'Like what you see? Visit the ' +\n",
              "            '<a target=\"_blank\" href=https://colab.research.google.com/notebooks/data_table.ipynb>data table notebook</a>'\n",
              "            + ' to learn more about interactive tables.';\n",
              "          element.innerHTML = '';\n",
              "          dataTable['output_type'] = 'display_data';\n",
              "          await google.colab.output.renderOutput(dataTable, element);\n",
              "          const docLink = document.createElement('div');\n",
              "          docLink.innerHTML = docLinkHtml;\n",
              "          element.appendChild(docLink);\n",
              "        }\n",
              "      </script>\n",
              "    </div>\n",
              "  </div>\n",
              "  "
            ],
            "text/plain": [
              "                                     reviews_cleaned  sentiment\n",
              "0  enjoyed one tho not sure called amy brewster m...          1\n",
              "1  thought would instructive compare charles john...          1"
            ]
          },
          "execution_count": 25,
          "metadata": {},
          "output_type": "execute_result"
        }
      ],
      "source": [
        "kindle_df4 = kindle_df3[['reviews_cleaned','sentiment']]\n",
        "kindle_df4.head(2)"
      ]
    },
    {
      "cell_type": "markdown",
      "id": "43fd9efa",
      "metadata": {
        "id": "43fd9efa"
      },
      "source": [
        "### Train-test split (70:30 ratio)"
      ]
    },
    {
      "cell_type": "code",
      "execution_count": 26,
      "id": "12acf449",
      "metadata": {
        "id": "12acf449"
      },
      "outputs": [],
      "source": [
        "X_train, X_test, y_train, y_test = train_test_split(kindle_df4['reviews_cleaned'], \n",
        "                                                    kindle_df4['sentiment'], \n",
        "                                                    test_size=0.3, random_state=42, \n",
        "                                                    stratify=kindle_df4['sentiment'].values)"
      ]
    },
    {
      "cell_type": "code",
      "execution_count": 27,
      "id": "0d0753eb",
      "metadata": {
        "id": "0d0753eb"
      },
      "outputs": [],
      "source": [
        "# Resetting index\n",
        "train_df = pd.DataFrame(dict(review = X_train, sentiment = y_train)).reset_index(drop=True)\n",
        "test_df = pd.DataFrame(dict(review = X_test, sentiment = y_test)).reset_index(drop=True)"
      ]
    },
    {
      "cell_type": "code",
      "execution_count": 28,
      "id": "7c0a2f66",
      "metadata": {
        "colab": {
          "base_uri": "https://localhost:8080/"
        },
        "id": "7c0a2f66",
        "outputId": "cfca1d1f-56a4-421e-c28c-50b637716b37",
        "scrolled": true
      },
      "outputs": [
        {
          "data": {
            "text/plain": [
              "(74008, 2)"
            ]
          },
          "execution_count": 28,
          "metadata": {},
          "output_type": "execute_result"
        }
      ],
      "source": [
        "train_df.shape"
      ]
    },
    {
      "cell_type": "code",
      "execution_count": 29,
      "id": "0c9bbeb4",
      "metadata": {
        "colab": {
          "base_uri": "https://localhost:8080/"
        },
        "id": "0c9bbeb4",
        "outputId": "2b03c044-8735-4bc7-ec20-d1b3cce8e347",
        "scrolled": true
      },
      "outputs": [
        {
          "data": {
            "text/plain": [
              "1    70265\n",
              "0     3743\n",
              "Name: sentiment, dtype: int64"
            ]
          },
          "execution_count": 29,
          "metadata": {},
          "output_type": "execute_result"
        }
      ],
      "source": [
        "train_df.sentiment.value_counts()"
      ]
    },
    {
      "cell_type": "markdown",
      "id": "a503944a",
      "metadata": {
        "id": "a503944a"
      },
      "source": [
        "### Upsampling train dataset"
      ]
    },
    {
      "cell_type": "code",
      "execution_count": 30,
      "id": "26f83e9c",
      "metadata": {
        "id": "26f83e9c"
      },
      "outputs": [],
      "source": [
        "review_pos =  train_df[(train_df['sentiment']== 1)]\n",
        "review_neg = train_df[(train_df['sentiment']== 0)]"
      ]
    },
    {
      "cell_type": "code",
      "execution_count": 31,
      "id": "84d2e51d",
      "metadata": {
        "id": "84d2e51d"
      },
      "outputs": [],
      "source": [
        "# Upsampling train dataset\n",
        "review_neg_upsample = resample(review_neg, \n",
        "                                 replace=True,    # sample with replacement\n",
        "                                 n_samples= 70265, # to match majority class\n",
        "                                 random_state=42)  # reproducible results"
      ]
    },
    {
      "cell_type": "code",
      "execution_count": 32,
      "id": "6e770654",
      "metadata": {
        "id": "6e770654"
      },
      "outputs": [],
      "source": [
        "# Upsampled train dataset\n",
        "kindle_df_train = pd.concat([review_pos,review_neg_upsample])"
      ]
    },
    {
      "cell_type": "code",
      "execution_count": 33,
      "id": "bd88b007",
      "metadata": {
        "colab": {
          "base_uri": "https://localhost:8080/"
        },
        "id": "bd88b007",
        "outputId": "271f3237-1ede-49a7-a51d-ecc71ac27fc4"
      },
      "outputs": [
        {
          "data": {
            "text/plain": [
              "(140530, 2)"
            ]
          },
          "execution_count": 33,
          "metadata": {},
          "output_type": "execute_result"
        }
      ],
      "source": [
        "kindle_df_train.shape"
      ]
    },
    {
      "cell_type": "code",
      "execution_count": 34,
      "id": "202a2ea9",
      "metadata": {
        "colab": {
          "base_uri": "https://localhost:8080/"
        },
        "id": "202a2ea9",
        "outputId": "97524b60-d638-4794-a410-a2dea5d7d18f"
      },
      "outputs": [
        {
          "data": {
            "text/plain": [
              "1    70265\n",
              "0    70265\n",
              "Name: sentiment, dtype: int64"
            ]
          },
          "execution_count": 34,
          "metadata": {},
          "output_type": "execute_result"
        }
      ],
      "source": [
        "# 50:50 ratio of records for the two sentiments\n",
        "kindle_df_train.sentiment.value_counts()"
      ]
    },
    {
      "cell_type": "markdown",
      "id": "e2138793",
      "metadata": {
        "id": "e2138793"
      },
      "source": [
        "## Baseline Models"
      ]
    },
    {
      "cell_type": "code",
      "execution_count": 35,
      "id": "c55bca59",
      "metadata": {
        "id": "c55bca59"
      },
      "outputs": [],
      "source": [
        "# Upsampled train sets used to feed into the models\n",
        "X_train_up = kindle_df_train['review']\n",
        "y_train_up = kindle_df_train[\"sentiment\"]"
      ]
    },
    {
      "cell_type": "markdown",
      "id": "55689db1",
      "metadata": {
        "id": "55689db1"
      },
      "source": [
        "### Naive Bayes"
      ]
    },
    {
      "cell_type": "code",
      "execution_count": 40,
      "id": "37517bbf",
      "metadata": {
        "id": "37517bbf"
      },
      "outputs": [],
      "source": [
        "# Creating a pipeline\n",
        "model_nb = make_pipeline(TfidfVectorizer(ngram_range = (2,2)), \n",
        "                         MultinomialNB(alpha=1))"
      ]
    },
    {
      "cell_type": "code",
      "execution_count": 41,
      "id": "5f06b82d",
      "metadata": {
        "colab": {
          "base_uri": "https://localhost:8080/"
        },
        "id": "5f06b82d",
        "outputId": "612c99d6-e8cd-46a7-d4e5-0726b066c148"
      },
      "outputs": [
        {
          "name": "stdout",
          "output_type": "stream",
          "text": [
            "Accuracy: 95.03%\n"
          ]
        }
      ],
      "source": [
        "# Fitting the model with training set\n",
        "model_nb.fit(X_train_up, y_train_up)\n",
        "\n",
        "# Predicting the labels for the test set\n",
        "labels_nb = model_nb.predict(X_test)\n",
        "\n",
        "# Accuracy\n",
        "print(f'Accuracy: {round(accuracy_score(y_test, labels_nb)*100,2)}%')"
      ]
    },
    {
      "cell_type": "code",
      "execution_count": 123,
      "id": "b15f8095",
      "metadata": {
        "colab": {
          "base_uri": "https://localhost:8080/",
          "height": 295
        },
        "id": "b15f8095",
        "outputId": "a7f5612e-029b-495a-de8e-d8ebad4710a4"
      },
      "outputs": [
        {
          "data": {
            "image/png": "[encoded data removed]",
            "text/plain": [
              "<Figure size 432x288 with 2 Axes>"
            ]
          },
          "metadata": {
            "needs_background": "light"
          },
          "output_type": "display_data"
        }
      ],
      "source": [
        "# Creating the confusion matrix\n",
        "conf_mat = confusion_matrix(y_test, labels_nb, normalize=\"true\")\n",
        "\n",
        "# Plotting the confusion matrix\n",
        "sns.heatmap(conf_mat.T, annot=True, fmt=\".0%\", cmap=\"cividis\")\n",
        "plt.title('Confusion Matrix')\n",
        "plt.xlabel(\"True label\")\n",
        "plt.ylabel(\"Predicted label\")\n",
        "plt.show()"
      ]
    },
    {
      "cell_type": "markdown",
      "id": "c5ab2cac",
      "metadata": {
        "id": "c5ab2cac"
      },
      "source": [
        "### Logistic Regression"
      ]
    },
    {
      "cell_type": "code",
      "execution_count": 45,
      "id": "c2f7bef7",
      "metadata": {
        "colab": {
          "base_uri": "https://localhost:8080/"
        },
        "id": "c2f7bef7",
        "outputId": "0ea0f817-43ee-44d2-fe5d-907c6bdb3d37",
        "scrolled": true
      },
      "outputs": [
        {
          "name": "stdout",
          "output_type": "stream",
          "text": [
            "ROC AUC Score: 78.63%\n",
            "Accuracy: 96.75%\n",
            "Smallest Coefs:\n",
            "['not worth' 'waste time' 'couldnt finish' 'couldnt get' 'poorly written'\n",
            " 'not recommend' 'waste money' 'not well' 'two stars' 'glad free']\n",
            "\n",
            "Largest Coefs: \n",
            "['not put' 'cant wait' 'loved book' 'must read' 'great read' 'great book'\n",
            " 'highly recommend' 'look forward' 'highly recommended' 'good read']\n"
          ]
        }
      ],
      "source": [
        "# Fitting the CountVectorizer to the training data\n",
        "# Transforming the documents in the training data to a document-term matrix\n",
        "vect = CountVectorizer(ngram_range= (2,2)).fit(X_train_up)\n",
        "X_train_vectorized = vect.transform(X_train_up)\n",
        "\n",
        "# Training the model\n",
        "model_logit = LogisticRegression()\n",
        "\n",
        "# Fitting the model\n",
        "model_logit.fit(X_train_vectorized, y_train_up)\n",
        "\n",
        "# Predicting the transformed test documents\n",
        "predictions = model_logit.predict(vect.transform(X_test))\n",
        "\n",
        "# Accuracy\n",
        "print(f'ROC AUC Score: {round(roc_auc_score(y_test, predictions)*100,2)}%')\n",
        "print(f'Accuracy: {round(accuracy_score(y_test, predictions)*100,2)}%')\n",
        "\n",
        "# Getting the feature names as numpy array\n",
        "feature_names = np.array(vect.get_feature_names())\n",
        "\n",
        "# Sorting the coefficients from the model\n",
        "sorted_coef_index = model_logit.coef_[0].argsort()\n",
        "\n",
        "# Finding the 10 smallest and 10 largest coefficients\n",
        "# The 10 largest coefficients are being indexed using [:-11:-1] so the list returned is in order of largest to smallest\n",
        "print('Smallest Coefs:\\n{}\\n'.format(feature_names[sorted_coef_index[:10]]))\n",
        "print('Largest Coefs: \\n{}'.format(feature_names[sorted_coef_index[:-11:-1]]))"
      ]
    },
    {
      "cell_type": "code",
      "execution_count": 51,
      "id": "455a85ad",
      "metadata": {
        "colab": {
          "base_uri": "https://localhost:8080/",
          "height": 295
        },
        "id": "455a85ad",
        "outputId": "047707ad-0b98-4272-bdc6-fc7bab15aa53"
      },
      "outputs": [
        {
          "data": {
            "image/png": "[encoded data removed]",
            "text/plain": [
              "<Figure size 432x288 with 2 Axes>"
            ]
          },
          "metadata": {
            "needs_background": "light"
          },
          "output_type": "display_data"
        }
      ],
      "source": [
        "# Creating the confusion matrix\n",
        "conf_mat = confusion_matrix(y_test, predictions, normalize=\"true\")\n",
        "\n",
        "# Plotting the confusion matrix\n",
        "sns.heatmap(conf_mat.T, annot=True, fmt=\".0%\", cmap=\"cividis\")\n",
        "plt.title('Confusion Matrix')\n",
        "plt.xlabel(\"True label\")\n",
        "plt.ylabel(\"Predicted label\")\n",
        "plt.show()"
      ]
    },
    {
      "cell_type": "markdown",
      "id": "UMgdC-OOt87l",
      "metadata": {
        "id": "UMgdC-OOt87l"
      },
      "source": [
        "## Sequential Models"
      ]
    },
    {
      "cell_type": "markdown",
      "id": "ipeOkVtQuP4b",
      "metadata": {
        "id": "ipeOkVtQuP4b"
      },
      "source": [
        "### Deep Learning Neural Networks"
      ]
    },
    {
      "cell_type": "markdown",
      "id": "WbRD_KAuAJC0",
      "metadata": {
        "id": "WbRD_KAuAJC0"
      },
      "source": [
        "#### Word Embeddings"
      ]
    },
    {
      "cell_type": "markdown",
      "id": "i47mLPQnveiw",
      "metadata": {
        "id": "i47mLPQnveiw"
      },
      "source": [
        "NOTE: The cleaned dataset without punctuations, removing stopwords and extra speces is: kindle_df4"
      ]
    },
    {
      "cell_type": "code",
      "execution_count": 52,
      "id": "bJHP6oBIAHdP",
      "metadata": {
        "id": "bJHP6oBIAHdP"
      },
      "outputs": [],
      "source": [
        "# Tokenizing the documents\n",
        "tokenizer_dl = Tokenizer(oov_token=\"UNKNOWN_TOKEN\")\n",
        "tokenizer_dl.fit_on_texts(kindle_df4['reviews_cleaned'])"
      ]
    },
    {
      "cell_type": "code",
      "execution_count": 53,
      "id": "_8bt4cmlAGy3",
      "metadata": {
        "colab": {
          "base_uri": "https://localhost:8080/"
        },
        "id": "_8bt4cmlAGy3",
        "outputId": "57409a62-d4f3-47ff-cc10-83494d157cba"
      },
      "outputs": [
        {
          "name": "stdout",
          "output_type": "stream",
          "text": [
            "Vocab size is 210440 unique tokens.\n"
          ]
        }
      ],
      "source": [
        "# Calculating the size of vocabulary\n",
        "vocab_size = int(len(tokenizer_dl.word_index) * 1.3)\n",
        "print(f\"Vocab size is {vocab_size} unique tokens.\")"
      ]
    },
    {
      "cell_type": "markdown",
      "id": "_mJ6ufHdCscH",
      "metadata": {
        "id": "_mJ6ufHdCscH"
      },
      "source": [
        "#### Integer Encoding the Documents"
      ]
    },
    {
      "cell_type": "code",
      "execution_count": 54,
      "id": "1EBAPiLlAF_J",
      "metadata": {
        "id": "1EBAPiLlAF_J"
      },
      "outputs": [],
      "source": [
        "# A function to integer encode the documents\n",
        "def integer_encode_documents(docs, tokenizer):\n",
        "    return tokenizer_dl.texts_to_sequences(docs)"
      ]
    },
    {
      "cell_type": "code",
      "execution_count": 55,
      "id": "e46ae904",
      "metadata": {
        "id": "e46ae904"
      },
      "outputs": [],
      "source": [
        "# Integer encoding the documents\n",
        "encoded_docs = integer_encode_documents(kindle_df4['reviews_cleaned'], tokenizer_dl)"
      ]
    },
    {
      "cell_type": "code",
      "execution_count": 56,
      "id": "K3nzd5ymFEyV",
      "metadata": {
        "colab": {
          "base_uri": "https://localhost:8080/",
          "height": 295
        },
        "id": "K3nzd5ymFEyV",
        "outputId": "a9fbaefb-1a9b-4ff4-a813-1c1505708bd3"
      },
      "outputs": [
        {
          "data": {
            "image/png": "[encoded data removed]",
            "text/plain": [
              "<Figure size 432x288 with 1 Axes>"
            ]
          },
          "metadata": {
            "needs_background": "light"
          },
          "output_type": "display_data"
        }
      ],
      "source": [
        "# A histogram for integer encoded documents\n",
        "plt.hist(list(map(lambda doc: len(doc), encoded_docs)))\n",
        "plt.xlabel('Length of Documents')\n",
        "plt.ylabel('Encoded Documents')\n",
        "plt.title('Integer Encoding')\n",
        "plt.show()"
      ]
    },
    {
      "cell_type": "markdown",
      "id": "vvCg_-7LAe8I",
      "metadata": {
        "id": "vvCg_-7LAe8I"
      },
      "source": [
        "#### Maximum Token Length"
      ]
    },
    {
      "cell_type": "code",
      "execution_count": 58,
      "id": "RtDfOOIxFEvs",
      "metadata": {
        "id": "RtDfOOIxFEvs"
      },
      "outputs": [],
      "source": [
        "# A function to get the maximum token per document\n",
        "def get_max_token_length_per_doc(docs: List[str], tokenizer)-> int:\n",
        "  return max(list(map(lambda doc: len(doc), tokenizer_dl.texts_to_sequences(docs))))"
      ]
    },
    {
      "cell_type": "code",
      "execution_count": 59,
      "id": "H5STglYRGP-e",
      "metadata": {
        "id": "H5STglYRGP-e"
      },
      "outputs": [],
      "source": [
        "cleaned_reviews_ls = list(kindle_df4['reviews_cleaned'].values)"
      ]
    },
    {
      "cell_type": "code",
      "execution_count": 60,
      "id": "NKuYYDycFEtP",
      "metadata": {
        "colab": {
          "base_uri": "https://localhost:8080/"
        },
        "id": "NKuYYDycFEtP",
        "outputId": "aa694408-042f-4021-eb4e-430568868337"
      },
      "outputs": [
        {
          "data": {
            "text/plain": [
              "1554"
            ]
          },
          "execution_count": 60,
          "metadata": {},
          "output_type": "execute_result"
        }
      ],
      "source": [
        "# Getting the maximum length in terms of token length\n",
        "max_length = get_max_token_length_per_doc(cleaned_reviews_ls, tokenizer_dl)\n",
        "max_length"
      ]
    },
    {
      "cell_type": "markdown",
      "id": "SMSCOOW5AWLi",
      "metadata": {
        "id": "SMSCOOW5AWLi"
      },
      "source": [
        "#### Padding the documents"
      ]
    },
    {
      "cell_type": "code",
      "execution_count": 61,
      "id": "ThHvhzllFEqX",
      "metadata": {
        "id": "ThHvhzllFEqX"
      },
      "outputs": [],
      "source": [
        "# Padding the documents\n",
        "padded_docs = pad_sequences(encoded_docs, maxlen = max_length, padding='post')"
      ]
    },
    {
      "cell_type": "markdown",
      "id": "REnYLEVnAsJT",
      "metadata": {
        "id": "REnYLEVnAsJT"
      },
      "source": [
        "#### Embedding Size"
      ]
    },
    {
      "cell_type": "markdown",
      "id": "v1m3ibeeu6cW",
      "metadata": {
        "id": "v1m3ibeeu6cW"
      },
      "source": [
        "NOTE: For deciding embedding size - A good rule of thumb is atleast 4th root of vocabulary length. \n",
        "\n",
        "Using this as basis, we decided to use an embedding size of 50, to improve the learning."
      ]
    },
    {
      "cell_type": "code",
      "execution_count": 62,
      "id": "yZxsR-SaLPV3",
      "metadata": {
        "colab": {
          "base_uri": "https://localhost:8080/"
        },
        "id": "yZxsR-SaLPV3",
        "outputId": "64b41af4-6adf-481f-90b6-63c07ac77a6d"
      },
      "outputs": [
        {
          "name": "stdout",
          "output_type": "stream",
          "text": [
            "20\n"
          ]
        }
      ],
      "source": [
        "# Fourth root of vocabulary size(length)\n",
        "print(int(161877**(1/4)))"
      ]
    },
    {
      "cell_type": "code",
      "execution_count": 64,
      "id": "92gC2z45Pjz5",
      "metadata": {
        "id": "92gC2z45Pjz5"
      },
      "outputs": [],
      "source": [
        "labels_dl = np.array(kindle_df4['sentiment'])"
      ]
    },
    {
      "cell_type": "code",
      "execution_count": 86,
      "id": "a38yjRc5O5pP",
      "metadata": {
        "id": "a38yjRc5O5pP"
      },
      "outputs": [],
      "source": [
        "X_train, X_test, y_train, y_test = train_test_split(padded_docs,\n",
        "                                                    labels_dl, \n",
        "                                                    test_size=0.3,\n",
        "                                                    stratify=labels_dl)"
      ]
    },
    {
      "cell_type": "code",
      "execution_count": 87,
      "id": "ebMeydH3FEnd",
      "metadata": {
        "colab": {
          "base_uri": "https://localhost:8080/"
        },
        "id": "ebMeydH3FEnd",
        "outputId": "525a669d-b106-48e2-8af1-8a8c991381bd"
      },
      "outputs": [
        {
          "name": "stdout",
          "output_type": "stream",
          "text": [
            "Model: \"sequential_6\"\n",
            "_________________________________________________________________\n",
            " Layer (type)                Output Shape              Param #   \n",
            "=================================================================\n",
            " embedding_6 (Embedding)     (None, 1554, 50)          10522000  \n",
            "                                                                 \n",
            " flatten_6 (Flatten)         (None, 77700)             0         \n",
            "                                                                 \n",
            " dense_13 (Dense)            (None, 50)                3885050   \n",
            "                                                                 \n",
            " dropout_7 (Dropout)         (None, 50)                0         \n",
            "                                                                 \n",
            " dense_14 (Dense)            (None, 1)                 51        \n",
            "                                                                 \n",
            "=================================================================\n",
            "Total params: 14,407,101\n",
            "Trainable params: 14,407,101\n",
            "Non-trainable params: 0\n",
            "_________________________________________________________________\n"
          ]
        }
      ],
      "source": [
        "# Defining hyperparameters\n",
        "embedding_size = 50\n",
        "\n",
        "# Defining the model\n",
        "model = Sequential()\n",
        "model.add(Embedding(vocab_size, embedding_size, input_length=max_length))\n",
        "model.add(Flatten())\n",
        "\n",
        "model.add(Dense(50, activation='relu'))\n",
        "model.add(Dropout(0.2))\n",
        "\n",
        "model.add(Dense(1, activation='sigmoid')) \n",
        "model.compile(optimizer='adam', loss='binary_crossentropy', metrics=['acc'])\n",
        "\n",
        "# Summarizing the model\n",
        "model.summary()"
      ]
    },
    {
      "cell_type": "code",
      "execution_count": 88,
      "id": "IZDm1SROFEEM",
      "metadata": {
        "colab": {
          "base_uri": "https://localhost:8080/"
        },
        "id": "IZDm1SROFEEM",
        "outputId": "81b21c68-a1d6-4f39-bc7b-fc584113bed8"
      },
      "outputs": [
        {
          "name": "stdout",
          "output_type": "stream",
          "text": [
            "Epoch 1/2\n",
            "2313/2313 [==============================] - 355s 153ms/step - loss: 0.1182 - acc: 0.9600\n",
            "Epoch 2/2\n",
            "2313/2313 [==============================] - 353s 153ms/step - loss: 0.0485 - acc: 0.9830\n",
            "992/992 [==============================] - 12s 12ms/step - loss: 0.0923 - acc: 0.9678\n",
            "Accuracy: 96.784163\n"
          ]
        }
      ],
      "source": [
        "# Fitting the model\n",
        "model.fit(X_train, y_train, epochs=2)\n",
        "\n",
        "# Evaluating the model\n",
        "loss, accuracy = model.evaluate(X_test, y_test, verbose=1)\n",
        "print('Accuracy: %f' % (accuracy*100))"
      ]
    },
    {
      "cell_type": "markdown",
      "id": "vKzf5K6Yd6wo",
      "metadata": {
        "id": "vKzf5K6Yd6wo"
      },
      "source": [
        "Evaluating the model"
      ]
    },
    {
      "cell_type": "code",
      "execution_count": 89,
      "id": "QD2GunMzd6G2",
      "metadata": {
        "colab": {
          "base_uri": "https://localhost:8080/"
        },
        "id": "QD2GunMzd6G2",
        "outputId": "2d99b171-d0c2-4b5e-c6c0-cba0e3f77032"
      },
      "outputs": [
        {
          "name": "stdout",
          "output_type": "stream",
          "text": [
            "Accuracy: 97.0%\n"
          ]
        }
      ],
      "source": [
        "# Predicting on test data\n",
        "y_pred = np.where(model.predict(X_test)[:]>=0.5,1,0)\n",
        "# Evaluate the model\n",
        "score = accuracy_score(y_test,y_pred)\n",
        "print(f'Accuracy: {round(score,2)*100}%')"
      ]
    },
    {
      "cell_type": "markdown",
      "id": "YzCj0q6Ktnii",
      "metadata": {
        "id": "YzCj0q6Ktnii"
      },
      "source": [
        "Predicting on test data"
      ]
    },
    {
      "cell_type": "code",
      "execution_count": 102,
      "id": "tBPHjCpyt0rN",
      "metadata": {
        "id": "tBPHjCpyt0rN"
      },
      "outputs": [],
      "source": [
        "import spacy\n",
        "nlp = spacy.load(\"en_core_web_sm\", disable = ['ner', 'tagger', 'parser'])\n",
        "\n",
        "\n",
        "test_docs = [\"I'd never read any of the Amy Brewster mysteries until this one..  So I am really hooked on them now.\",\n",
        " 'The arabian fantasy, slavegirl trained to seduce and submit herself. Not to my taste, too much sex and not very erotic. Kind of mechanical.........',\n",
        " \"Admittedly, I only read the first few stories.  They seemed disjointed, didn't flow, or seem to have a point.  It was written as if it were &#34;I tripped as I walked down the street.  The bus went downtown.  The end&#34;  Perhaps they just didn't translate well, or maybe they put the worst stories in the beginning.\",\n",
        " 'I should have know by the cover it was a bit out of my taste for books.  It started out good, but i got bored before i finished.mary',\n",
        " '2 star, quality of writing okay, story okay, female character, if you can call it a character, is horrid.  2/3 through book and I know she has freckles, brown hair, has the same ugly brown dress on, and is angry.  Who cares what happens to her?  Not me.  The male character is a better character.',\n",
        " \"This was a fairly interesting read.  It had old- style terminology.I was glad to get  to read a story that doesn't have coarse, crasslanguage.  I read for fun and relaxation......I like the free ebooksbecause I can check out a writer and decide if they are intriguing,innovative, and have enough of the command of Englishthat they can convey the story without crude language.\",\n",
        " 'This one promises to be another good book. I have been reading through the series and have not gotten this far yet.',\n",
        " \"I think I have this one in both book and audio. It is a good story either way. good ol' Maul.\",\n",
        " \"Maris' story is 2 1/2 stars for me, the bump to a half star owing to the gathering of the family at the end. The story, unfortunately, suffers from telling and not showing plot details. The chemistry between Maris and Alex suffers from this as well. The reader is thrown into the present without adequate descriptions of past meetings and attraction between the couple. (The suspenseful aspect to the novel also suffers from this.) Flashback scenes would have helped tremendously. Those familiar with the Mackenzie Family books expect instant attraction between the hero and heroine, but it's just not developed in this one.\",\n",
        " 'I really enjoyed the book. Had the normal back against the wall moments. It even had laugh out loud moments.',\n",
        " 'Nothing against the author or the story. From the beginning I thought it was going to be an awesome story.I just cant do the historical fiction....I cant get passed all those Thee and Thou...spoils a good story for me....',\n",
        " 'A beautiful in-depth character description makes it like a fast pacing movie. It is a pity Mr Merwin did not write 30 instead only 3 of the Amy Brewster mysteries.',\n",
        " 'If you like period pieces - clothing, lingo, you will enjoy this mystery.  Author had me guessing at least 2/3 of the way through.',\n",
        " \"I have not received one of my fourteen free copy of the NYT so please end my non subscription at this time, meaning I'm not agreeable to any charges being placed against my account for NYT.  Thank you.  Douglas\",\n",
        " \"I enjoy vintage books and movies so I enjoyed reading this book.  The plot was unusual.  Don't think killing someone in self-defense but leaving the scene and the body without notifying the police or hitting someone in the jaw to knock them out would wash today.Still it was a good read for me.\",\n",
        " ]\n",
        "\n",
        "test_docs = list(\n",
        "    map(lambda doc: \" \".join([token.text for token in nlp(doc) if not token.is_stop]), test_docs))\n",
        "\n",
        "encoded_test_sample = integer_encode_documents(test_docs, tokenizer_dl)\n",
        "\n",
        "padded_test_docs = pad_sequences(encoded_test_sample, maxlen=max_length, padding='post')"
      ]
    },
    {
      "cell_type": "code",
      "execution_count": 103,
      "id": "obvYN2-mt4x1",
      "metadata": {
        "colab": {
          "base_uri": "https://localhost:8080/"
        },
        "id": "obvYN2-mt4x1",
        "outputId": "12e313a6-ff01-4f82-d125-1f0674948122"
      },
      "outputs": [
        {
          "data": {
            "text/plain": [
              "array([[0.94792056],\n",
              "       [0.3995532 ],\n",
              "       [0.82268393],\n",
              "       [0.4607838 ],\n",
              "       [0.01785573],\n",
              "       [0.9926038 ],\n",
              "       [0.9487511 ],\n",
              "       [0.46120083],\n",
              "       [0.98131347],\n",
              "       [0.9979147 ],\n",
              "       [0.8825573 ],\n",
              "       [0.5605101 ],\n",
              "       [0.8417435 ],\n",
              "       [0.93510824],\n",
              "       [0.9987896 ]], dtype=float32)"
            ]
          },
          "execution_count": 103,
          "metadata": {},
          "output_type": "execute_result"
        }
      ],
      "source": [
        "model.predict(padded_test_docs)"
      ]
    },
    {
      "cell_type": "markdown",
      "id": "1A_n5WGfVudv",
      "metadata": {
        "id": "1A_n5WGfVudv"
      },
      "source": [
        "### One-Dimensional Convolution Neural Network"
      ]
    },
    {
      "cell_type": "code",
      "execution_count": 81,
      "id": "VxMMQD_4VvrS",
      "metadata": {
        "id": "VxMMQD_4VvrS"
      },
      "outputs": [],
      "source": [
        "# Defining the model\n",
        "model_cnn = Sequential()\n",
        "model_cnn.add(Embedding(vocab_size, 32, input_length=max_length))\n",
        "\n",
        "model_cnn.add(Conv1D(filters=32, kernel_size=3, activation='relu'))\n",
        "model_cnn.add(MaxPooling1D(pool_size=2, strides=1))\n",
        "\n",
        "model.add(Dense(50, activation='relu'))\n",
        "model.add(Dropout(0.2))\n",
        "\n",
        "model_cnn.add(Flatten())\n",
        "\n",
        "# model_cnn.add(Dense(50, activation='relu'))\n",
        "# model_cnn.add(Dropout(0.2))\n",
        "\n",
        "# model_cnn.add(Dense(50, activation='relu'))\n",
        "# model_cnn.add(Dropout(0.5))\n",
        "\n",
        "# model_cnn.add(Dense(50, activation='relu'))\n",
        "# model_cnn.add(Dropout(0.5))\n",
        "\n",
        "model_cnn.add(Dense(1, activation='sigmoid'))"
      ]
    },
    {
      "cell_type": "code",
      "execution_count": 82,
      "id": "u9CuRLVcVvo6",
      "metadata": {
        "colab": {
          "base_uri": "https://localhost:8080/"
        },
        "id": "u9CuRLVcVvo6",
        "outputId": "d23dd420-6b5a-4076-cf84-bc6c88e4742f"
      },
      "outputs": [
        {
          "name": "stdout",
          "output_type": "stream",
          "text": [
            "Model: \"sequential_5\"\n",
            "_________________________________________________________________\n",
            " Layer (type)                Output Shape              Param #   \n",
            "=================================================================\n",
            " embedding_5 (Embedding)     (None, 1554, 32)          6734080   \n",
            "                                                                 \n",
            " conv1d_3 (Conv1D)           (None, 1552, 32)          3104      \n",
            "                                                                 \n",
            " max_pooling1d_3 (MaxPooling  (None, 1551, 32)         0         \n",
            " 1D)                                                             \n",
            "                                                                 \n",
            " flatten_5 (Flatten)         (None, 49632)             0         \n",
            "                                                                 \n",
            " dense_12 (Dense)            (None, 1)                 49633     \n",
            "                                                                 \n",
            "=================================================================\n",
            "Total params: 6,786,817\n",
            "Trainable params: 6,786,817\n",
            "Non-trainable params: 0\n",
            "_________________________________________________________________\n"
          ]
        }
      ],
      "source": [
        "# Compiling the model\n",
        "model_cnn.compile(optimizer='adam', loss=\"binary_crossentropy\", metrics=['acc'])\n",
        "\n",
        "# Summarizing the model\n",
        "model_cnn.summary()"
      ]
    },
    {
      "cell_type": "code",
      "execution_count": 83,
      "id": "rvlsUGhBXFfD",
      "metadata": {
        "colab": {
          "base_uri": "https://localhost:8080/"
        },
        "id": "rvlsUGhBXFfD",
        "outputId": "040da35a-b2ea-4670-860b-1918870230d6"
      },
      "outputs": [
        {
          "name": "stdout",
          "output_type": "stream",
          "text": [
            "Epoch 1/2\n",
            "2313/2313 [==============================] - 315s 136ms/step - loss: 0.1125 - acc: 0.9626\n",
            "Epoch 2/2\n",
            "2313/2313 [==============================] - 307s 133ms/step - loss: 0.0497 - acc: 0.9832\n",
            "992/992 [==============================] - 16s 16ms/step - loss: 0.0880 - acc: 0.9727\n",
            "Train accuracy: 97.272843\n"
          ]
        }
      ],
      "source": [
        "# Fitting the model\n",
        "model_cnn.fit(X_train, y_train, epochs=2)\n",
        "# Evaluating the model\n",
        "loss, accuracy = model_cnn.evaluate(X_test, y_test)\n",
        "print('Accuracy: %f' % (accuracy*100))"
      ]
    },
    {
      "cell_type": "code",
      "execution_count": null,
      "id": "ghnIpOixVvme",
      "metadata": {
        "id": "ghnIpOixVvme"
      },
      "outputs": [],
      "source": [
        "# Predicting on test data\n",
        "y_pred = np.where(model_cnn.predict(X_test)[:]>=0.5,1,0)\n",
        "# Evaluate the model\n",
        "score_cnn = accuracy_score(y_test,y_pred)\n",
        "print(f'Accuracy: {round(score_cnn,2)*100}%')"
      ]
    },
    {
      "cell_type": "markdown",
      "id": "ov5D3ay-02RW",
      "metadata": {
        "id": "ov5D3ay-02RW"
      },
      "source": [
        "### RNN and LSTM"
      ]
    },
    {
      "cell_type": "markdown",
      "id": "VtJXL2nVWH5J",
      "metadata": {
        "id": "VtJXL2nVWH5J"
      },
      "source": [
        "#### Encoding labels"
      ]
    },
    {
      "cell_type": "code",
      "execution_count": 111,
      "id": "jG3ykshwWHW0",
      "metadata": {
        "id": "jG3ykshwWHW0"
      },
      "outputs": [],
      "source": [
        "encoder = LabelEncoder()\n",
        "labels_rnn = to_categorical(encoder.fit_transform(labels_dl))"
      ]
    },
    {
      "cell_type": "code",
      "execution_count": 112,
      "id": "ylw5aUqJWHUO",
      "metadata": {
        "colab": {
          "base_uri": "https://localhost:8080/"
        },
        "id": "ylw5aUqJWHUO",
        "outputId": "d866ae29-c93e-4330-d673-3802201023c2"
      },
      "outputs": [
        {
          "data": {
            "text/plain": [
              "array([[0., 1.],\n",
              "       [0., 1.],\n",
              "       [0., 1.],\n",
              "       ...,\n",
              "       [0., 1.],\n",
              "       [0., 1.],\n",
              "       [0., 1.]], dtype=float32)"
            ]
          },
          "execution_count": 112,
          "metadata": {},
          "output_type": "execute_result"
        }
      ],
      "source": [
        "labels_rnn"
      ]
    },
    {
      "cell_type": "markdown",
      "id": "j3YhIBpDW5Ge",
      "metadata": {
        "id": "j3YhIBpDW5Ge"
      },
      "source": [
        "#### Train Test Split"
      ]
    },
    {
      "cell_type": "code",
      "execution_count": 113,
      "id": "6TpjnzSZWHR0",
      "metadata": {
        "id": "6TpjnzSZWHR0"
      },
      "outputs": [],
      "source": [
        "X_train, X_test, y_train, y_test = train_test_split(padded_docs,\n",
        "                                                    labels_rnn, \n",
        "                                                    test_size=0.3,\n",
        "                                                    stratify=labels_rnn)"
      ]
    },
    {
      "cell_type": "markdown",
      "id": "gSBtU6xNcF84",
      "metadata": {
        "id": "gSBtU6xNcF84"
      },
      "source": [
        "#### Defining a function for RNN Model"
      ]
    },
    {
      "cell_type": "code",
      "execution_count": 114,
      "id": "9c4c2623",
      "metadata": {
        "id": "9c4c2623"
      },
      "outputs": [],
      "source": [
        "# Defining RNN model\n",
        "def rnn_classification_model(plot = False):\n",
        "  model = Sequential()\n",
        "  model.add(Embedding(vocab_size, embedding_size, input_length=max_length))\n",
        "  model.add(Masking(mask_value = 0.0))\n",
        "  model.add(SimpleRNN(units = 64, input_shape = (1, max_length)))\n",
        "  model.add(Dense(16))\n",
        "  model.add(Dense(2, activation = 'softmax'))\n",
        "\n",
        "  # Compiling the model\n",
        "  model.compile(optimizer = 'adam',\n",
        "                loss = 'categorical_crossentropy',\n",
        "                metrics = ['accuracy'])\n",
        "  \n",
        "  # Summarizing the model\n",
        "  model.summary()\n",
        "\n",
        "  if plot:\n",
        "    plot_model(model, to_file='model.png', show_shapes = True)\n",
        "  return model"
      ]
    },
    {
      "cell_type": "markdown",
      "id": "Pqw09rgIBNjp",
      "metadata": {
        "id": "Pqw09rgIBNjp"
      },
      "source": [
        "#### Defining a function for LSTM Model"
      ]
    },
    {
      "cell_type": "code",
      "execution_count": 115,
      "id": "uwa6iRxkBOBp",
      "metadata": {
        "id": "uwa6iRxkBOBp"
      },
      "outputs": [],
      "source": [
        "# Defining LSTM model\n",
        "def lstm_classification_model(plot = False):\n",
        "  model = Sequential()\n",
        "  model.add(Embedding(vocab_size, embedding_size, input_length=max_length))\n",
        "  #model.add(Masking(mask_value = 0.0))\n",
        "  model.add(LSTM(units = 32\n",
        "                 , input_shape = (1, max_length)\n",
        "                 , dropout=0.2))\n",
        "  model.add(Flatten())\n",
        "  model.add(Dense(20, activation = 'relu'))\n",
        "  model.add(Dropout(0.2))\n",
        "  model.add(Dense(2, activation = 'softmax'))\n",
        "  \n",
        "  # Compiling the model\n",
        "  model.compile(optimizer = 'adam',\n",
        "                loss = 'binary_crossentropy',\n",
        "                metrics = ['accuracy'])\n",
        "  \n",
        "  # Summarizing the model\n",
        "  model.summary()\n",
        "\n",
        "  if plot:\n",
        "    plot_model(model, to_file='model.png', show_shapes = True)\n",
        "  return model"
      ]
    },
    {
      "cell_type": "markdown",
      "id": "dQ5zwWvlDaPH",
      "metadata": {
        "id": "dQ5zwWvlDaPH"
      },
      "source": [
        "#### Defining a function for Plotting Fit History"
      ]
    },
    {
      "cell_type": "code",
      "execution_count": 116,
      "id": "sHh22r0mDb0U",
      "metadata": {
        "id": "sHh22r0mDb0U"
      },
      "outputs": [],
      "source": [
        "# A function for Fit History\n",
        "def plot_fit_history(history):\n",
        "  plt.plot(history.history['accuracy'])\n",
        "  plt.plot(history.history['val_accuracy'])\n",
        "  plt.title('model accuracy')\n",
        "  plt.ylabel('accuracy')\n",
        "  plt.xlabel('epoch')\n",
        "  plt.legend(['train', 'val'], loc='upper left')\n",
        "  plt.show()\n"
      ]
    },
    {
      "cell_type": "markdown",
      "id": "aNMG19iUcIho",
      "metadata": {
        "id": "aNMG19iUcIho"
      },
      "source": [
        "#### Compiling Models"
      ]
    },
    {
      "cell_type": "code",
      "execution_count": 117,
      "id": "d9f54430",
      "metadata": {
        "colab": {
          "base_uri": "https://localhost:8080/"
        },
        "id": "d9f54430",
        "outputId": "d162341e-13ae-4b50-891d-54fc7dfb4d07"
      },
      "outputs": [
        {
          "name": "stdout",
          "output_type": "stream",
          "text": [
            "Model: \"sequential_9\"\n",
            "_________________________________________________________________\n",
            " Layer (type)                Output Shape              Param #   \n",
            "=================================================================\n",
            " embedding_9 (Embedding)     (None, 1554, 50)          10522000  \n",
            "                                                                 \n",
            " lstm_1 (LSTM)               (None, 32)                10624     \n",
            "                                                                 \n",
            " flatten_8 (Flatten)         (None, 32)                0         \n",
            "                                                                 \n",
            " dense_19 (Dense)            (None, 20)                660       \n",
            "                                                                 \n",
            " dropout_9 (Dropout)         (None, 20)                0         \n",
            "                                                                 \n",
            " dense_20 (Dense)            (None, 2)                 42        \n",
            "                                                                 \n",
            "=================================================================\n",
            "Total params: 10,533,326\n",
            "Trainable params: 10,533,326\n",
            "Non-trainable params: 0\n",
            "_________________________________________________________________\n",
            "***********************************************************\n",
            "Model: \"sequential_10\"\n",
            "_________________________________________________________________\n",
            " Layer (type)                Output Shape              Param #   \n",
            "=================================================================\n",
            " embedding_10 (Embedding)    (None, 1554, 50)          10522000  \n",
            "                                                                 \n",
            " masking_1 (Masking)         (None, 1554, 50)          0         \n",
            "                                                                 \n",
            " simple_rnn_1 (SimpleRNN)    (None, 64)                7360      \n",
            "                                                                 \n",
            " dense_21 (Dense)            (None, 16)                1040      \n",
            "                                                                 \n",
            " dense_22 (Dense)            (None, 2)                 34        \n",
            "                                                                 \n",
            "=================================================================\n",
            "Total params: 10,530,434\n",
            "Trainable params: 10,530,434\n",
            "Non-trainable params: 0\n",
            "_________________________________________________________________\n",
            "<keras.engine.sequential.Sequential object at 0x7f4d7532d7d0>\n",
            "<keras.engine.sequential.Sequential object at 0x7f4d7f300890>\n"
          ]
        }
      ],
      "source": [
        "model_lstm = lstm_classification_model()\n",
        "print(\"***********************************************************\")\n",
        "model_rnn = rnn_classification_model()\n",
        "print(model_lstm)\n",
        "print(model_rnn)"
      ]
    },
    {
      "cell_type": "markdown",
      "id": "022AHnsUcPsl",
      "metadata": {
        "id": "022AHnsUcPsl"
      },
      "source": [
        "#### Fitting Models - LSTM"
      ]
    },
    {
      "cell_type": "code",
      "execution_count": 150,
      "id": "69ae2b0b",
      "metadata": {
        "colab": {
          "base_uri": "https://localhost:8080/"
        },
        "id": "69ae2b0b",
        "outputId": "9b49cbb9-50e5-42ea-a178-cd7471fca5bc"
      },
      "outputs": [
        {
          "name": "stdout",
          "output_type": "stream",
          "text": [
            "2082/2082 [==============================] - 4300s 2s/step - loss: 0.2177 - accuracy: 0.9493 - val_loss: 0.2013 - val_accuracy: 0.9491\n"
          ]
        }
      ],
      "source": [
        "#LSTM\n",
        "history_lstm = model_lstm.fit(X_train, y_train, validation_split = 0.1, epochs=1, verbose=1)"
      ]
    },
    {
      "cell_type": "markdown",
      "id": "wEw7oD03eIah",
      "metadata": {
        "id": "wEw7oD03eIah"
      },
      "source": [
        "#### Evaluating Model - LSTM"
      ]
    },
    {
      "cell_type": "code",
      "execution_count": 152,
      "id": "f_nio1bZcO3o",
      "metadata": {
        "colab": {
          "base_uri": "https://localhost:8080/"
        },
        "id": "f_nio1bZcO3o",
        "outputId": "0d659e31-a84a-49a3-aeca-41e3cca994d5"
      },
      "outputs": [
        {
          "data": {
            "text/plain": [
              "0.5"
            ]
          },
          "execution_count": 152,
          "metadata": {},
          "output_type": "execute_result"
        }
      ],
      "source": [
        "y_test.mean()  # This is the baseline accuracy"
      ]
    },
    {
      "cell_type": "code",
      "execution_count": 153,
      "id": "0wAKqzG8cO1e",
      "metadata": {
        "colab": {
          "base_uri": "https://localhost:8080/"
        },
        "id": "0wAKqzG8cO1e",
        "outputId": "4645f2b8-26b4-4dd5-de40-213f44b84fc6"
      },
      "outputs": [
        {
          "name": "stdout",
          "output_type": "stream",
          "text": [
            "992/992 [==============================] - 207s 208ms/step - loss: 0.2002 - accuracy: 0.9494\n",
            "Accuracy: 94.942933\n"
          ]
        }
      ],
      "source": [
        "# Evaluating the model\n",
        "loss, accuracy = model_lstm.evaluate(X_test, y_test)\n",
        "print('Accuracy: %f' % (accuracy*100))"
      ]
    },
    {
      "cell_type": "code",
      "execution_count": null,
      "id": "X0_espxcexJl",
      "metadata": {
        "id": "X0_espxcexJl"
      },
      "outputs": [],
      "source": [
        "# Predicting on test data\n",
        "y_pred = np.where(model_lstm.predict(X_test)[:]>=0.5,1,0)\n",
        "# Evaluate the model\n",
        "score_lstm = accuracy_score(y_test,y_pred)\n",
        "print(f'Accuracy: {round(score_lstm,2)*100}%')"
      ]
    },
    {
      "cell_type": "markdown",
      "id": "LtoLcI1ZCxZt",
      "metadata": {
        "id": "LtoLcI1ZCxZt"
      },
      "source": [
        "#### Fitting Model - RNN"
      ]
    },
    {
      "cell_type": "code",
      "execution_count": 118,
      "id": "aWI4Tv5scOyk",
      "metadata": {
        "colab": {
          "base_uri": "https://localhost:8080/"
        },
        "id": "aWI4Tv5scOyk",
        "outputId": "bed1b6a8-2e42-4a54-cefb-0bbd94f39eaf"
      },
      "outputs": [
        {
          "name": "stdout",
          "output_type": "stream",
          "text": [
            "Epoch 1/2\n",
            "2082/2082 [==============================] - 1749s 840ms/step - loss: 0.2023 - accuracy: 0.9492 - val_loss: 0.2073 - val_accuracy: 0.9473\n",
            "Epoch 2/2\n",
            "2082/2082 [==============================] - 1750s 841ms/step - loss: 0.2007 - accuracy: 0.9497 - val_loss: 0.2073 - val_accuracy: 0.9473\n"
          ]
        }
      ],
      "source": [
        "# Fitting the model\n",
        "history_rnn = model_rnn.fit(X_train, y_train,validation_split = 0.1, epochs=2, verbose=1)"
      ]
    },
    {
      "cell_type": "markdown",
      "id": "G09KRaLxDQGB",
      "metadata": {
        "id": "G09KRaLxDQGB"
      },
      "source": [
        "#### Evaluating Model - RNN"
      ]
    },
    {
      "cell_type": "code",
      "execution_count": 119,
      "id": "RVxpXZzIDLV4",
      "metadata": {
        "colab": {
          "base_uri": "https://localhost:8080/"
        },
        "id": "RVxpXZzIDLV4",
        "outputId": "17db7e3c-eb85-46d4-c9f1-c3f7974d1076"
      },
      "outputs": [
        {
          "name": "stdout",
          "output_type": "stream",
          "text": [
            "992/992 [==============================] - 124s 125ms/step - loss: 0.2015 - accuracy: 0.9494\n",
            "Accuracy: 94.942933\n"
          ]
        }
      ],
      "source": [
        "# Evaluating the model\n",
        "loss, accuracy = model_rnn.evaluate(X_test, y_test)\n",
        "print('Accuracy: %f' % (accuracy*100))"
      ]
    },
    {
      "cell_type": "code",
      "execution_count": 120,
      "id": "m6_E8pChe7Gs",
      "metadata": {
        "colab": {
          "base_uri": "https://localhost:8080/"
        },
        "id": "m6_E8pChe7Gs",
        "outputId": "f6c8c0c0-4fa6-4cff-f4a5-7e21725acc0d"
      },
      "outputs": [
        {
          "name": "stdout",
          "output_type": "stream",
          "text": [
            "Accuracy: 95.0%\n"
          ]
        }
      ],
      "source": [
        "# Predicting on test data\n",
        "y_pred = np.where(model_lstm.predict(X_test)[:]>=0.5,1,0)\n",
        "# Evaluate the model\n",
        "score_rnn = accuracy_score(y_test,y_pred)\n",
        "print(f'Accuracy: {round(score_rnn,2)*100}%')"
      ]
    },
    {
      "cell_type": "markdown",
      "id": "2f8df8ea",
      "metadata": {
        "id": "2f8df8ea"
      },
      "source": [
        "# Appendix"
      ]
    },
    {
      "cell_type": "code",
      "execution_count": null,
      "id": "1415c3a3",
      "metadata": {
        "id": "1415c3a3"
      },
      "outputs": [],
      "source": [
        "# kindle_df[kindle_df['rating'] == 3].review"
      ]
    },
    {
      "cell_type": "code",
      "execution_count": null,
      "id": "ecc6b533",
      "metadata": {
        "id": "ecc6b533"
      },
      "outputs": [],
      "source": [
        "# x = kindle_df.iloc[[114981]]['review']\n",
        "# x.iloc[0]"
      ]
    },
    {
      "cell_type": "code",
      "execution_count": null,
      "id": "aec77548",
      "metadata": {
        "id": "aec77548"
      },
      "outputs": [],
      "source": [
        "## Test code - move to appendix\n",
        "ls_max = []\n",
        "ls_min = []\n",
        "\n",
        "for i in range(len(encoded_docs)):\n",
        "    if len(encoded_docs[i]) > 0:\n",
        "      ls_max.append(max(encoded_docs[i]))\n",
        "      ls_min.append(min(encoded_docs[i]))"
      ]
    },
    {
      "cell_type": "code",
      "execution_count": null,
      "id": "d7911444",
      "metadata": {
        "id": "d7911444"
      },
      "outputs": [],
      "source": [
        "max(ls_max)"
      ]
    },
    {
      "cell_type": "code",
      "execution_count": 93,
      "id": "2a5ba1b5",
      "metadata": {
        "id": "2a5ba1b5"
      },
      "outputs": [],
      "source": [
        "import spacy\n",
        "nlp = spacy.load(\"en_core_web_sm\", disable = ['ner', 'tagger', 'parser'])\n",
        "\n",
        "\n",
        "test_docs = [\"I'd never read any of the Amy Brewster mysteries until this one..  So I am really hooked on them now.\",\n",
        " \"Never heard of Amy Brewster. But I don't need to like Amy Brewster to like this book. Actually, Amy Brewster is a side kick in this story, who added mystery to the story not the one resolved it. The story brings back the old times, simple life, simple people and straight relationships.\",\n",
        " 'The arabian fantasy, slavegirl trained to seduce and submit herself. Not to my taste, too much sex and not very erotic. Kind of mechanical.........',\n",
        " \"Admittedly, I only read the first few stories.  They seemed disjointed, didn't flow, or seem to have a point.  It was written as if it were &#34;I tripped as I walked down the street.  The bus went downtown.  The end&#34;  Perhaps they just didn't translate well, or maybe they put the worst stories in the beginning.\",\n",
        " \"I just couldn't get into this one very much. The protagonist was too far out. Wondering what she would have done if she'd had to get into a fist fight....but of course, guns were always the answer.\",\n",
        " 'I should have know by the cover it was a bit out of my taste for books.  It started out good, but i got bored before i finished.mary',\n",
        " '2 star, quality of writing okay, story okay, female character, if you can call it a character, is horrid.  2/3 through book and I know she has freckles, brown hair, has the same ugly brown dress on, and is angry.  Who cares what happens to her?  Not me.  The male character is a better character.',\n",
        " \"This was a fairly interesting read.  It had old- style terminology.I was glad to get  to read a story that doesn't have coarse, crasslanguage.  I read for fun and relaxation......I like the free ebooksbecause I can check out a writer and decide if they are intriguing,innovative, and have enough of the command of Englishthat they can convey the story without crude language.\",\n",
        " 'This one promises to be another good book. I have been reading through the series and have not gotten this far yet.',\n",
        " \"I think I have this one in both book and audio. It is a good story either way. good ol' Maul.\",\n",
        " \"Maris' story is 2 1/2 stars for me, the bump to a half star owing to the gathering of the family at the end. The story, unfortunately, suffers from telling and not showing plot details. The chemistry between Maris and Alex suffers from this as well. The reader is thrown into the present without adequate descriptions of past meetings and attraction between the couple. (The suspenseful aspect to the novel also suffers from this.) Flashback scenes would have helped tremendously. Those familiar with the Mackenzie Family books expect instant attraction between the hero and heroine, but it's just not developed in this one.\",\n",
        " 'I really enjoyed the book. Had the normal back against the wall moments. It even had laugh out loud moments.',\n",
        " 'Nothing against the author or the story. From the beginning I thought it was going to be an awesome story.I just cant do the historical fiction....I cant get passed all those Thee and Thou...spoils a good story for me....',\n",
        " 'A beautiful in-depth character description makes it like a fast pacing movie. It is a pity Mr Merwin did not write 30 instead only 3 of the Amy Brewster mysteries.',\n",
        " 'If you like period pieces - clothing, lingo, you will enjoy this mystery.  Author had me guessing at least 2/3 of the way through.',\n",
        " \"I have not received one of my fourteen free copy of the NYT so please end my non subscription at this time, meaning I'm not agreeable to any charges being placed against my account for NYT.  Thank you.  Douglas\",\n",
        " \"This book is a reissue of an old one; the author was born in 1910. It's of the era of, say, Nero Wolfe. The introduction was quite interesting, explaining who the author was and why he's been forgotten; I'd never heard of him.The language is a little dated at times, like calling a gun a &#34;heater.&#34;  I also made good use of my Fire's dictionary to look up words like &#34;deshabille&#34; and &#34;Canarsie.&#34; Still, it was well worth a look-see.\",\n",
        " \"I enjoy vintage books and movies so I enjoyed reading this book.  The plot was unusual.  Don't think killing someone in self-defense but leaving the scene and the body without notifying the police or hitting someone in the jaw to knock them out would wash today.Still it was a good read for me.\",\n",
        " \"just not my thing.  it quickly degenerated into today's slide into slime.  It is a pity, he used to tell a good tale\"]\n",
        "\n",
        "test_docs = list(\n",
        "    map(lambda doc: \" \".join([token.text for token in nlp(doc) if not token.is_stop]), test_docs))\n",
        "\n",
        "encoded_test_sample = integer_encode_documents(test_docs, tokenizer_dl)\n",
        "\n",
        "padded_test_docs = pad_sequences(encoded_test_sample, maxlen=max_length, padding='post')"
      ]
    },
    {
      "cell_type": "code",
      "execution_count": 94,
      "id": "788ff343",
      "metadata": {
        "colab": {
          "base_uri": "https://localhost:8080/"
        },
        "id": "788ff343",
        "outputId": "87e1fa5b-7eaa-472d-8874-38da8da0175a"
      },
      "outputs": [
        {
          "data": {
            "text/plain": [
              "array([[0.94792056],\n",
              "       [0.99773777],\n",
              "       [0.3995532 ],\n",
              "       [0.82268393],\n",
              "       [0.92739546],\n",
              "       [0.4607838 ],\n",
              "       [0.01785573],\n",
              "       [0.9926038 ],\n",
              "       [0.9487511 ],\n",
              "       [0.46120083],\n",
              "       [0.98131347],\n",
              "       [0.9979147 ],\n",
              "       [0.8825573 ],\n",
              "       [0.5605101 ],\n",
              "       [0.84174347],\n",
              "       [0.93510824],\n",
              "       [0.9960748 ],\n",
              "       [0.9987896 ],\n",
              "       [0.77602005]], dtype=float32)"
            ]
          },
          "execution_count": 94,
          "metadata": {},
          "output_type": "execute_result"
        }
      ],
      "source": [
        "model.predict(padded_test_docs)"
      ]
    },
    {
      "cell_type": "code",
      "execution_count": null,
      "id": "Qmpz22_RtUVC",
      "metadata": {
        "id": "Qmpz22_RtUVC"
      },
      "outputs": [],
      "source": []
    }
  ],
  "metadata": {
    "colab": {
      "collapsed_sections": [],
      "name": "Copy of Binary_Sentiment Analysis.ipynb",
      "provenance": []
    },
    "kernelspec": {
      "display_name": "Python 3",
      "language": "python",
      "name": "python3"
    },
    "language_info": {
      "codemirror_mode": {
        "name": "ipython",
        "version": 3
      },
      "file_extension": ".py",
      "mimetype": "text/x-python",
      "name": "python",
      "nbconvert_exporter": "python",
      "pygments_lexer": "ipython3",
      "version": "3.8.8"
    },
    "toc": {
      "base_numbering": 1,
      "nav_menu": {},
      "number_sections": true,
      "sideBar": true,
      "skip_h1_title": false,
      "title_cell": "Table of Contents",
      "title_sidebar": "Contents",
      "toc_cell": false,
      "toc_position": {},
      "toc_section_display": true,
      "toc_window_display": false
    }
  },
  "nbformat": 4,
  "nbformat_minor": 5
}
