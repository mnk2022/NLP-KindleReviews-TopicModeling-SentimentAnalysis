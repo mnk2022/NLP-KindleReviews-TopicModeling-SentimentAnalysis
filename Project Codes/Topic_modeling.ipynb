{
  "cells": [
    {
      "cell_type": "code",
      "execution_count": 1,
      "metadata": {
        "colab": {
          "base_uri": "https://localhost:8080/"
        },
        "id": "jEBW3HLCcfxS",
        "outputId": "50fbd497-d893-4a11-e568-750057c5c51d"
      },
      "outputs": [
        {
          "name": "stdout",
          "output_type": "stream",
          "text": [
            "[nltk_data] Downloading package stopwords to /root/nltk_data...\n",
            "[nltk_data]   Unzipping corpora/stopwords.zip.\n",
            "Mounted at /content/drive\n",
            "/content/drive/MyDrive\n",
            "[nltk_data] Downloading package punkt to /root/nltk_data...\n",
            "[nltk_data]   Unzipping tokenizers/punkt.zip.\n",
            "[nltk_data] Downloading package averaged_perceptron_tagger to\n",
            "[nltk_data]     /root/nltk_data...\n",
            "[nltk_data]   Unzipping taggers/averaged_perceptron_tagger.zip.\n",
            "[nltk_data] Downloading package wordnet to /root/nltk_data...\n",
            "[nltk_data]   Unzipping corpora/wordnet.zip.\n"
          ]
        }
      ],
      "source": [
        "import nltk\n",
        "import pandas as pd\n",
        "import numpy as np\n",
        "from nltk.corpus import stopwords\n",
        "nltk.download('stopwords')\n",
        "from google.colab import drive\n",
        "drive.mount('/content/drive')\n",
        "%cd /content/drive/MyDrive/\n",
        "import numpy as np\n",
        "from gensim.parsing.preprocessing import STOPWORDS\n",
        "from gensim.parsing.preprocessing import remove_stopwords\n",
        "import re\n",
        "from typing import List\n",
        "from nltk.stem import WordNetLemmatizer\n",
        "from nltk.corpus import wordnet\n",
        "from sklearn.decomposition import NMF\n",
        "from sklearn.feature_extraction.text import TfidfVectorizer\n",
        "from nltk.collocations import BigramCollocationFinder, BigramAssocMeasures\n",
        "nltk.download('punkt')\n",
        "nltk.download('averaged_perceptron_tagger')\n",
        "nltk.download('wordnet')\n",
        "tokenizer = nltk.tokenize.punkt.PunktSentenceTokenizer()\n"
      ]
    },
    {
      "cell_type": "code",
      "execution_count": null,
      "metadata": {
        "id": "IyuMOpU0GwqB"
      },
      "outputs": [],
      "source": [
        "#import data\n",
        "kindle=pd.read_csv(\"kindle_reviews.csv\",usecols=['asin','overall','reviewText','reviewTime','summary'])\n",
        "kindle = kindle.dropna()"
      ]
    },
    {
      "cell_type": "code",
      "execution_count": null,
      "metadata": {
        "colab": {
          "base_uri": "https://localhost:8080/"
        },
        "id": "tB-qE8xgv2u3",
        "outputId": "39fe1345-3f65-4ab1-bf23-7ef031b9184d"
      },
      "outputs": [
        {
          "name": "stdout",
          "output_type": "stream",
          "text": [
            "<class 'pandas.core.frame.DataFrame'>\n",
            "Int64Index: 982596 entries, 0 to 982618\n",
            "Data columns (total 5 columns):\n",
            " #   Column      Non-Null Count   Dtype \n",
            "---  ------      --------------   ----- \n",
            " 0   asin        982596 non-null  object\n",
            " 1   overall     982596 non-null  int64 \n",
            " 2   reviewText  982596 non-null  object\n",
            " 3   reviewTime  982596 non-null  object\n",
            " 4   summary     982596 non-null  object\n",
            "dtypes: int64(1), object(4)\n",
            "memory usage: 45.0+ MB\n"
          ]
        }
      ],
      "source": [
        "kindle.info()"
      ]
    },
    {
      "cell_type": "code",
      "execution_count": null,
      "metadata": {
        "id": "GnMW0caYnno0"
      },
      "outputs": [],
      "source": [
        "#subset data to pick reviews after 1st of June 2014\n",
        "kindle['reviewTime'] = pd.to_datetime(kindle['reviewTime'])\n",
        "kindle2=kindle[kindle['reviewTime']>= '2014-06-01']"
      ]
    },
    {
      "cell_type": "code",
      "execution_count": null,
      "metadata": {
        "colab": {
          "base_uri": "https://localhost:8080/"
        },
        "id": "wUYAleqiHEr2",
        "outputId": "a8efd552-9176-47ae-97e4-ad19f5b4d0c9"
      },
      "outputs": [
        {
          "name": "stdout",
          "output_type": "stream",
          "text": [
            "<class 'pandas.core.frame.DataFrame'>\n",
            "Int64Index: 115093 entries, 6 to 982618\n",
            "Data columns (total 5 columns):\n",
            " #   Column      Non-Null Count   Dtype         \n",
            "---  ------      --------------   -----         \n",
            " 0   asin        115093 non-null  object        \n",
            " 1   overall     115093 non-null  int64         \n",
            " 2   reviewText  115093 non-null  object        \n",
            " 3   reviewTime  115093 non-null  datetime64[ns]\n",
            " 4   summary     115093 non-null  object        \n",
            "dtypes: datetime64[ns](1), int64(1), object(3)\n",
            "memory usage: 5.3+ MB\n"
          ]
        }
      ],
      "source": [
        "kindle2.info()"
      ]
    },
    {
      "cell_type": "code",
      "execution_count": null,
      "metadata": {
        "id": "kkZoKwvtE70I"
      },
      "outputs": [],
      "source": [
        "#RESET INDEX \n",
        "kindle2=kindle2.reset_index()"
      ]
    },
    {
      "cell_type": "markdown",
      "metadata": {
        "id": "-sJZRYa8FIpU"
      },
      "source": [
        "# PRE-PROCESSING (STOPWORDS, PUNCTUATIONS AND LEMMATIZE)"
      ]
    },
    {
      "cell_type": "code",
      "execution_count": null,
      "metadata": {
        "id": "7t4rLRMIErp6"
      },
      "outputs": [],
      "source": [
        "#STOPWORDS - create custom stopwords list\n",
        "\n",
        "custom_stopwords=set(STOPWORDS)\n",
        "to_add = [\"Im\", 'its']\n",
        "# stops = [\"not\",\"doesn't\",\"didn't\",\"wouldn't\",\"shouldn't\",\"couldn't\",\"very\",\"too\",\"really\",\"so\"]\n",
        "stops = [\"not\",\"doesn't\",\"didn't\",\"wouldn't\",\"shouldn't\",\"couldn't\"]\n",
        "custom_stopwords = list(custom_stopwords - set(stops) | set(to_add))\n",
        "# custom_stopwords = re.findall(r'\\w+',str(custom_stopwords))"
      ]
    },
    {
      "cell_type": "code",
      "execution_count": null,
      "metadata": {
        "id": "QtTGbQOZhzTc"
      },
      "outputs": [],
      "source": [
        "## lemmatization\n",
        "## https://gist.github.com/gaurav5430/9fce93759eb2f6b1697883c3782f30de#file-nltk-lemmatize-sentences-py\n",
        "\n",
        "lemmatizer = WordNetLemmatizer()\n",
        "\n",
        "# function to convert nltk tag to wordnet tag\n",
        "def nltk_tag_to_wordnet_tag(nltk_tag):\n",
        "    if nltk_tag.startswith('J'):\n",
        "        return wordnet.ADJ\n",
        "    elif nltk_tag.startswith('V'):\n",
        "        return wordnet.VERB\n",
        "    elif nltk_tag.startswith('N'):\n",
        "        return wordnet.NOUN\n",
        "    elif nltk_tag.startswith('R'):\n",
        "        return wordnet.ADV\n",
        "    else:          \n",
        "        return None\n",
        "\n",
        "def lemmatize_sentence(sentence):\n",
        "    #tokenize the sentence and find the POS tag for each token\n",
        "    nltk_tagged = nltk.pos_tag(nltk.word_tokenize(sentence))  \n",
        "    #tuple of (token, wordnet_tag)\n",
        "    wordnet_tagged = map(lambda x: (x[0], nltk_tag_to_wordnet_tag(x[1])), nltk_tagged)\n",
        "    lemmatized_sentence = []\n",
        "    for word, tag in wordnet_tagged:\n",
        "        if tag is None:\n",
        "            #if there is no available tag, append the token as is\n",
        "            lemmatized_sentence.append(word)\n",
        "        else:        \n",
        "            #else use the tag to lemmatize the token\n",
        "            lemmatized_sentence.append(lemmatizer.lemmatize(word, tag))\n",
        "    return \" \".join(lemmatized_sentence)\n"
      ]
    },
    {
      "cell_type": "code",
      "execution_count": null,
      "metadata": {
        "id": "Qfj1eJHJgsyE"
      },
      "outputs": [],
      "source": [
        "\n",
        "#REMOVE PUNCTUATIONS\n",
        "\n",
        "# kindle2[\"cleaned_reviews_punc\"]=kindle2[\"reviewText\"].apply(lambda x: str(' '.join(re.findall(r'\\w+',str(nltk.word_tokenize(x))))))    \n",
        "kindle2[\"cleaned_reviews_punc\"]=kindle2[\"reviewText\"].apply(lambda x: str(' '.join(re.findall(r'[A-Za-z]{3,}',str(nltk.word_tokenize(x))))))    \n",
        "\n",
        "\n",
        "#REMOVE STOPWORDS\n",
        "cleaned_reviews_list=[]\n",
        "for review in kindle2[\"cleaned_reviews_punc\"]:\n",
        "    #print(review)\n",
        "    words = nltk.word_tokenize(review)\n",
        "    #print(words)\n",
        "    new_words = []\n",
        "    for word in words:\n",
        "        if word.lower() in custom_stopwords:\n",
        "            continue\n",
        "        else:\n",
        "          new_words.append(word.lower())\n",
        "        cleaned_review = \" \".join(new_words)\n",
        "    cleaned_reviews_list.append(cleaned_review)\n",
        "\n",
        "cleaned_reviews= pd.Series(cleaned_reviews_list)  \n",
        "\n",
        "kindle2[\"cleaned_reviews_punc_stop\"]=cleaned_reviews\n",
        "\n",
        "\n",
        "#LEMMATIZE\n",
        "\n",
        "kindle2[\"cleaned_reviews_lemm\"]=kindle2[\"cleaned_reviews_punc_stop\"].apply(lambda x: lemmatize_sentence(x))\n"
      ]
    },
    {
      "cell_type": "code",
      "execution_count": null,
      "metadata": {
        "id": "B57G9qQhqKiy"
      },
      "outputs": [],
      "source": [
        "# ----- EXPORT CLEANED DATA TO CSV for use ---\n",
        "kindle2.to_csv(\"kindle_cleaned_AA_final.csv\")\n"
      ]
    },
    {
      "cell_type": "code",
      "execution_count": 2,
      "metadata": {
        "id": "24NElzsaGC4v"
      },
      "outputs": [],
      "source": [
        "kindle2=pd.read_csv(\"kindle_cleaned_AA_final.csv\")"
      ]
    },
    {
      "cell_type": "code",
      "execution_count": 3,
      "metadata": {
        "colab": {
          "base_uri": "https://localhost:8080/",
          "height": 435
        },
        "id": "IH6iebleQMBU",
        "outputId": "8ff693fd-58cc-4596-f458-52901d8eac58"
      },
      "outputs": [
        {
          "data": {
            "text/html": [
              "\n",
              "  <div id=\"df-1f6281a9-04d4-4556-bca0-34a52129eea5\">\n",
              "    <div class=\"colab-df-container\">\n",
              "      <div>\n",
              "<style scoped>\n",
              "    .dataframe tbody tr th:only-of-type {\n",
              "        vertical-align: middle;\n",
              "    }\n",
              "\n",
              "    .dataframe tbody tr th {\n",
              "        vertical-align: top;\n",
              "    }\n",
              "\n",
              "    .dataframe thead th {\n",
              "        text-align: right;\n",
              "    }\n",
              "</style>\n",
              "<table border=\"1\" class=\"dataframe\">\n",
              "  <thead>\n",
              "    <tr style=\"text-align: right;\">\n",
              "      <th></th>\n",
              "      <th>Unnamed: 0</th>\n",
              "      <th>index</th>\n",
              "      <th>asin</th>\n",
              "      <th>overall</th>\n",
              "      <th>reviewText</th>\n",
              "      <th>reviewTime</th>\n",
              "      <th>summary</th>\n",
              "      <th>cleaned_reviews_punc</th>\n",
              "      <th>cleaned_reviews_punc_stop</th>\n",
              "      <th>cleaned_reviews_lemm</th>\n",
              "    </tr>\n",
              "  </thead>\n",
              "  <tbody>\n",
              "    <tr>\n",
              "      <th>0</th>\n",
              "      <td>0</td>\n",
              "      <td>6</td>\n",
              "      <td>B000F83SZQ</td>\n",
              "      <td>4</td>\n",
              "      <td>I enjoyed this one tho I'm not sure why it's c...</td>\n",
              "      <td>2014-06-10</td>\n",
              "      <td>Nice old fashioned story</td>\n",
              "      <td>enjoyed this one tho not sure why called Amy B...</td>\n",
              "      <td>enjoyed tho not sure called amy brewster myste...</td>\n",
              "      <td>enjoy tho not sure call amy brewster mystery n...</td>\n",
              "    </tr>\n",
              "    <tr>\n",
              "      <th>1</th>\n",
              "      <td>1</td>\n",
              "      <td>55</td>\n",
              "      <td>B000FC26RI</td>\n",
              "      <td>4</td>\n",
              "      <td>I thought it would be instructive to compare t...</td>\n",
              "      <td>2014-06-21</td>\n",
              "      <td>Compare and contrast for a better understanding</td>\n",
              "      <td>thought would instructive compare this Charles...</td>\n",
              "      <td>thought instructive compare charles johnston t...</td>\n",
              "      <td>think instructive compare charles johnston tra...</td>\n",
              "    </tr>\n",
              "    <tr>\n",
              "      <th>2</th>\n",
              "      <td>2</td>\n",
              "      <td>104</td>\n",
              "      <td>B000HA4FKY</td>\n",
              "      <td>5</td>\n",
              "      <td>I live in a town adjacent a 'medium' sized cit...</td>\n",
              "      <td>2014-06-12</td>\n",
              "      <td>when I REALLY want to know!</td>\n",
              "      <td>live town adjacent medium sized city Massachus...</td>\n",
              "      <td>live town adjacent medium sized city massachus...</td>\n",
              "      <td>live town adjacent medium size city massachuse...</td>\n",
              "    </tr>\n",
              "    <tr>\n",
              "      <th>3</th>\n",
              "      <td>3</td>\n",
              "      <td>189</td>\n",
              "      <td>B000JMLBHU</td>\n",
              "      <td>4</td>\n",
              "      <td>A manual on desert island survival in its own ...</td>\n",
              "      <td>2014-06-29</td>\n",
              "      <td>A classic for a reason</td>\n",
              "      <td>manual desert island survival its own right th...</td>\n",
              "      <td>manual desert island survival right book havin...</td>\n",
              "      <td>manual desert island survival right book have ...</td>\n",
              "    </tr>\n",
              "    <tr>\n",
              "      <th>4</th>\n",
              "      <td>4</td>\n",
              "      <td>200</td>\n",
              "      <td>B000JMLBHU</td>\n",
              "      <td>5</td>\n",
              "      <td>The author had a great story line. Brought eac...</td>\n",
              "      <td>2014-06-15</td>\n",
              "      <td>The Mysterious Island</td>\n",
              "      <td>The author had great story line Brought each c...</td>\n",
              "      <td>author great story line brought character life...</td>\n",
              "      <td>author great story line bring character life i...</td>\n",
              "    </tr>\n",
              "  </tbody>\n",
              "</table>\n",
              "</div>\n",
              "      <button class=\"colab-df-convert\" onclick=\"convertToInteractive('df-1f6281a9-04d4-4556-bca0-34a52129eea5')\"\n",
              "              title=\"Convert this dataframe to an interactive table.\"\n",
              "              style=\"display:none;\">\n",
              "        \n",
              "  <svg xmlns=\"http://www.w3.org/2000/svg\" height=\"24px\"viewBox=\"0 0 24 24\"\n",
              "       width=\"24px\">\n",
              "    <path d=\"M0 0h24v24H0V0z\" fill=\"none\"/>\n",
              "    <path d=\"M18.56 5.44l.94 2.06.94-2.06 2.06-.94-2.06-.94-.94-2.06-.94 2.06-2.06.94zm-11 1L8.5 8.5l.94-2.06 2.06-.94-2.06-.94L8.5 2.5l-.94 2.06-2.06.94zm10 10l.94 2.06.94-2.06 2.06-.94-2.06-.94-.94-2.06-.94 2.06-2.06.94z\"/><path d=\"M17.41 7.96l-1.37-1.37c-.4-.4-.92-.59-1.43-.59-.52 0-1.04.2-1.43.59L10.3 9.45l-7.72 7.72c-.78.78-.78 2.05 0 2.83L4 21.41c.39.39.9.59 1.41.59.51 0 1.02-.2 1.41-.59l7.78-7.78 2.81-2.81c.8-.78.8-2.07 0-2.86zM5.41 20L4 18.59l7.72-7.72 1.47 1.35L5.41 20z\"/>\n",
              "  </svg>\n",
              "      </button>\n",
              "      \n",
              "  <style>\n",
              "    .colab-df-container {\n",
              "      display:flex;\n",
              "      flex-wrap:wrap;\n",
              "      gap: 12px;\n",
              "    }\n",
              "\n",
              "    .colab-df-convert {\n",
              "      background-color: #E8F0FE;\n",
              "      border: none;\n",
              "      border-radius: 50%;\n",
              "      cursor: pointer;\n",
              "      display: none;\n",
              "      fill: #1967D2;\n",
              "      height: 32px;\n",
              "      padding: 0 0 0 0;\n",
              "      width: 32px;\n",
              "    }\n",
              "\n",
              "    .colab-df-convert:hover {\n",
              "      background-color: #E2EBFA;\n",
              "      box-shadow: 0px 1px 2px rgba(60, 64, 67, 0.3), 0px 1px 3px 1px rgba(60, 64, 67, 0.15);\n",
              "      fill: #174EA6;\n",
              "    }\n",
              "\n",
              "    [theme=dark] .colab-df-convert {\n",
              "      background-color: #3B4455;\n",
              "      fill: #D2E3FC;\n",
              "    }\n",
              "\n",
              "    [theme=dark] .colab-df-convert:hover {\n",
              "      background-color: #434B5C;\n",
              "      box-shadow: 0px 1px 3px 1px rgba(0, 0, 0, 0.15);\n",
              "      filter: drop-shadow(0px 1px 2px rgba(0, 0, 0, 0.3));\n",
              "      fill: #FFFFFF;\n",
              "    }\n",
              "  </style>\n",
              "\n",
              "      <script>\n",
              "        const buttonEl =\n",
              "          document.querySelector('#df-1f6281a9-04d4-4556-bca0-34a52129eea5 button.colab-df-convert');\n",
              "        buttonEl.style.display =\n",
              "          google.colab.kernel.accessAllowed ? 'block' : 'none';\n",
              "\n",
              "        async function convertToInteractive(key) {\n",
              "          const element = document.querySelector('#df-1f6281a9-04d4-4556-bca0-34a52129eea5');\n",
              "          const dataTable =\n",
              "            await google.colab.kernel.invokeFunction('convertToInteractive',\n",
              "                                                     [key], {});\n",
              "          if (!dataTable) return;\n",
              "\n",
              "          const docLinkHtml = 'Like what you see? Visit the ' +\n",
              "            '<a target=\"_blank\" href=https://colab.research.google.com/notebooks/data_table.ipynb>data table notebook</a>'\n",
              "            + ' to learn more about interactive tables.';\n",
              "          element.innerHTML = '';\n",
              "          dataTable['output_type'] = 'display_data';\n",
              "          await google.colab.output.renderOutput(dataTable, element);\n",
              "          const docLink = document.createElement('div');\n",
              "          docLink.innerHTML = docLinkHtml;\n",
              "          element.appendChild(docLink);\n",
              "        }\n",
              "      </script>\n",
              "    </div>\n",
              "  </div>\n",
              "  "
            ],
            "text/plain": [
              "   Unnamed: 0  index        asin  overall  \\\n",
              "0           0      6  B000F83SZQ        4   \n",
              "1           1     55  B000FC26RI        4   \n",
              "2           2    104  B000HA4FKY        5   \n",
              "3           3    189  B000JMLBHU        4   \n",
              "4           4    200  B000JMLBHU        5   \n",
              "\n",
              "                                          reviewText  reviewTime  \\\n",
              "0  I enjoyed this one tho I'm not sure why it's c...  2014-06-10   \n",
              "1  I thought it would be instructive to compare t...  2014-06-21   \n",
              "2  I live in a town adjacent a 'medium' sized cit...  2014-06-12   \n",
              "3  A manual on desert island survival in its own ...  2014-06-29   \n",
              "4  The author had a great story line. Brought eac...  2014-06-15   \n",
              "\n",
              "                                           summary  \\\n",
              "0                         Nice old fashioned story   \n",
              "1  Compare and contrast for a better understanding   \n",
              "2                      when I REALLY want to know!   \n",
              "3                           A classic for a reason   \n",
              "4                            The Mysterious Island   \n",
              "\n",
              "                                cleaned_reviews_punc  \\\n",
              "0  enjoyed this one tho not sure why called Amy B...   \n",
              "1  thought would instructive compare this Charles...   \n",
              "2  live town adjacent medium sized city Massachus...   \n",
              "3  manual desert island survival its own right th...   \n",
              "4  The author had great story line Brought each c...   \n",
              "\n",
              "                           cleaned_reviews_punc_stop  \\\n",
              "0  enjoyed tho not sure called amy brewster myste...   \n",
              "1  thought instructive compare charles johnston t...   \n",
              "2  live town adjacent medium sized city massachus...   \n",
              "3  manual desert island survival right book havin...   \n",
              "4  author great story line brought character life...   \n",
              "\n",
              "                                cleaned_reviews_lemm  \n",
              "0  enjoy tho not sure call amy brewster mystery n...  \n",
              "1  think instructive compare charles johnston tra...  \n",
              "2  live town adjacent medium size city massachuse...  \n",
              "3  manual desert island survival right book have ...  \n",
              "4  author great story line bring character life i...  "
            ]
          },
          "execution_count": 3,
          "metadata": {},
          "output_type": "execute_result"
        }
      ],
      "source": [
        "kindle2.head()"
      ]
    },
    {
      "cell_type": "code",
      "execution_count": 4,
      "metadata": {
        "colab": {
          "base_uri": "https://localhost:8080/"
        },
        "id": "XKz52mDUQIj6",
        "outputId": "18d45c12-b7bc-455a-9d47-51d3c2bc53c5"
      },
      "outputs": [
        {
          "data": {
            "text/plain": [
              "overall\n",
              "1     2183\n",
              "2     3164\n",
              "3     9367\n",
              "4    27310\n",
              "5    73069\n",
              "Name: overall, dtype: int64"
            ]
          },
          "execution_count": 4,
          "metadata": {},
          "output_type": "execute_result"
        }
      ],
      "source": [
        "# SEE SPILT OF DATA BY OVERALL RATINGS\n",
        "kindle2.groupby(\"overall\")[\"overall\"].count()"
      ]
    },
    {
      "cell_type": "markdown",
      "metadata": {
        "id": "KPookJUwGBjS"
      },
      "source": [
        "#TOPIC MODELLING\n"
      ]
    },
    {
      "cell_type": "markdown",
      "metadata": {
        "id": "c_cILly0GBWY"
      },
      "source": [
        "### 1) LATENT SEMANTIC ANALYSIS(LSA)\n",
        "\n",
        "\n",
        "#### We will create 3 models .\n",
        "\n",
        "1) For reviews with ratings <3\n",
        "\n",
        "2) For reviews with ratings between 3 and 4\n",
        "\n",
        "3) For reviews with ratings equal to 5 "
      ]
    },
    {
      "cell_type": "code",
      "execution_count": 6,
      "metadata": {
        "id": "o2U4_yE0QRG7"
      },
      "outputs": [],
      "source": [
        "#TF-IDF for all 3 pots\n",
        "\n",
        "trigram_vectorizer1= TfidfVectorizer(ngram_range=(3,3),min_df=3, max_df=0.6)\n",
        "trigram_vectorizer2 = TfidfVectorizer(ngram_range=(3,3),min_df=3, max_df=0.6,max_features=2000)\n",
        "trigram_vectorizer3 = TfidfVectorizer(ngram_range=(3,3),min_df=3, max_df=0.6,max_features=2000)\n"
      ]
    },
    {
      "cell_type": "code",
      "execution_count": 7,
      "metadata": {
        "id": "0Q8c5ZSkRRuN"
      },
      "outputs": [],
      "source": [
        "X_kindle_tri1, kindle_terms_tri1  = trigram_vectorizer1.fit_transform(kindle2[kindle2[\"overall\"]<3].cleaned_reviews_lemm.values.astype('U'))\\\n",
        "                                                                                 , trigram_vectorizer1.get_feature_names_out()\n",
        "X_kindle_tri2, kindle_terms_tri2  = trigram_vectorizer2.fit_transform(kindle2[(kindle2[\"overall\"]>=3) & (kindle2[\"overall\"]<5)].cleaned_reviews_lemm.values.astype('U'))\\\n",
        "                                                                                 , trigram_vectorizer2.get_feature_names_out()\n",
        "X_kindle_tri3, kindle_terms_tri3  = trigram_vectorizer3.fit_transform(kindle2[kindle2[\"overall\"]==5].cleaned_reviews_lemm.values.astype('U'))\\\n",
        "                                                                                 , trigram_vectorizer3.get_feature_names_out()"
      ]
    },
    {
      "cell_type": "code",
      "execution_count": 8,
      "metadata": {
        "id": "UsmNtGmCTK0i"
      },
      "outputs": [],
      "source": [
        "X_kindle_tri_idf1 = pd.DataFrame(X_kindle_tri1.toarray(), columns=kindle_terms_tri1)\n",
        "X_kindle_tri_idf2 = pd.DataFrame(X_kindle_tri2.toarray(), columns=kindle_terms_tri2)\n",
        "X_kindle_tri_idf3 = pd.DataFrame(X_kindle_tri3.toarray(), columns=kindle_terms_tri3)"
      ]
    },
    {
      "cell_type": "code",
      "execution_count": null,
      "metadata": {
        "id": "9iw7w3L1V82w"
      },
      "outputs": [],
      "source": [
        "# X_kindle_tri_idf1.head()\n",
        "# X_kindle_tri_idf2.head()\n",
        "# X_kindle_tri_idf3.head()"
      ]
    },
    {
      "cell_type": "code",
      "execution_count": 9,
      "metadata": {
        "id": "EzEICsnQZnTG"
      },
      "outputs": [],
      "source": [
        "# Function to get top tokens corresponding to each token\n",
        "\n",
        "def get_top_tf_idf_tokens_for_topic(H: np.array, feature_names: List[str], num_top_tokens: int = 10):\n",
        "  \"\"\"\n",
        "  Uses the H matrix (K components x M original features) to identify for each\n",
        "  topic the most frequent tokens.\n",
        "  \"\"\"\n",
        "  for topic, vector in enumerate(H):\n",
        "    print(f\"TOPIC {topic}\\n\")\n",
        "    total = vector.sum()\n",
        "    top_scores = vector.argsort()[::-1][:num_top_tokens]\n",
        "    token_names = list(map(lambda idx: feature_names[idx], top_scores))\n",
        "    strengths = list(map(lambda idx: vector[idx] / total, top_scores))\n",
        "    \n",
        "    for strength, token_name in zip(strengths, token_names):\n",
        "      print(f\"\\b{token_name} ({round(strength * 100, 1)}%)\\n\")\n",
        "    print(f\"=\" * 50)\n",
        "\n",
        "\n"
      ]
    },
    {
      "cell_type": "code",
      "execution_count": 10,
      "metadata": {
        "id": "hJRQzVcunI-M"
      },
      "outputs": [],
      "source": [
        "# Function to get top documents corresponding to each topic\n",
        "\n",
        "def get_top_documents_for_each_topic(W: np.array, documents: List[str], num_docs: int = 5):\n",
        "  sorted_docs = W.argsort(axis=0)[::-1]\n",
        "  top_docs = sorted_docs[:num_docs].T\n",
        "  per_document_totals = W.sum(axis=1)\n",
        "  for topic, top_documents_for_topic in enumerate(top_docs):\n",
        "    print(f\"Topic {topic}\")\n",
        "    for doc in top_documents_for_topic:\n",
        "      score = W[doc][topic]\n",
        "      percent_about_topic = round(score / per_document_totals[doc] * 100, 1)\n",
        "      print(f\"{percent_about_topic}%\", documents[doc])\n",
        "    print(\"=\" * 50)"
      ]
    },
    {
      "cell_type": "code",
      "execution_count": 11,
      "metadata": {
        "id": "HBrWGnFC9pUK"
      },
      "outputs": [],
      "source": [
        "#SVD DECOMPOSITION\n",
        "\n",
        "from sklearn.decomposition import TruncatedSVD\n",
        "\n",
        "# we need to select a K (the number of topics)\n",
        "#svd = TruncatedSVD(n_components=K)\n",
        "\n",
        "\n",
        "svd = TruncatedSVD(n_components=5)\n",
        "U1 = svd.fit_transform(X_kindle_tri_idf1)\n",
        "V_star1 = svd.components_"
      ]
    },
    {
      "cell_type": "code",
      "execution_count": 12,
      "metadata": {
        "id": "4mmHzHGvUZ_a"
      },
      "outputs": [],
      "source": [
        "svd = TruncatedSVD(n_components=5)\n",
        "U2 = svd.fit_transform(X_kindle_tri_idf2)\n",
        "V_star2 = svd.components_"
      ]
    },
    {
      "cell_type": "code",
      "execution_count": 13,
      "metadata": {
        "id": "3NFiNAWZUa4M"
      },
      "outputs": [],
      "source": [
        "svd = TruncatedSVD(n_components=15)\n",
        "U3 = svd.fit_transform(X_kindle_tri_idf3)\n",
        "V_star3 = svd.components_"
      ]
    },
    {
      "cell_type": "code",
      "execution_count": 14,
      "metadata": {
        "colab": {
          "base_uri": "https://localhost:8080/"
        },
        "id": "WXPUE9zv9q-D",
        "outputId": "dde518c3-a81f-4bef-d9fa-5d9a23c424dd"
      },
      "outputs": [
        {
          "name": "stdout",
          "output_type": "stream",
          "text": [
            "TOPIC 0\n",
            "\n",
            "\bnot recommend book (35.3%)\n",
            "\n",
            "\bbook not recommend (2.4%)\n",
            "\n",
            "\bbook main character (2.1%)\n",
            "\n",
            "\bnot like book (1.9%)\n",
            "\n",
            "\bsorry not recommend (1.7%)\n",
            "\n",
            "==================================================\n",
            "TOPIC 1\n",
            "\n",
            "\bnot cup tea (41.3%)\n",
            "\n",
            "\bnot worth time (6.1%)\n",
            "\n",
            "\bwant like book (3.2%)\n",
            "\n",
            "\bcup tea not (2.7%)\n",
            "\n",
            "\bwaste time read (2.1%)\n",
            "\n",
            "==================================================\n",
            "TOPIC 2\n",
            "\n",
            "\bnot like book (26.6%)\n",
            "\n",
            "\bnot finish book (20.2%)\n",
            "\n",
            "\bstory line not (2.1%)\n",
            "\n",
            "\bfinish book not (1.4%)\n",
            "\n",
            "\brarely not finish (1.4%)\n",
            "\n",
            "==================================================\n",
            "TOPIC 3\n",
            "\n",
            "\bnot finish book (104.0%)\n",
            "\n",
            "\bfinish book not (7.5%)\n",
            "\n",
            "\brarely not finish (7.4%)\n",
            "\n",
            "\bfinish book read (5.3%)\n",
            "\n",
            "\bnot not finish (4.4%)\n",
            "\n",
            "==================================================\n",
            "TOPIC 4\n",
            "\n",
            "\bwant like book (44.3%)\n",
            "\n",
            "\blike book read (3.1%)\n",
            "\n",
            "\blike book love (2.9%)\n",
            "\n",
            "\bbook sound good (1.5%)\n",
            "\n",
            "\bsave money not (1.5%)\n",
            "\n",
            "==================================================\n"
          ]
        }
      ],
      "source": [
        "# TOP DOCUMENTS PER TOPIC (RATINGS 1 & 2)\n",
        "\n",
        "get_top_tf_idf_tokens_for_topic(V_star1, X_kindle_tri_idf1.columns.tolist(), 5)"
      ]
    },
    {
      "cell_type": "code",
      "execution_count": 15,
      "metadata": {
        "colab": {
          "base_uri": "https://localhost:8080/"
        },
        "id": "9eQVIxW69uya",
        "outputId": "8611b9ef-3482-4c98-d3ca-68ce8a5f042b"
      },
      "outputs": [
        {
          "name": "stdout",
          "output_type": "stream",
          "text": [
            "TOPIC 0\n",
            "\n",
            "\blook forward read (13.8%)\n",
            "\n",
            "\bexchange honest review (5.3%)\n",
            "\n",
            "\bforward read book (3.3%)\n",
            "\n",
            "\bbook exchange honest (2.3%)\n",
            "\n",
            "\bbook look forward (1.8%)\n",
            "\n",
            "==================================================\n",
            "TOPIC 1\n",
            "\n",
            "\bexchange honest review (14.9%)\n",
            "\n",
            "\bbook exchange honest (6.4%)\n",
            "\n",
            "\bcopy book exchange (4.9%)\n",
            "\n",
            "\breceive copy book (3.1%)\n",
            "\n",
            "\bauthor exchange honest (3.1%)\n",
            "\n",
            "==================================================\n",
            "TOPIC 2\n",
            "\n",
            "\blook forward book (47.0%)\n",
            "\n",
            "\bforward book series (11.4%)\n",
            "\n",
            "\bbook look forward (3.1%)\n",
            "\n",
            "\bread look forward (3.0%)\n",
            "\n",
            "\bstory look forward (1.7%)\n",
            "\n",
            "==================================================\n",
            "TOPIC 3\n",
            "\n",
            "\bread book series (24.0%)\n",
            "\n",
            "\bwait read book (7.2%)\n",
            "\n",
            "\bforward read book (1.8%)\n",
            "\n",
            "\bnot read book (1.6%)\n",
            "\n",
            "\bwant read book (1.4%)\n",
            "\n",
            "==================================================\n",
            "TOPIC 4\n",
            "\n",
            "\breceive free copy (17.2%)\n",
            "\n",
            "\bfree copy book (15.4%)\n",
            "\n",
            "\bwicked read review (12.4%)\n",
            "\n",
            "\bread review team (11.7%)\n",
            "\n",
            "\bread review wicked (11.2%)\n",
            "\n",
            "==================================================\n"
          ]
        }
      ],
      "source": [
        "# TOP TOKENS PER TOPIC (RATINGS 3 & 4)\n",
        "get_top_tf_idf_tokens_for_topic(V_star2, X_kindle_tri_idf2.columns.tolist(), 5)"
      ]
    },
    {
      "cell_type": "code",
      "execution_count": 16,
      "metadata": {
        "colab": {
          "base_uri": "https://localhost:8080/"
        },
        "id": "hZEAc4q291xX",
        "outputId": "1ffefd48-6c3d-4366-c2c1-1d6ec8ba3d4d"
      },
      "outputs": [
        {
          "name": "stdout",
          "output_type": "stream",
          "text": [
            "TOPIC 0\n",
            "\n",
            "\bhighly recommend book (33.2%)\n",
            "\n",
            "\bbook highly recommend (2.5%)\n",
            "\n",
            "\blook forward read (1.6%)\n",
            "\n",
            "\bread highly recommend (1.3%)\n",
            "\n",
            "\brecommend book look (1.3%)\n",
            "\n",
            "==================================================\n",
            "TOPIC 1\n",
            "\n",
            "\blook forward read (23.3%)\n",
            "\n",
            "\bforward read book (6.2%)\n",
            "\n",
            "\bforward read author (3.2%)\n",
            "\n",
            "\bbook look forward (3.0%)\n",
            "\n",
            "\bread book series (2.8%)\n",
            "\n",
            "==================================================\n",
            "TOPIC 2\n",
            "\n",
            "\blook forward book (28.1%)\n",
            "\n",
            "\bforward book series (4.5%)\n",
            "\n",
            "\bwait read book (2.9%)\n",
            "\n",
            "\bbook look forward (2.8%)\n",
            "\n",
            "\bexchange honest review (2.5%)\n",
            "\n",
            "==================================================\n",
            "TOPIC 3\n",
            "\n",
            "\bwait read book (18.4%)\n",
            "\n",
            "\bread book series (9.8%)\n",
            "\n",
            "\bnot wait read (5.9%)\n",
            "\n",
            "\bexchange honest review (2.9%)\n",
            "\n",
            "\bread book author (1.1%)\n",
            "\n",
            "==================================================\n",
            "TOPIC 4\n",
            "\n",
            "\bexchange honest review (16.6%)\n",
            "\n",
            "\bbook exchange honest (6.1%)\n",
            "\n",
            "\bcopy book exchange (4.4%)\n",
            "\n",
            "\bauthor exchange honest (3.8%)\n",
            "\n",
            "\breceive copy book (2.4%)\n",
            "\n",
            "==================================================\n",
            "TOPIC 5\n",
            "\n",
            "\bbook highly recommend (51.0%)\n",
            "\n",
            "\bhighly recommend read (4.5%)\n",
            "\n",
            "\bgreat book highly (4.2%)\n",
            "\n",
            "\bread book highly (3.5%)\n",
            "\n",
            "\blove book highly (2.8%)\n",
            "\n",
            "==================================================\n",
            "TOPIC 6\n",
            "\n",
            "\bread book series (53.3%)\n",
            "\n",
            "\bforward read book (4.8%)\n",
            "\n",
            "\bbook series love (4.7%)\n",
            "\n",
            "\bnot wait book (3.0%)\n",
            "\n",
            "\bnot read book (2.9%)\n",
            "\n",
            "==================================================\n",
            "TOPIC 7\n",
            "\n",
            "\bdefinitely recommend book (18.0%)\n",
            "\n",
            "\bauthor great job (3.1%)\n",
            "\n",
            "\babsolutely love book (2.9%)\n",
            "\n",
            "\bnot wait book (2.4%)\n",
            "\n",
            "\bbook look forward (2.2%)\n",
            "\n",
            "==================================================\n",
            "TOPIC 8\n",
            "\n",
            "\bnot wait book (12.3%)\n",
            "\n",
            "\babsolutely love book (10.9%)\n",
            "\n",
            "\bwait book series (5.1%)\n",
            "\n",
            "\bnot wait read (4.6%)\n",
            "\n",
            "\bauthor great job (3.7%)\n",
            "\n",
            "==================================================\n",
            "TOPIC 9\n",
            "\n",
            "\bauthor great job (166.3%)\n",
            "\n",
            "\babsolutely love book (26.6%)\n",
            "\n",
            "\bgreat job explain (17.7%)\n",
            "\n",
            "\bbook author great (12.1%)\n",
            "\n",
            "\bgreat job write (7.8%)\n",
            "\n",
            "==================================================\n",
            "TOPIC 10\n",
            "\n",
            "\babsolutely love book (-162.3%)\n",
            "\n",
            "\blove book wait (-18.3%)\n",
            "\n",
            "\bbook wait read (-15.7%)\n",
            "\n",
            "\blove book love (-13.5%)\n",
            "\n",
            "\bwait read book (-13.2%)\n",
            "\n",
            "==================================================\n",
            "TOPIC 11\n",
            "\n",
            "\bnot wait read (42.4%)\n",
            "\n",
            "\blove love love (6.5%)\n",
            "\n",
            "\bread highly recommend (5.3%)\n",
            "\n",
            "\bhighly recommend read (4.8%)\n",
            "\n",
            "\bbook not wait (4.3%)\n",
            "\n",
            "==================================================\n",
            "TOPIC 12\n",
            "\n",
            "\bread highly recommend (17.4%)\n",
            "\n",
            "\bbook look forward (16.5%)\n",
            "\n",
            "\benjoy reading book (7.6%)\n",
            "\n",
            "\bhighly recommend read (3.3%)\n",
            "\n",
            "\bget well well (2.4%)\n",
            "\n",
            "==================================================\n",
            "TOPIC 13\n",
            "\n",
            "\bbook look forward (-106.7%)\n",
            "\n",
            "\blove love love (-37.7%)\n",
            "\n",
            "\brecommend book look (-15.2%)\n",
            "\n",
            "\benjoy book look (-13.4%)\n",
            "\n",
            "\bwait book come (-9.1%)\n",
            "\n",
            "==================================================\n",
            "TOPIC 14\n",
            "\n",
            "\blove love love (15.9%)\n",
            "\n",
            "\bget well well (11.7%)\n",
            "\n",
            "\bkeep get well (10.9%)\n",
            "\n",
            "\bseries keep get (5.6%)\n",
            "\n",
            "\benjoy reading book (5.3%)\n",
            "\n",
            "==================================================\n"
          ]
        }
      ],
      "source": [
        "# TOP TOKENS PER TOPIC (RATINGS=5)\n",
        "get_top_tf_idf_tokens_for_topic(V_star3, X_kindle_tri_idf3.columns.tolist(), 5)"
      ]
    },
    {
      "cell_type": "code",
      "execution_count": 17,
      "metadata": {
        "colab": {
          "base_uri": "https://localhost:8080/"
        },
        "id": "C1NOCC-Z97jT",
        "outputId": "c1867f92-f023-4846-b077-f0843edbe9f0"
      },
      "outputs": [
        {
          "name": "stdout",
          "output_type": "stream",
          "text": [
            "Topic 0\n",
            "105.1% Did not like it at all, there was so many errors I had to keep stopping almost twice on the same page  THROUGHOUT THE ENTIRE BOOK and figure out what the story was about because sometimes she had to wipe her &#34;noise&#34; while crying (for example), and he was so freaking manipulative to her where he fires her so she'd be dependent on him and she in turns ends up living in her car with her 8 yo brother in the school parking lot! WTF! Will NOT be recommending this book to anyone.\n",
            "105.1% This book contains some great illustrations.  However, the story is very unrealistic for my home.  What bothers me with this story is how passive the parents are.  They repeatedly ask Emma to clean her room which she never does.  This behavior would be considered disobedient and disrespectful in my home and would meet with a consequence enforced by the adults.  Because I don&#8217;t want my child exposed to media that says directly or indirectly it is ok to ignore adults, disobey adults or break promises, I cannot recommend this book.\n",
            "105.1% The premise of the story was interesting, and the prologue was quite promising.  A typical romance where both the heroine and hero have to overcome their traumatic past in order to learn to love again.  Fine.We see the two interacting over and over in the first few chapters, but never really spend any time together until the drive home from lunch in Chapter 7, after the five hour &#34;lunch&#34; was completely glossed over.  This is followed by many chapters of the two coming together, pushing apart, (repeat over and over and over).  The coming together nearly all physical, the pushing apart rather mean-spirited lashing out, to be honest.  I'm not sure that any man would say she was a &#34;challenge&#34; instead of just calling her a &#34;b**ch&#34;.  And he wasn't without fault, either.In other words, I just didn't see how anything was coming together for these two, and then suddenly, abrupt HEA ending at 92%!  What just...why...how did this happen?!?!?!The secondary story of Kate's tenuous job at the hospital was also interesting, but concluded weakly.  I would have liked this part of the story built up more to round out Kate's character.That's my overall impression of the story.Also, there were quite a few typos - enough to be distracting, but not annoying.  The nice, but slightly cheesy, professional-looking cover had me thinking this was a published book, but the typos were indicative of self-publishing or a very, very bad proofreader.Despite one of the one-star reviews, the sex in the book was quite mild.  In fact, the use of euphemisms made for very confusing reading and honestly, I couldn't follow the action at all.  I just didn't get it.And of course, my review wouldn't be complete without mentioning the military issue...I do not believe there are any commissioned Marine officers, especially Naval Aviators (USMC pilots are Naval Aviators), that did not attend at least two years of college.  At least in recent times - and this book mentions cell phones so we're talking at least in the 90's or 2000's.  I believe even LDO's and Warrant Officers (not pilots) have to get degrees these days.  This is not an important issue because it does not affect the timeline or anything at all, but just annoys me.I would not recommend this book.\n",
            "105.1% I couldn't finish it and I ALWAYS finish books!  The writing style was choppy and juvenile.  It read as if the author herself was a freshman in college.  Do not recommend this book.\n",
            "105.1% This book had me laughing out loud at every page, I just could not help it. They were so polite and proper about the situation, it played out like a bad porn. At one point, I was laughing so hard, I had to put it down until I collected my barrings.These two were perfect for each other;&#34;Oh my, why did I touch her there?&#34;&#34;Oh my, why did he touch me there?&#34;&#34;Shes not being very modest.&#34;&#34;I'm not being very modest. Maybe I should go for it. After all, he did touch me there. There's nothing wrong with that.&#34;&#34;Maybe she would like to help me prepare some taxes when we're done.&#34;LMAO!And the use of clinical wording to describe parts best left unmentioned, well that only added to the comedy of it.Really, I would not recommend this book to anyone, but if you are in the market for a good twisted laugh, you'll get it here for sure.\n",
            "==================================================\n",
            "Topic 1\n",
            "112.5% Really not my cup of tea.  Maybe I'm just too old, but it was stilted and obviously written for a younger audience.\n",
            "112.5% Lost me in the first chapter. Can't say much about this book but I slogged though the first few pages and put it down. Not my cup of tea.\n",
            "112.5% I got this story in a box set and I was excited to read it as Cassandra Carr is a &#34;multi-award winning erotic romance writer.&#34; I also realize that not all books fit all readers. This book did not fit me at all.The title is &#34;Seducing Chase,&#34; Chase being Val Chase the h, and we never see that name again. The writing is as flat, disjointed and clunky as the title is not indicative of the content. I'm in chapter five and I still have no idea who these people are, what they want, where they're coming from. Val is immature and whiney, her boss is a putz, and Nate is a back-stabbing, uncaring cad.All that has happened is everyone running around wringing their hands, stepping on toes, trying to put out fires, that never could have happened in the first place.I'm too far in with no return on my investment of time. I don't care enough about the characters or the unbelievable storyline and dialogue to read further. There is no chemistry either. It's random notes with no melody. Not my cup of tea.\n",
            "112.5% I remember why I don't read modern romances -- way too much mental angst and too little story with pages of pre-sex tension.  Not my cup of tea.\n",
            "112.5% I found this monotonous and boring. I am quitting after only 12%. Just not my cup of tea, might be great for someone else.\n",
            "==================================================\n",
            "Topic 2\n",
            "334.5% Did not like these books at all.  They didn't appear to be well written and seemed to  be written by a very new writer.\n",
            "334.5% I did not like this book at all, but I plowed through it.  There was no plot or story.\n",
            "334.5% I don't know if this was the end or not. But I didn't like the 3rd book. The other two were good but this was a stupid book quite frankly. I think the ending could have been handled better. The thing with the coach? Wth? That's all I have to say\n",
            "334.5% I did not like this book it scared me to know some people are out there that would hurt a girl so bad that she was scared to find a true person that would care.Thank you Ruby Miller\n",
            "334.5% Did not like this book at all.  The charachters were not developed.  Thestory was unrealistic.  It was not good at all.  I have ocd about finishing abook so I did finish it but it was hours of my life I can't get back.  Not worththe time or money!!!!\n",
            "==================================================\n",
            "Topic 3\n",
            "56.4% Just cannot seem to finish the book...\n",
            "56.4% I could not finish this book it was so boring and I have deleted it from my library! The writing style was very immature!\n",
            "56.4% Could not finish the book. Quit reading in chapter two.\n",
            "56.4% Let me preface this with how I do usually love Brit mysteries. This being said, I just don't like this one. It is boring, too much fill in and not enough story. Even Miss Marple has more zip than this story and she's old. I did not finish the book because I just found it too dull and boring. Just not my taste in a book, and like I said, I am very surprised to be saying this.\n",
            "56.4% No story. Could not even finish the book.\n",
            "==================================================\n",
            "Topic 4\n",
            "88.3% Loved the cover just hated everything else. I really wanted to like this book, but sorry it was just boring.\n",
            "88.3% I really, really wanted to like this book so bad.. But I couldnt.. It has a potential but it kinda developed so fast...I din't have the time to get in the storry at all.. I'm glad it was free and I dind't have to buy it.\n",
            "88.3% I wanted to like this book, I really did. It sounded like it was right up my alley. Then I started reading. First off, I had a serious problem with Abbey agreeing to help her friend by possibly having sex with what she thought was a married man. Then she meets the guy and is attracted to him so of course she sleeps with him, again knowing he's supposedly married. She doesn't know anything about him, just takes the word of her friend who tells her he's a sleaze.  Apparently the friend is a lousy businesswoman as she doesn't even know who she's filming and has no qualms about watching and filming her friend have sex with the married man. With a friend like that, who needs enemies. Don't waste your time on this one. Even if you can deal with the above, the Billionaire turns out to be a rather namby pamby sniveling fool who, for such a savvy businessman, is sure a poor judge of character and can't seem to make up his mind about anything.\n",
            "88.3% Who edited this book?  There are so many missing words I got tired of filling in the blanks. I wanted to like this book, but I couldn't get past the horrible editing. I couldn't even finish it. I have read every other Emily Snow book and I am terribly disappointed.\n",
            "88.3% I wanted to like this book because it has a fascinating premise -- the hidden story behind Adam and Eve. Unfortunately the hidden story seems to be that they were a pair of boring do-gooders sent here by a mindblogging bureaucracy that apparently runs the universe just like another day at the office. And we all know how much fun that is. I didn't finish the book because I felt I'd invested enough time in cardboard characters. So this is just my view on about the first third.\n",
            "==================================================\n"
          ]
        }
      ],
      "source": [
        "# TOP DOCUMENTS PER TOPIC (RATINGS 1 and 2)\n",
        "get_top_documents_for_each_topic(U1, kindle2[kindle2[\"overall\"]<3][\"reviewText\"].tolist())"
      ]
    },
    {
      "cell_type": "code",
      "execution_count": 18,
      "metadata": {
        "colab": {
          "base_uri": "https://localhost:8080/"
        },
        "id": "6Mmkr1tU-A3E",
        "outputId": "1939a3f8-6ea9-4cc8-e219-3428bf173c09"
      },
      "outputs": [
        {
          "name": "stdout",
          "output_type": "stream",
          "text": [
            "Topic 0\n",
            "288.1% Jin and his friends now inhabit my imagination as the characters are well developed and written. While this book was slightly less engaging than the first, it still kept my interest and I am looking forward to reading the next. In fact I am hoping for several more after that if the author gets busy!\n",
            "288.1% This novel is a light-hearted adventure suitable for YA or even children. It has great lovable characters and a well thought out plot that is far from obvious. It tells the tale of a young and brave girl named Kira, who risks all to save her beloved father from his death sentence in a notorious prison. I found this book a charming read, light but with just the right hint of darkness to give the story some juice. I look forward to reading more of Katie&#8217;s books.\n",
            "288.1% Fascinating tale of the publishing world. Affair with a married man, not so interesting. Difficult for me to get past the viewpoint of the wife, as I am one. I did get pulled into the life of Kate and her love triangle. She does end up with the right man for her. We readers do so seem to love our men to be handsome and rich. I look forward to reading the continuing saga of Kate, Mac, Nick and Grace. Yes, as noted elsewhere there are typos. Ebooks seem to have more than their share. Also not a fan of intimate sexual details. I skip over those pages.\n",
            "288.1% A good prequel to get me interested in the series. Norse Gods, Dark Elves, fighting, humor, and mixed with a little romance. I loved Gunnar and Inga as a couple and I look forward to reading about Ull and his search for the one, Kristia.\n",
            "288.1% Really enjoyed this book. I came across it on Facebook. I am looking forward to reading the neat one in the series.\n",
            "==================================================\n",
            "Topic 1\n",
            "94.6% Brought to you by OBS reviewer AndraIntriguing&#8230;suspenseful&#8230;&#8230;riveting&#8230;.a bit of romance thrown in.  All adjectives I like to use when describing a book I just finished reading.  I found the depth and complexity of the building of the bridge interesting and well written.  The archaeological aspects of the story grabbed me and would not let me go until I had read every word in the story.I loved the saying&#8230;&#8220;But he knew he was stuck between a tsunami and an avalanche.&#8221;A nice change from the saying &#8220;being stuck between a rock and a hard place&#8221;.  This phrase brought a smile to my face.  Humor is also another valuable component of a good read.I am happy to report that the shift between current time and the time when the bridge was built was smooth and not confusing to this reader.  When transitions between time periods are not smooth, I tend lose interest right away, so needless to say, I was pleasantly surprised when the transitions were smooth.Jeffrey Perren portrayed the challenges, set-backs and risks that go along with archaeological digs in a realistic and engaging manner.  At each set back I rooted for Griffin&#8230;.he just had to get the funding was all I thought!  And boy did Griffin have LOTS of setbacks.Speaking of Griffin, he is such a likeable main character. But definitely fraught with bad luck&#8230;or so it seems.  As the story continues we realize that sabotage is in the air.  But of course the mystery remains as to who would do such a thing to this academic?  I am happy to report that as with any good mystery, it was not until the very end that I put the pieces together.  The story held my interest and at times kept me reading far later than I had anticipated.Griffin&#8217;s love interest &#8211; Mari is a strong Peruvian woman with her mind made up as to what she wants to do and accomplish in her own right.  She has a domineering father who wants her to marry Miguel &#8211; to further his own aspirations (business and political).  At times it was hard to tell if she was with Griffin or against him&#8230;..but I had to believe as a woman whom loved Griffin, that she was just portrayed as sneaky (to rival her father and Miguel).This book is an excellent and captivating story.  Told with ease, from the perspective of modern day and the 9th century. This is a long read but I am glad that I persevered and completed this intriguing story.*OBS would like to thank the author for supplying a free copy of this title in exchange for an honest review*\n",
            "94.6% I recieved a copy of Cartier's Ring in exchange for an honest review.This is a well researched historical novel depicting life and conflct between various Canadian Indian tribes, and their trade and transactions with the early French explorers and traders in the 16th century.The first part of the novel tells the story of Myeerah, a young girl who is a &#8216;foreigner&#8217; in her tribe, and whose &#8216;husband&#8217; is taken to France, and never seen by her again, while she is kidnapped by her birth tribe. The second part, continues with Myeerah's story jumping forward in long strides, until she is finally seen as an octogenarian grandmother.I found the different names of tribes and people, very confusing. I thought too many characters were mentioned. Also, I didn&#8217;t feel I got to know any of them very well. Another confusing aspect was the constant change in narrator, which was first person for some characters and third person for others. The action chops and changes quickly between tribes, and to the French ship, and crew. Ultimately, there was too much information packed into too few pages. A brief introduction with a map and some basic historical information would have been helpful.I think someone who is interested in Canadian history might be drawn into the story, but I found it very hard to relate to the characters and follow the story line.\n",
            "94.6% **I RECEIVED THIS NOVEL IN EXCHANGE FOR AN HONEST REVIEW**Where to begin?The book begins with Clare Murray, Logan Matthews and Clare's daughter, Maddie, are flying into a destination wedding resort to get married. After a few snafus, the couple get married. There really isn't much more to say about the plot of the book. It basically follows the couple around over the few days leading up to and their wedding day.It had a few sweet moments... like Logan singing a song to Clare and Maddie asking if she could call Logan Daddy, but I felt those were the highlights of the book.Honestly, Clare came off as very neurotic throughout the book. Everything was 'a sign' that they shouldn't get married... her dress being ruined when they landed at the resort when she hated it to begin with, Logan's fainting by the pool. It just aggravated me a little bit that she was reading too much into all these events. Airlines are NOTORIOUS for losing/ruining luggage ALL the time. If you don't eat something during the day and are in the sun, yes, you will faint.The sex scenes were mediocre. That MIGHT be my fault, though... I read a LOT of BSDM/erotic books, so I am accustomed to NOTHING being left to the imagination. If you like your books to just brush along the edge of erotic scenes, Ms. Berg's portrayal will be right up your alley. But it just didn't do anything for me.This book also included a bonus short story, Never Been More Ready, which focuses on Clare's BFF, Leah and her husband Declan. I wouldn't say it followed the couple as they prepared for parenthood, since it mainly centered around the night Leah went into labor (and all the hilarity of the beginning of labor), but it was enjoyable. I found it to be TOO short. I would have liked more about the baby's first year, like her first word and first steps.FINAL THOUGHTSFun read. Easily readable in a day, if not less depending on your reading speed. Just don't expect it to be gritty and dirty.STARS: 4/5WOULD RECOMMEND: Yes\n",
            "94.6% I was given a copy of &#34;Wilde and the Witch&#34; by Lisagh J. Winters in exchange for an honest review.  Also I'm participating in the virtual book tour hosted by Star Angel's Review.*****Olivia Emerson is a young clairvoyant that has been investigating haunting for a few years now. Only problem is that she's been doing it on a volunteer basis.  Not getting anywhere financially, she has been supporting herself waiting tables in hopes that she will one day hit it big in the world of  ghost hunting.She seizes the opportunity, cleans almost all her savings out in order to work with the famous Sullivan Wilde.  They have been called to Newfoundland to investigate a haunting in Port Aux Basque.  All they know is that there is some evil and dark entity that is haunting a small private island and the owner needs this ghost gone before he loses everything he has invested.With Sullivan Wilde, he has a chip on his shoulder.  He doesn't believe that people can talk to ghosts.  He has refused to work with any sort of clairvoyant due to them all being charlatans.  However, this time he doesn't have a choice.  The client has demanded to have the best clairvoyant on this case irregardless of how Sullivan feels.From the first meeting, Olivia and Sullivan start to butt heads.  He has an arrogant attitude about him.  She doesn't trust men.  So the two of them are destined nothing but trouble.  Olivia is trying her best to get along with Sullivan, but with his stubbornness, sharp tongue, and ill temper, she has to learn to stand her ground to this beautiful man.Sullivan has issues from the first time he laid eyes on Olivia.  First, she appears to be really young.  He swore she looked 15.  Secondly, she is the most beautiful looking thing he ever saw.  However, it's her capabilities as a psychic medium that make him detest her even more.  Plus, this woman has sas. She isn't taking his crap that he's dishing out...she's slinging it right back in his face...very attractive!It's when they get to the remote island and dropped off in the dead of a winter blizzard, do the two discover that what they are about to face is pure evil.  They will have to either learn to set their differences aside and work together or someone will get hurt.  With a ghost that is pure evil, capable of physically harming humans, the extreme cold temperatures and ego's getting in the way, will this highly dysfunctional pair be able to survive what is ahead of them?*****I don't understand why I do this to myself, but I love to read paranormal book but will refuse to watch a scary movie.  With this book, it scared the crap out of me!  I made the mistake of reading it at night.  I did fine until they hit the island.  Granted this book is mild in comparison to some of the horror novels I read, I still got scared.  I had nightmares galore and wasn't able to go back to sleep.I did find myself getting irritated with how Sullivan was acting.  I just wanted to reach up and slap him for his behavior towards Olivia.  With his constant insults and not believing in what she was capable of doing, I so hated him.  I can see how she was attracted to this beautiful man, but sometimes it's the attitude that makes them ugly.There was a couple of issues I had with the book.  One was how the story jumped so fast towards the end.  Not to give away the ending, but it was like the story just hit a wall and stopped in regards to the evil ghost.  Also, I realize that there is some issues with Sullivan that Olivia and I both were questioning, but I am only assuming that these will be addressed in the second installment, &#34;His Wounded Rose,&#34; which I'm starting ASAP.Other than these two minor glitches, I did enjoy this book.  It does have enough horror aspect to it to scare me.  Plus enough romance to please any romance fan.  My only suggestion is, if you do get spooked slightly, then this might not be good night-time reading!\n",
            "94.6% Vampire Keller O'Leary has only stepped foot in Nashville for two reasons:1). His sister, Sage, sent him a personal invitation;2). There is powerful blood flowing through the veins in Nashville.Only, there's a female force to be reckoned with inside this town.  After partaking in his evening &#34;meal&#34; and depositing her at the local hospital for treatment, he's assaulted.  His attacker is female, knows he is a vampire, and orders him to leave the city....Immediately.  There's just one problem:  he may have quite possibly located his one and only true mate.  Okay ~ actually there are a couple of problems ~ The second being the identity of his true mate.This is a well written novella that pulled  me into the world of Josie Hawk and won't let go.  I immediately added Crimson Beat and Indigo Dawn to my TBR shelf on Goodreads (see links below to add them to yours!)  Josie is a Huntress and she has no problem exerting her badassery.  She's intolerant of evil and bends over backwards (forward, inside, outside, or upside down if need be) to protect her humans.There is a certain amount of undeniable chemistry between Keller and his mate.  When Keller actually realizes what (or who) he's finally found, his lost sense of humanity slowly starts to rebuilt itself.  Josie is a tough, sarcastic hero but her love for the human population of Nashville is undeniable, making her a very strong and likable character.  Part of the novella is told from Keller's POV and part is told from Josie's POV.  This gives the novella a uniqueness that allows both characters to shine without dimming the star power of the other.  I can't wait to see where the author takes us in the next novella and full-length novel.Review copy courtesy of the author/publisher, at no cost, in exchange for an honest review.\n",
            "==================================================\n",
            "Topic 2\n",
            "91.6% I love the bundle of 1and 2. I'm hooked on the series. Each book gets better and there are a lot of \"I didn't see that coming\" moments. Lots of emotion. The characters were great. I look forward to book three.\n",
            "91.6% I found that book to be easy reading and it kept my attention.I am looking forward to the next book.\n",
            "91.6% Even though I've never really considered myself a romance fan, K.J. Charles is rapidly becoming one of my favorite authors - enough that, when I finished burning through A Case of Possession and saw there weren't to be any further Magpie Lord books for several months but this one was coming out in a couple of weeks, I did something I've never done before and pre-ordered it!  Something about her stories manages to fascinate and inspire me in a way that few romances (and, really, few stories) do.Upon reflection, I think it's the care and focus with which she builds her characters.  It seems like a lot of romance stories take a significant shortcut in that arena, just assuming that these are nice people that you like and want to see together, without taking any time to demonstrate who they really are, or why they're attracted to each other, or any of the historical or emotional context other than perhaps a few casual swipes at a past affair gone wrong or an unhappy childhood.  Charles' characters, on the contrary, are vividly drawn, with well-developed histories, personalities, and motivations, and thus real chemistry.  (I particularly liked the contrast here between Curtis' straightforward-to-a-fault worldview and da Silva's demimonde of entendres and subtle implications.)  I also love that her romances always contain an external story of some sort - relationships are shaped by context as much as by individuals, and hers never exist in a vacuum.The writing is still a little tell-don't-show in places, and the transitions between the character moments and the external plot can be a touch choppy. Still, Charles' style continues to improve, and the ending is left open for potential sequels that I feel the characters could well support.  I'm very much looking forward to her next book, be it about these characters, the Magpie series characters, or some other series entirely.\n",
            "91.6% The book was different from what I expected. More seducing and betrayal. I love how to lead characters insect and fall for one another. I'm looking forward to the next book so I can find out what happens.\n",
            "91.6% Enjoyed reading this mystery.  I felt the frustration as I was reading. Cullen seemed to handle his coworkers, the lazy and the ambitious. Looking forward to next book by Ed James.\n",
            "==================================================\n",
            "Topic 3\n",
            "93.7% If you love Alpha bad boys then you must read. Book 1 in a series.\n",
            "93.7% Ryland and Dallas make the perfect couple! Although a totally predictable book, the pace was fast moving and it still held my interest. I'll read the next book of the series just because... Yeah, just because I need to know what happens next!\n",
            "93.7% I have read a series by Noelle and it was decent. 3 stars for me. I have read almost everything by JS Cooper and have lovely nearly everything she has written. All 4 & 5 stars. I have read all of Shanora`s books and they were all 4&5 stars also. I have read the books by them in this series and they were phenomenal. Just for those books is worth the 99 cents. The others I have not read, but I`m sure just as good as the others. For the price and how many full length books is a win. Highly recommend getting this set. Totally worth it!\n",
            "93.7% I liked this quick read. Several sub plots kept it interesting. I would read the other books in this series.\n",
            "93.7% Two years ago I read the first several books in this series. Now I'm ready to finish the job, only a lot more books have been published since then. So I'm starting from the beginning and enjoying the series all over again. While I remember some,  there was still a bunch I'd forgotten in this first book.In my family a pair of siblings married a pair of siblings so it's definitely a concept I am very familiar with. When I was a little girl it never occurred to me that one set of those couples could be one brother from each respective family. Which is the case with Travis' family. There are no gay family members. To the point that he is deeply closeted.  Living a lie to placate his homophobic parents.  He hoped he had his sister's support but he can't be certain so he doesn't want to risk loosing her love & respect. When two wolf shifter brothers scent them as mates, there are double dates where Travis and his Mate are actting as &#34;chaperones&#34;. Of course the mate pull is too strong and Rainy's seduction too enticing for Travis to resist. As you can imagine this causes alot of problems within his family. And if that's not enough there is the little matter of their mates revealing to Travis and his sister that they're wolf shifters. Screams and locked doors! Then there is the little issue of someone else claiming Rainy as a mate. Oh really?!!But to answer the main question A shifter ends up in the zoo when there are poachers in the National Forest who tranq him & others then sell them to zoos. Cliff Travis' brother in law helps bring awareness to the other animals and shifters in need who are also being victimized by the poachers. He lets his pack alpha know who brings in a Siberian tiger shifter who's a police detective, in addition to other pack members the beta and enforcer. The scene is set for the next book in the series.\n",
            "==================================================\n",
            "Topic 4\n",
            "84.9% I received a free copy of this book to read and review for Wicked Reads.Cute book with an interesting premise. Holly James was a victim of a brutal attack that has left her with emotional scars as well as the inability to accept any sort of touch. Its physically painful for her to accept a handshake or hug from anyone, including those closest to her.Imagine her surprise when a chance encounter at a concert shows her that not everyone's touch is painful. Startled, she runs away, only to be dragged up on stage by none other than the lead singer for the Renegades, Drew Walker.Drew is an a$$. He knows it and everyone around him does as well. He wants things his way and no other. He has to be in control and he seeks to control Holly. He wants her like he's wanted no other and means to have her.I would love to more about Drew's backstory.~~Wicked Reads Review Team~~\n",
            "84.9% I received a free copy of this book to read and review for Wicked Reads.I love it when an author takes everything you love about a book or genre and turns it upside down. This book so funny and amazing. I devoured it in one setting.I can't wait to see where Virgina exploits takes us next.~~Wicked Reads Review Team~~\n",
            "84.9% -I received a free copy of this book to read and review for The Wicked Reads Review Team-WHAT'S GOING TO HAPPEN NEXT? Angela is caught between a Playboy and a cheating husband! Of course my pick is Logan Black and his deliciousness! But Christopher is playing hard ball in the back round. I WANT TO CHOP OFF HIS PENIS. Amount others things. I think the indecision would be best here because I like my angst. And what's this deal with Janet, was it the truth?? I think the plot is going to thicken in the next installment.Anywho, this has STEAMY sex, and a twisty plot you will love! I have my predictions but I'll keep them to myself. Nope, no spoiling from me.\n",
            "84.9% I received a free copy of this book to read and review for Wicked Reads.Abby Delaney arrives in Corbin's Bend looking for a new start. She's tired, physically and mentally, and for once, wants things to go her way. She's intrigued by Corbin's Bend, but doesn't think she's ready for the lifestyle.Harris Montgomery is intrigued by the newly arrived Abby Delaney. Taking a chance, he asks her out and begins his discovery of the of the innocent woman he would like to introduce to spanking.Take a look around Corbin's Bend, I think you'll like what you see. I can't wait for the next installment of this series.~~Wicked Reads Review Team~~\n",
            "84.9% ** I received a free copy of this book to read and review for Wicked Reads. **The synopsis had me hooked. I enjoyed the beginning but I quickly found myself losing interest and skimming pages. It wasn't the dark factor or the taboo subject matter those I can deal with and read often. It just seemed to fall off somewhere. Some of the character interaction seemed odd, the conversations were off. It became very chopping not finishing a thought or a scene completely. Then the ending seemed very rushed.I have read other work by Missy Johnson and this definitely didn't have the same feel or writing style. I applaud her effort to step into a darker genre.*Wicked Reads Review Team*\n",
            "==================================================\n"
          ]
        }
      ],
      "source": [
        "# TOP DOCUMENTS PER TOPIC (RATINGS 3 and 4)\n",
        "get_top_documents_for_each_topic(U2,kindle2[(kindle2[\"overall\"]>=3) & (kindle2[\"overall\"]<5)][\"reviewText\"].tolist())"
      ]
    },
    {
      "cell_type": "code",
      "execution_count": 19,
      "metadata": {
        "colab": {
          "base_uri": "https://localhost:8080/"
        },
        "id": "i0PJeSAG-BcD",
        "outputId": "f8f73645-5a61-4fba-8f2d-cfbe18bc6ece"
      },
      "outputs": [
        {
          "name": "stdout",
          "output_type": "stream",
          "text": [
            "Topic 0\n",
            "136.4% I found this book helpful on many levels. As a mom of two elementary school students, as a business owner and entrepreneur, the tools in this concise, highly-enjoyable book gave me valuable insights for better utilizing my resources to nurture a culture of prosperity in running my days. A novice at understanding the principles of Feng Shui, I found this book to be well-written in terms of giving educating me on the five elements of Feng Shui and I was initially intrigued by this title because marrying what I knew of Feng Shui with wealth seemed a strange marriage to strike. But this book didn&#8217;t disappoint in any way.The author&#8217;s style is informative without being too technical, as well as engaging and attention-grabbing. Clear learning objectives are identified, so you know exactly what you&#8217;ll learn by reading this book! For the value this book brings in giving much food for thought to all those inclined to succeed and for teaching me several excellent techniques I can immediately implement at home as a mom and in my business, I highly recommend this book.\n",
            "136.4% I highly recommend these books for lovers of English crime stories. I was entranced with them from the beginning to the end and was thrilled to have all three books together to read.  Kudos to the author and Amazon for having them all together as a bundle. Looking forward to more from Ms. Jameson...and quiet evenings with a glass of the Irish and a blazing hearth...and her excellent stories.\n",
            "136.4% This book is well written and the recipes are easy to follow. There is a lot of good ideas in here for great food outdoors. I highly recommend this book to all camping lovers out there.\n",
            "136.4% This book was very say all the way thru but it had some great points we all can learn to live with in life and one of the main one was even thru death and life we all need a person who can be our rock and a shoulder to hold on and cry on for moral support.The story is of a gay fireman named Nicky who is not out and has a very sick mother who meets a man named Michael who is out and open about being gay. How learns to love and over come death and a homophobic priest who thinks he speaks for both God and Nicky's mother. But at the same time Michael learns what he has in a loving mother a bit odd in her ways but very down to earth and excepts everyone for who they are and how lucky to be able to have this type of person in his life. Were Nicky has a very sick mother who loves him but does not know and priest who knows and condemns Nicky all his life. These two guys learn and grow as the story is told and you see the love and the many battles they must overcome to be happy and to support each other.This story was very hard for me to read due to my father passing and I was never was able to tell him and in a lots a ways Nicky mother reminds me in one way and that was what ever makes you happy I will be happy with you and I am very proud of you.I highly recommend the book and be prepared to be touched by the story and if you or someone you know has lived this and you can relate to the story of Nicky and Michael.\n",
            "136.4% I have been quite shy since I was a child and it is a horrible affliction.  I am at the position now in my career where shyness is not an option if I want to keep my job I need to be able to respond confidently to clients and to potential clients.I was at a cocktail party last night that one of the local banks were throwing.  Normally this would fill me with dread but after putting into practice the techniques in this book I was a different person.  I really enjoyed the evening and made many new contacts.I highly recommend this book to other business people who suffer from shyness.\n",
            "==================================================\n",
            "Topic 1\n",
            "202.3% What a exciting book. Mixing the wonderful side to life with the most horrible.. a book that adds love, laughter and fear all in one. Looking forward to reading on.\n",
            "202.3% Citizen Dead (The Harvest #1) by Kevin Anthony is a zombie horror short story about Roam, a twenty-something man who becomes one of the living dead.Roam chokes one morning on his breakfast. Desperate for air, he drinks contaminated tap water. The worldwide pollution raises the dead and makes them zombies. Roam does what any recently dead young man who wakes up in the morgue would do. Our hero calls his best friend Slade, and then goes to work in a department store.Although never turning into a farce, Citizen Dead (The Harvest #1) uses a light touch to describe the first day in the life of a dead man. Roam&#8217;s matter-of-fact explanation of why the media faked his death (which it did not&#8212;Roam had died) lent a refreshing mature point of view to the story&#8217;s hero. The complications of dealing with a zombie that claimed his apartment, and the hometown residents struggling with the living dead infestation, make for an interesting read.A tip of the hat goes to Kevin Anthony for building a zombie fantasy world that avoids the &#8220;we eat brains&#8221; horror clich&eacute;s. The story does a good job introducing characters with distinct voices, and I was especially pleased to find some people using the zombie menace to fuel their greed and revenge. I look forward to reading more of Roam&#8217;s lively living dead adventures.\n",
            "202.3% One of my favorite Kindle books...and if you knew me you would know that being flagged as a favorite book is a rare occurance.  Looking forward to reading more of Marchmont's books.\n",
            "202.3% LOVED this book! It was short but packed on heck of a punch!What a great beginning to a promising new series! Melody Grace has a talent for building steamy scenes and awesome characters with class and not vulgarity (which is very rare!). The chemistry between Alicia and Dex was powerful. I was excited that behind the relationship was a hint of mystery surrounding both characters' pasts and it definitely piqued my interest!I look forward to reading about Alicia and Dex in the next book and am very excited to learn more about the Callahans. Another well done book by Melody Grace.\n",
            "202.3% First I have to say how lucky I am to have great friends that have fantastic taste in authors...I was told about this \"Pure Will\" book and \"had\" to read it...so I said WTH...what do I have to lose...if I don't like it I can stop reading it.NOPE! WAS NOT HAPPENING!This book captured my interest from the very beginning and by the end, owned a huge piece of my heart. It's about so many different emotions being felt at the same time. It's nothing like the \"stereotypical\" contemporary romance...it has it's own way of luring you into these characters and wanting to be a part of it. I truly couldn't put the book down and had to literally force my eyes opened til it was too late....then morning came and I finished it!Ms. Pelton created such a strong character development that you were in no way feeling absent of each of their storylines. In this book you get multiple POV's that help guide you through the story to enhance it all the more. I know lately different POV's have been a huge success and I, myself adore them but she doesn't give you just 2...she fits them into the novel perfectly to once again guide you through this amazing story without confusion.The 2 main characters are strong and endearing. They are a force to be reckon with and make for a 5 star review.Thank You Ms.Pelton..I look forward to reading all her novels from past to future and wish nothing but success in her career. If this book is any indication, we will see much more of her.\n",
            "==================================================\n",
            "Topic 2\n",
            "165.7% A great book.  They get better and better as I read this series.  I am anxiously looking forward to the next book \"Will You Marry Me\"  I have enjoyed the interactions of the primary characters  and love the humorous dialogues.\n",
            "165.7% What a great follow up to Mine to Claim. The romance and chemistry oozed off of every page. I am looking forward to book three. The Sanchez brothers are extra sexy and strong.\n",
            "165.7% Great book to tide a fan of this series over until the next release. Looking forward to the next book.\n",
            "165.7% I ALWAYS ENJOY A GOOD READING WHERE PEOPLE SEEM NORMAL, EVEN THOU THE MIGHT HAVE DIFFERENCES WITH WHAT IS CONSIDERED NORMAL IN OUR WORLD. THEY ARE DIFFERENT IN THEIR SEARCH BUT KEEP BEEN THEMSELVES.LOOKING FORWARD TO THE NEXT BOOK.\n",
            "165.7% Super hot and sexy...what more could you ask for! I love Alysin (aka Sin) and Jolie are like friends you would love to have and Mr. BE what can I say about him but WOW! Looking forward to the next book!\n",
            "==================================================\n",
            "Topic 3\n",
            "90.7% I was SHOCKED when I got to the end of this fantastic story and saw it was rated as Young Adult/Teen Fantasy!  I'm 72 and this was one of the greatest ADULT Fantasy Books I have ever read. Right up there with the Hobbit!  Now, I'll admit I have a soft heart for books that allow a female to be super smart, brave and resourceful. Like several books by Claudy Conn.Calli starts out the lowest of low and rapidly ascends to unbelievable heights, enduring much verbal and mental abuse along the way.  Lorena Angell has a special knack of weaving a story that holds you from the beginning and never lets you go.  I finished this in 2 days.  I got it free on the internet and read it on my Kindle App on my Smartphone. I can't wait to read Book 2 in the series.\n",
            "90.7% It was such an exciting read that left me really excited to read more from this author. There were so many questions that I need answers to, and I want to find out how the romance develops! I can't wait to read the next book in her series.\n",
            "90.7% I love this series. I literally find myself laughing out loud. All the characters are awesome but grandma Nadine is hysterical. Can't wait to read the next book in the series.\n",
            "90.7% I just loved this book and couldn't put it down. Somebody compared the story with Janet Evanovich's Stephanie Plum series, but I think that Josie Brown's story has a more serious undertone. You find yourself laughing, crying and worrying along with Donna. Can't wait to read the other books in this series.\n",
            "90.7% This is the 1st in the Texas Nights series. It is written by Kelsey Browning.It is the story of Allie & Cameron. Allie is a sex therapist, who also teaches women how to find their confidence and inner voice. Cameron is a classic car restorer. Both have come back to Shelbyville after leaving after high school. Allie has opened up her business, and Cameron has just bought a garage for his.Allie was the town princess back in the day; her Dad runs the bank, so he basically runs the town. Cameron was a jock who had to pick up the slack after his Dad left his Mom. Cameron always thought Allie was out of his league. He runs into her on his first day to his new garage when she hits his beloved car, BB, with her big, shiny escalade. Sparks and interest are definitely there when he approaches her about the damage to his car.Allie gets confronted from the women she helps in her group therapy class about why she doesn't have a man in her life. She decides she better get some more experience of her own, to show the women what she teaches them does work. In a small town population, there aren't many men who she would want to help bring out her inner bad girl. Since Cameron is back in town, since he is very easy on the eyes, and since she knows that he is interested in her, Allie propositions him with a no strings attached fling. Cameron is shocked, but since he does have an interest in her, he accepts the offer. He learns more about Allie, and starts to think about other things than just sex.Allie's father does not approve of her business. He would like nothing better than to see it fail. He does one last thing that could be the end of Allie's job. Cameron tries to help her, but this is one princess who wants to prove to everyone that she can rescue herself.I enjoyed this book SO much! It grabbed me from the start and kept my interest all the way through. It is very sexy, sassy, funny, and touching. I can't wait to read more books in this series.\n",
            "==================================================\n",
            "Topic 4\n",
            "90.8% I was given this book free through LibraryThing Member Giveaways in exchange for an honest review.This story can fit into a myriad of genres, such as Horror, fantasy/Sci-Fi, YA, Supernatural thriller etc. The premise is original, where a secret military squad, answering directly to the President, is responsible for solving crimes in the here and now, by conversing with the dead. The way this is done, is by using a combination of terminally ill military personnel, and sending them on a final mission into the afterlife, in search of people who died with important information, and having them relay that information to the resident seer (A gambling Gypsy who converses with the dead through a crystal door knob), before entering the final stage of their respective afterlife.The main arc in The Terminals: Spark, is the relentless, bloody search for a serial killer who died without revealing where he had hidden a busload of kidnapped children. Hillar the Killer, the serial killer in question, was also a Gnostic, and in order to find him, the \"Terminal\" or Euth being sent, must also be a Gnostic, or at least be an expert in Gnostic afterlife beliefs. An interesting storyline to be sure, but also extremely dark, and not for the weak of heart, especially those upset by stories of kidnapped children being tortured and killed.Michael F.Stewart combines sobering violence, with ironic psychological commentary dealing with suicide, murder, government secrecy, spiritualism and morality. The language is colorful, and at times is downright amusing, such the sentence \"the general's office stank like someone had left a used colostomy bag on a radiator to cook.\"  This is not a feel-good, happy ending type of book, but if you like your horror-thrillers dark, quick paced and thought-provoking, I would highly suggest jumping on board for the ride.The last page of the epilogue will straighten your spine, and if you are like me, will make you yearn for volume 2 of the Terminals series.Read review on my blog the Thugbrarian review @ [...]\n",
            "90.8% I was given this book to read in exchange for an honest review, and boy am I glad! I read the blurb and thought, ohh ghosts! Cool!!! But it&#8217;s more than just that, it&#8217;s complex and frightening but most of all it&#8217;s heartwarming at the end. It shows how a couple can overcome adversity, and how things aren&#8217;t always as they appear, how ones beliefs can change in one eye opening instant. The writing was magnificent and really drew me in from the first to the last sentence, the characters had wonderful depth, and the plot was full of mystery and fear but at the end of acceptance and understanding.\n",
            "90.8% Jack and Bear both have daughters they love more than anyone or anything in the world.  In this 'Noble Intentions, Season Four', it seems like every spy or enemy of Jack and Bear come out of hiding at the same time to do them and their daughters harm.  Jack has never had more people trying to kidnap and/or kill him!  The complexity of this story is extravagant and enticing.  The torment Jack and Bear are put thru when their daughters disappear is extreme.  Bear only has to find Mandy; Jack has to travel 3 continents and fight off at least two hired mercenaries while trying to find and save Erin and Mia.  L.T. Ryan has outdone himself in the Spy and Suspense Genre!!!I was given this ebook in exchange for an honest review.\n",
            "90.8% Sophie Brooks has long been a wallflower, although one with a great erotic imagination. But she's been working on transforming herself, outside and in, and now that she's lost all but the last five pounds, she feels ALMOST ready to enter into the competition for bedding a groomsmen at her big brother's destination wedding. AND she's had a crush on Logan McCade for a long, long time.Logan has agreed to &#34;look after&#34; his best friend's introverted little sister, although the heart-shaped, lush ass  leaning over the hotel desk in front of him is awfully tempting. Lucky for him they turn out to be the same person, although banging her practically cross-eyed was probably not what big bro Colton had in mind. So there's the added spice here of secret, forbidden love.I received an ARC courtesy of Entangled Publishing in exchange for an honest review.Sophie does border on annoyingly insecure, and Logan's workaholic ways would leave most women questioning whether they were being played, but of course, it all works out for a Happily Ever After in the end.Lots of steamy sex in these 150 or so pages, and plenty of laugh out loud humor. When Sophie arranges herself, seductive-like, on the bed, and goes to turn out the light... I almost wet myself laughing. Really a delightful read.\n",
            "90.8% Typically, when it comes to romance heroines, I am generally not a fan. You can say that I am all about the men in the romance genre. Mrs. Gibb changed my mind. Marlo is the type of woman who masquerades as if she has everything under control, when in fact she is a broken woman. The thing that the author did right in this book is not to pretend as if Marlo is stronger than she appears. We, the reader, can see that there's something gone awry in Marlo's past. We just don't know what it is.Now to my favorite part of the story, the man. The thing I like most about Adam is the fact that he is not your typical hero. It seems that the romance genre is saturated with overly masculine men, the type that are so strong, so domineering that they drown out their female counterparts. Adam is a reasonable man. He is the type of man that you could meet on the street and not want to instantly punch in the face, which seems to be a thing in romance. However, his ability to be reasonable does not distract from his ability to be masculine. I have no doubt whatsoever that Adam is an alpha male, he just isn't the type of alpha that is only good on paper, but not entirely practical in real life. While I understand fiction is primarily for escapism, I do like the fact that Adam is more representative of real men in the fact that his masculinity does not squeeze out Marlo's existence.The story of Marlo and Adam's romance is a sweet one made complicated by Marlo's tragic past. Things are not made any less complicated by Adam's past, but Marlo is the one who is most reluctant to change.  Overall I like this story. It was sweet, the sex came at the right time and had the right amount of sizzle. Gibb made sure that there was more story than sex. If you are looking for a romance, this is it.**This novel was given as a gift in exchange for an honest review.**\n",
            "==================================================\n",
            "Topic 5\n",
            "90.7% I've always been interested in the effect of our choices on our lives. The author explores this theme beautifully. The characters are believable even though what happens to themis seeminglyunbelievable. The sad truth is it is only to true. This is a great psychological thriller that will keep you glued to the book. Highly recommended.\n",
            "90.7% This is a compelling story written to keep you drawn into the suspenseful circumstances that happen to the main characters in this awesome book. I highly recommend it.\n",
            "90.7% Adventurous and intriguing! You'll love the Hero and heroine. And of course, you'll need to like time travel, too. This one has a twist I've not seen in other time travel books, but no spoilers are coming from me. This one also has better editing for grammar and spelling than many kindle books. Highly recommend.\n",
            "90.7% It's a great book. I wish it were longer.  Hopefully there will be a second book.  I highly recommend\n",
            "90.7% &#8220;It's in Your Hands&#8221; is all about creating a master plan to make your dreams become reality. This is not just an inspirational book. It offers in-depth information on goal-setting, decision-making strategies, fighting procrastination, getting organized, dealing with challenges, staying motivated, conquering intimidation, and achieving success. It's perfect for anyone that feels stuck or needs direction in life. The goal-setting assignment in Chapter 2 is wonderful. It also helped to increase clarity as I went through the rest of the book. Highly recommended for anyone that could use some guidance in creating a better life.\n",
            "==================================================\n",
            "Topic 6\n",
            "63.5% If you've read the other books in the series, your well aware of who Shane is. You'd know how his loss affected Reid and Dylan. What we don't know is Shane's side. Part 1 of this book is full of Shane's life, of why he did the unthinkable, and what part Dylan played in it all. This is the part that helps us to understand why Dylan felt responsible for his death. I'll not lie, by the time Part 1 was done I wanted to hate Dylan. I just couldn't though. He has tortured himself enough over his choices and it's caused enough grief and remorse. This part of the book is full of denying and then accepting their homosexuality and how those around them would perceive them because of it. It also shows the abuse that both Reid and Shane suffered from their father both physically and mentally. Be prepared to shed some tears. It's hard to take in how cruel people can be just because of who someone loves.In Part 2, Dylan meets Conner. Conner has been through an emotional 2 years to say the least, but unlike Dylan he didn't let it keep him down. He rose from it choosing to take the better road. When the two meet the attraction is undeniable. However, Dylan meets his match in Connor. I loved the fact that Connor put down the date rule. This book expressed a homosexual couple without the stereotypes. It approached every detail just as if they were any other couple, yet also showed the awkwardness of how society assumes things of them. As with the other books in the series, Connor and Dylan go through some tough moments and circumstances.Part 3 is full of trying to become happy as both want to be. I love the ending! It's so appropriate and gives just enough of a glimpse of what's to come. The whole clan is there and we see a glimpse into each relationship from the series.This book as a whole is probably the best of all. It's a difficult topic to write about. Melissa Collins nailed it, it's full of emotion that will leave you raw and thoughtful during each part. It will make you want to hold the young around you and let them know how much you appreciate them. It will make you want to sit and talk to make sure your loved ones aren't experiencing problems. It may make you feel ashamed of words that have left your mouth and careful they don't leave your mouth again. It shows just how powerful words in frustration or anger are and how they can affect those we love.This book is a definite 5 star thought provoking read.You'll laugh, cry, smile, and blush throughout each part of the book.\n",
            "63.5% I have read all of the books in this series up to this point.  The characters are well defined.  Delaney is a strong yet vile real leading lady with a quick defensive nature that she has developed to protect herself.  It doesn't hide her sweet heart.  L'amour James sexy strong lawman.  He fits right in with the rest of his family & McKenna's extended family.  I will definitely be rereading the series.  Feel good reads.\n",
            "63.5% I have read 3 of the 5 books in this series - I couldn't get into Micah's Callingand Rebel obsession waiting TBR.This prequel answered a few questions and raised my eyebrows about some tidbits of info.Looking forward to MORE of AKM.\n",
            "63.5% A quick enjoyable read. Twins Chynna and Kenya James pull the age old trick of twins.  However each get more than they bargin for. The ending left tons of questions and had me off to read book two in the series.\n",
            "63.5% A book which opens with, &#34;The stench of death permeated the air&#34;, tells you whatever else, the author knows how to cast a baited hook. Moreover, having grabbed your attention, Maria Grazia Swan knows how to keep it.By the time I was a couple of chapters into 'Italian Summer', I was hoping that by reading the 'Mina's Adventures' series out of order I would not do either the author or myself a disservice. I need not have worried.The author is skilled in transporting her reader to the Dolomites, and the smells, sounds and textures of that part of the world permeate the novel. The descriptions are detailed and sensuous without being overdone. The characters and plot are well-marshalled and the love interest grows organically in the story.I will certainly be reading other books in this series.\n",
            "==================================================\n",
            "Topic 7\n",
            "214.4% This book was fantastic!! The author discusses more effective ways to manage anxiety without the use of medications. He acknowledges that medications can be useful for a short time but that they should not be the primary treatment method. This really aligns with my personal beliefs about medications. Specifically, he focuses on meditation techniques and self-talk methods. If you have anxiety issues, I definitely recommend this book!\n",
            "214.4% Okay, I like this guy's style. I've gotten bored with the same old smoothie I make every morning, and found this book on Kindle. I've tried a few and I really like them.--super creative and delicious combinations, and the tips at the beginning on avoiding unnatural ingredients and too much sugar are spot on! I hadn't thought of chopping and freezing the kale or spinach to &#34;tame the strong taste,&#34; but I will definitely try that trick too. I won't be trying the anchovy and sardine smoothie, however. I definitely recommend this book!\n",
            "214.4% This books goes into discussing different types of social communication. Then it goes into exactly what to do to appear confident, dressing, posture,etc.  One thing I find very interesting in this book is that it talks about the importance of breaking the ice and bond with people.  It mentions that people has the urge to communicate, which is true. And that it is ok if you want to start a conversation about something like weather, but make sure to go deeper and ask for people&#8217;s opinion and about people themselves. I totally with the ideas taught in this book that it will definitely make a lot of people become more confident.I definitely recommend this book.\n",
            "214.4% While I can be a little skeptical when it comes to astrological signs and crystals, this book has a wealth of very useful information. I know a lot about my astrological sign &#8211; Taurus &#8211; and I pretty much fit the bill, but this book gave me more information such as what sign I am most compatible with, what metals and flowers are best for me, and specific crystals and gem stones that will benefit me. This book made me a believer and I would definitely recommend this book to anyone.\n",
            "214.4% Finally a book that's based in my age bracket!!! I like that it's for my age group and we can have ever after too!! If you old enough for college aged kids, I definitely recommend this book!!\n",
            "==================================================\n",
            "Topic 8\n",
            "95.5% I literally could not put this book down. I smiled, laughed, and cried throughout the pages. There was so much I related to that at times it was hard to see the words through my tears. Terri Marie has made another beautiful addition to the Montclair brother's series! At times I wanted to reach through the book and hug her characters! Absolutely loved this book just as much as the previous ones! This series is a must read! The relationships between the characters is portrayed perfectly and so realistic you'll wish you knew the Montclair family in real life! I cannot wait for book four!!!\n",
            "98.0% In Hiding Away,  we are given a peek into Cal and Jane's relationship (since it was discussed very little in 'Letting Go').  We are also given information about Jane's background, that isn't as pretty as we may have thought.  She decides to leave her abusive boyfriend and move back home to sort her life out.  She isn't looking for love, but it finds her when she meets Cal.I absolutely loved this book!  The best things happen to you when you aren't expecting or looking for them... which is exactly what happens with Jane and Cal.  Once Cal sets his sights on Jane, there's no holding back.  Neither one was looking for a serious relationship, but once fate steps in, there's no stopping it.  Their attraction is immediate, as if their souls were made for each other.  They are that couple that you could picture being together forever and make you believe in soul mates.  Cal is the guy you want piecing together your broken heart, if you ever find yourself in that situation.This book is a novella that ends in a cliffhanger.  Don't let that stop you from picking it up.  There is so much emotion packed into this book, that you'll forget it's a short read (until you get to the last page and wish there was more).  This book is written so beautifully that you can feel the love between Cal & Jane.  She had me right from the Prologue.  I do need to add that the last line in the book.... if you were to google 'the right way to do a cliffhanger in a book', THAT line should be there.  Holy Cow!!!  Go big or go home! And JM Witt went big with that ending!This was, without a doubt, a 5 star read!  Cannot wait for the next book!  (JM Witt, that means no facebook... we need that next book, pronto!).\n",
            "-162.7% I cannot wait for next book I want to see what happens.  There are still so many unanswered questions.  I also want to see what kind of trouble frost will be getting up to next year.This book also made me want to go back and reread the first two.\n",
            "-162.7% What fantastic characters...I loved them all. I especially liked the fact that although Trey is wonderful he was not portrayed as perfect.  Glad that I read Hiding In Plain Sight first.  Cannot wait to move on to the next book.\n",
            "-162.7% I can not believe the ending I was in shock I want more I can not wait for the next book I never expected that type of  ending I wanted to throw my Kindle against the wall\n",
            "==================================================\n",
            "Topic 9\n",
            "100.2% Simply outstanding! Losing weight is one of the most difficult challenges you can set yourself up to, but thanks to Huntington it is so simple. The author does a great job compiling the most important principles of healthy eating using a clear, solid, engaging narrative style. Lot of tips and solid advice is provided. Forget about being fat forever with this book. Thanks a lot for this spectacular master piece. You have to try it out! It certainly helped me\n",
            "100.2% First I have to say, my heart went out to Quinn. She was so damaged that it was impossible to not want to cheer her on and hope for her to get her happy ending. I felt like Travis was the perfect antidote to Quinn's 'issues' because he was the quintessential alpha male who could not only make you swoon but want to be engulfed in the security of his alphaness :). Beyond these two I loved seeing all of the dynamics of the other characters in the book, you experience a little bit of everything with this group. The author did a great job with the chemistry in the relationships and interactions of the characters.\n",
            "100.2% Changing a bad habit is one of the most difficult challenges you can set yourself up to, but thanks to Sacha Daiz I could improve my grammatical and writing talent a hundred percent. She explains perfectly well how to write correctly and make a successful writing in couple of pages. The author does a great job compiling the most important principles of writing skills development using a clear, solid, engaging narrative style.\n",
            "100.2% I have been trying to invest some extra money I had saved the last few months, but although I have looked for a lot of options everything, no one seemed to be the perfect! Until I found this book... Mutual Funds For Wealth Building is one of the best way of investing and thanks to John McQuilkin I could confirm it. The author does a great job compiling the most important principles of mutual funds investment using a clear, solid, engaging narrative style. Go ahead and grab a copy. It's totally worth it!\n",
            "100.2% The author did a great job collecting dessert recipes which are not only super tasty but also easy to make. It makes being on a diet so much easier!\n",
            "==================================================\n",
            "Topic 10\n",
            "47.6% I absolutely LOVED this book which is the continuation of Strictly Professional with Terrence & Gabi. They are back & have grown up a little since they first met, but with more reasons to stay apart, more drama, & more responsibilities. What a difference a few years make!\n",
            "47.6% Wow absolutely loved this book.  Very dirty and RAW can't wait for Hemy and Cale's stories because they were just as good in this one.  I would give this book more than five stars.\n",
            "47.6% I absolutely loved this book.  Every emotion felt by the characters was tangible.  Casey did an amazing job portraying the depth of the emotions.  I can't wait to see what shenanigans Derk is up to in the next book!\n",
            "47.6% I really absolutely loved this book, I spent the entire day reading it only to finish pretty late in the evening.  I remember waking up a few times throughout the night and thinking about Carson and Carolyn's love story and the family they had raised.  There is a particularly funny section recounting a time when Carson was left alone with all the children for a few days, and mayhem had ensued.  It was also touching to see that even though the McKay children were not prominent in this book, their spouses all made an appearance to bring us up to date on each family that we love from the previous books.  A true FIVE STAR book, that will stay with me for a very long time.\n",
            "47.6% Absolutely loved this book....couldn't put it down. So very grateful for the happy ending. A must read for the romantic at heart.\n",
            "==================================================\n",
            "Topic 11\n",
            "109.7% SUMMER'S BOOK BLOG&#8216;Between the Pain&#8217; is a beautifully written, angst filled story about how people come into our lives for a reason and although we may not see their purpose at first time and patience with eventually show us.&#8220;Fate has a way of playing with the path we take. A chance meeting has become one of the most meaningful moments in my life.&#8221;Hallie is starting a new job as an RN and with that comes new anxieties, a new atmosphere and new co-workers. Starting at Regional Hospital is about to open a Hallie up to a whole new world, but is she ready for everything that comes with that? After years of being friend-zoned by men she starts to think her life plan of becoming a nurse, getting married, having children and a white picket fence by the age of 24 might be unattainable but she hasn&#8217;t fully given up yet&#8230; I mean she still has 2 years right?A lot can happen in 2 years&#8230;After being sent to a conference for her department Hallie meets two men that will forever change the course of her life. Sean and Ryan are in completion with each other right from the beginning but who will show her how to love and who will get her love forever?I loved Hallie right from the first sentence. She is funny and sassy. Her inner monologue had me laughing hysterically. Gia did an amazing job bringing her to life. The story being completely in Hallie&#8217;s pov takes you on the journey of a single girl being a friend to the girl that two men will come to want. But life happens and Hallie has things she has to come to terms with. She has promises to keep, and in the end its peace with herself that she needs to make.Hallie pulled me along with her on this story. I laughed and cried with her, I fought with and for her at times. There were moments I wanted to shake her but then thought &#8220;What would I do in that situation&#8230;&#8221; Probably the same damn thing&#8230;They story has a cliffhanger but informs you there will be a second one that I for one CAN NOT WAIT TO READ! Well done Ms. Riley this story was amazing and I look forward to see what happens with Hallie and&#8230;. Yeah I&#8217;m not tell you guys. Sorry you will just have to read this one for yourselves.\n",
            "109.7% Johnny Ray did it again, another good book of his hand. The book picks up with Noella and Vance who have found happiness again with each other. Before they go to Switzerland to finalize his inheritance, Noella's father throws them an engagement party at the country club.Noella receives a weird phone call and is sure it is her stalker. Her party is ruined.Vance hopes that their short vacation in Switzerland will give them a break. Vance can't shake the feeling someone follows them, will they ever be safe? you need to find out that yourself. go buy the book. I loved the description of Switzerland and recognized the spots the author meant, also the food, omgosh I miss visiting there. Very exciting thriller romance for sure. Can not wait reading more from Mister Ray.\n",
            "109.7% I cannot wait to read more mysteries from this author.  My interest held from the first page.  I kept thinking  I should read more of these!  Such an involved plot.  Very clever author.\n",
            "109.7% I was asked, this morning actually to read and write a review of Sweet Temptations: The Babysitter! I read it within an Hour and only one word sums it up HOT..very very HOT. What do you do when faced with temptation? Do you face it or coward away from it. Mr. Martin certainly didn't coward away from it, even though he knew it was wrong, the temptation was to much to pass up. Dark Inferno certainly delivered a well written story leaving you hungry for more ! Cannot wait to read what is next !\n",
            "109.7% I definitely can not wait to read part 2 to see what is going to happen.\n",
            "==================================================\n",
            "Topic 12\n",
            "56.4% The Cosmic League: Rise of the Allies is a colorful and entertaining children&#8217;s story.Author Pat Hatt creates a superhero themed children&#8217;s story where teamwork and letting go of your ego is the moral of the tale. Catality is used to being the hero and Tarsier Man is set on saving the town himself. However, Zombie Man, Tarsier Man and Catality must come together if they hope to save the town from Goliath the Tyrant.The book rhymes throughout. The pictures are colorful and plentiful, one for every page. The theme of superhero types saving the day is fun for the kids and a great learning tool. My children are very happy with this book and look forward to reading it over and over. I highly recommend it!\n",
            "124.7% I enjoyed reading this  book. Many facts about setting up a start up business as per our creativity. I think, this book is an encouragement to many to understand what exactly is entrepreneurship!!!! Worth reading and highly recommended!!!!!!\n",
            "264.6% I loved and enjoyed reading the fabulous, fantastic, romantic, contemporary love story The Arrangement: The Seduction (Kindle Worlds Novella) by Carly Phillips.Chloe is finishing up her senior year of college and trying to get over the sex tape scandal her ex-boyfriend orchestrated.  Zach wants revenge on Sean Ferro for what he did to his sister and targets Chloe, a close friend of Sean.  Chloe starts seeing Zach and begins falling for him not knowing Zach's plans for her.  As Zach's feelings grow for Chloe, he dreads hurting Chloe.Read the highly recommended, wonderfully written, captivating love story of Zach and Chloe.\n",
            "264.6% I didn't know what to expect. It started off and I was lost for a bit. Then it all started clicking. But touching me in the most emotional way. The story may make you cry if you know someone who has gone threw such. Well worth the read. I HIGHLY recommend it.\n",
            "264.6% This was an exciting book, and the writing style was very enjoyable. Even though you may already know about some of the cases, the authors fills in some juicy details and interesting little-known facts that may surprise you.This is one of those books you cannot put down. Great historical interest from the land of glitz and glamour. Good read..Highly Recommended!\n",
            "==================================================\n",
            "Topic 13\n",
            "44.4% i enjoy all of J B LYNNS BOOKS looking forward to her next one all are great reading easy to get into hard to put down\n",
            "44.4% I was hooked on the very first book and looking forward to the next one, hope there is a next one.\n",
            "44.4% My Hunger is a short novella (book # 3.2) of the Inside Out Series. It contains 4 chapters told from Mark's point of view. I personally suggest reading the Inside Out series to get the most out of My Hunger.Fans of this series will love the suspenseful journey Lisa takes us on where Mark is trying to sort out his reputation, his business, his life&#8230;Mark&#8217;s life is falling apart, he&#8217;s losing control. When his mother is diagnosed with cancer, a scandal is exposed at his gallery and the loss of Rebecca - everything is falling apart.Then there&#8217;s the complicated relationship between Mark & Crystal.  Master wants a submissive and Crystal is obviously not interested in being his submissive but does a good job of turning his life upside down.&#34;She is everything I don&#8217;t want, yet the minute she&#8217;d shown up at my hotel for work, and our eyes had met, the inevitable was in theair.&#34;Love the chemistry between these two&#8230;.I can't wait to read more of Mark and Crystal's story!!I am a huge fan of Ms. Jones and her books. I look forward to the next addition of the &#8220;Inside Out Series&#8221;.\n",
            "44.4% Wolver&#8217;s Gold is book five in The Wolver&#8217;s series by Jacqueline Rhoades, and she definitely has not cut any corners on quality as she churns out the stories.  I immediately fell in love with both male and female leads in this book, as Challenger and Rachel had so much that was admirable and interesting in their characters.  Challenger works for the rascally Eugene Begley conducting special investigations, and he is sent to Gold Gulch under cover to probe for information and evidence related to suspicious deaths in the wolver community.  Rachel lives with her father and helps him run the hotel in the Old West style tourist town where the natives really are living in the 19th century.  I have to admit that I do admire the evolution that Rachel&#8217;s character experiences throughout the course of the book, and I am really looking forward to discovering what is in store for the remaining characters in this series.  I feel that readers who enjoy shifter or paranormal romance will definitely like the books in The Wolvers series, especially Wolver&#8217;s Gold!\n",
            "44.4% As always straight with no chaser. Hopefully the young do read this to get insight on how to stay out of prison. Good book looking forward to part 2\n",
            "==================================================\n",
            "Topic 14\n",
            "80.5% Once again Jessica Wood hit another home run. This series, despite being a short one, is indeed amazing. This story/series keeps getting better and omg Dean Chase.........love love love love. He is on my hot book boyfriend list. And Blair had no idea she had a sister and will finally get to meet her. Once again this book did not leave me confused or with unanswered questions.....it left me wanting more and cannot wait for book 4 to be out.\n",
            "77.2% This is the best series!!!!!  I love love love these alphas! I will read anything this author writes! These books keep getting better and better!\n",
            "106.2% I love this series!!! It keeps getting  better and better.  I'm ready for next one.\n",
            "106.2% OMG OMG OMG !!!! HOW CAN YOU DO THIS TO ME AGAIN ?????!!!!! IT CANNOT END LIKE THIS !!!!! YOU ARE CLIFFY~ING ME TO DEATH !!!!!These two authors wont be happy until they give me a damn heart attack !!This was book 3 in the Untamed series and I really have to say&#8230;. I am even more in love with Dare and Ree that I was before.Escaped Artist is undeniable, without a doubt the best book of theseries so far. This series just keeps getting better and better as it goes on. And that says a lot because after a while they start to get boring when they are short reads like this. Not this one though, These two authors have absolutely chemistry with each other and the characters &#8230;. In the first two books you see a lot of characterbuilding, and you really start to get to know each of them pretty well. InEscaped Artist, the authors take what we have already learned about thecharacters, and stack a hell of a lot more information on top of it, not to mention we get some sexy new characters added to the mix. We got to meet Dash, Dares older brother, we actually heard from his mother this time, which I nthe first two, she was only referenced a few times&#8230;. Not to mention Dash&#8217;s band of hotties (male and female), and oh the drama that band can weave. We also got to see a little of the twins &#8230; they are such cutie pies &#8230;You will not be disappointed in the line up I promise you that. I can&#8217;t even begin to imagine what they have in store for us in the last three books, but if they have their way, I will be bald, because THEY ARE KILLING ME WITH THE CLIFFY&#8217;S !!!!KILLING ME LADIES !!! you should feel guilty &#8230; hahaha Im sure you don&#8217;t !!I cant tell you enough how much I love this series so far and how im practically dying for the next installment.I absolutely recommend this book, but start from the first because you really need to read it as a whole &#8230;Until the next installment, Dare, my love  Don&#8217;t judge !!\n",
            "106.2% This series keeps getting better and better. However still needs better editing -- grammatical errors throughout this series are distracting! I loved the story of leading scorer Phillip Anderson bringing his troubled 16-yr old niece Claire home to Nashville with him after his mother and sister die. He thought he was doing the right thing, he was a kid himself when he got out & he had no idea the horrific life Claire lived while he was building his hockey career. Then we have dancer Reese Allen, who seems so cold and aloof, but she's really broken after finding out the love of her life crushed her young heart and dreams, prompting her to leave her blossoming dance career in NY to return home to Nashville and open her dance studio. Reese and Phillip are off limits to each other, but after a ONS, can't get enough of the other. I love their friendship and the banter between them. Phillip is such a wonderful guy but so terrified Reese will bolt if he confesses he wants more with her. I really enjoyed the relationship between Reese, Phillip and Claire, how they came together as a family. Yeah, I'm a huge Assassins fan!\n",
            "==================================================\n"
          ]
        }
      ],
      "source": [
        "# TOP DOCUMENTS PER TOPIC (RATING 5)\n",
        "get_top_documents_for_each_topic(U3,kindle2[kindle2[\"overall\"]==5][\"reviewText\"].tolist())"
      ]
    },
    {
      "cell_type": "markdown",
      "metadata": {
        "id": "FXBMg1Bs-eBs"
      },
      "source": [
        "\n",
        "\n",
        "\n",
        "## 2. BERT TOPIC MODEL\n",
        "\n",
        "#### We will create 3 models .\n",
        "\n",
        "1) For reviews with ratings <3\n",
        "\n",
        "2) For reviews with ratings between 3 and 4\n",
        "\n",
        "3) For reviews with ratings equal to 5 "
      ]
    },
    {
      "cell_type": "code",
      "execution_count": null,
      "metadata": {
        "colab": {
          "base_uri": "https://localhost:8080/"
        },
        "id": "4SYNlxwVZQus",
        "outputId": "60c12f3d-5ee0-404a-e41f-42e779fde9f2"
      },
      "outputs": [
        {
          "name": "stdout",
          "output_type": "stream",
          "text": [
            "Requirement already satisfied: bertopic in /usr/local/lib/python3.7/dist-packages (0.10.0)\n",
            "Requirement already satisfied: scikit-learn>=0.22.2.post1 in /usr/local/lib/python3.7/dist-packages (from bertopic) (1.0.2)\n",
            "Requirement already satisfied: plotly>=4.7.0 in /usr/local/lib/python3.7/dist-packages (from bertopic) (5.5.0)\n",
            "Requirement already satisfied: pandas>=1.1.5 in /usr/local/lib/python3.7/dist-packages (from bertopic) (1.3.5)\n",
            "Requirement already satisfied: numpy>=1.20.0 in /usr/local/lib/python3.7/dist-packages (from bertopic) (1.21.6)\n",
            "Requirement already satisfied: sentence-transformers>=0.4.1 in /usr/local/lib/python3.7/dist-packages (from bertopic) (2.2.0)\n",
            "Requirement already satisfied: hdbscan>=0.8.28 in /usr/local/lib/python3.7/dist-packages (from bertopic) (0.8.28)\n",
            "Requirement already satisfied: umap-learn>=0.5.0 in /usr/local/lib/python3.7/dist-packages (from bertopic) (0.5.3)\n",
            "Requirement already satisfied: tqdm>=4.41.1 in /usr/local/lib/python3.7/dist-packages (from bertopic) (4.64.0)\n",
            "Requirement already satisfied: pyyaml<6.0 in /usr/local/lib/python3.7/dist-packages (from bertopic) (5.4.1)\n",
            "Requirement already satisfied: joblib>=1.0 in /usr/local/lib/python3.7/dist-packages (from hdbscan>=0.8.28->bertopic) (1.1.0)\n",
            "Requirement already satisfied: cython>=0.27 in /usr/local/lib/python3.7/dist-packages (from hdbscan>=0.8.28->bertopic) (0.29.28)\n",
            "Requirement already satisfied: scipy>=1.0 in /usr/local/lib/python3.7/dist-packages (from hdbscan>=0.8.28->bertopic) (1.4.1)\n",
            "Requirement already satisfied: pytz>=2017.3 in /usr/local/lib/python3.7/dist-packages (from pandas>=1.1.5->bertopic) (2022.1)\n",
            "Requirement already satisfied: python-dateutil>=2.7.3 in /usr/local/lib/python3.7/dist-packages (from pandas>=1.1.5->bertopic) (2.8.2)\n",
            "Requirement already satisfied: tenacity>=6.2.0 in /usr/local/lib/python3.7/dist-packages (from plotly>=4.7.0->bertopic) (8.0.1)\n",
            "Requirement already satisfied: six in /usr/local/lib/python3.7/dist-packages (from plotly>=4.7.0->bertopic) (1.15.0)\n",
            "Requirement already satisfied: threadpoolctl>=2.0.0 in /usr/local/lib/python3.7/dist-packages (from scikit-learn>=0.22.2.post1->bertopic) (3.1.0)\n",
            "Requirement already satisfied: nltk in /usr/local/lib/python3.7/dist-packages (from sentence-transformers>=0.4.1->bertopic) (3.2.5)\n",
            "Requirement already satisfied: torch>=1.6.0 in /usr/local/lib/python3.7/dist-packages (from sentence-transformers>=0.4.1->bertopic) (1.11.0+cu113)\n",
            "Requirement already satisfied: sentencepiece in /usr/local/lib/python3.7/dist-packages (from sentence-transformers>=0.4.1->bertopic) (0.1.96)\n",
            "Requirement already satisfied: huggingface-hub in /usr/local/lib/python3.7/dist-packages (from sentence-transformers>=0.4.1->bertopic) (0.6.0)\n",
            "Requirement already satisfied: transformers<5.0.0,>=4.6.0 in /usr/local/lib/python3.7/dist-packages (from sentence-transformers>=0.4.1->bertopic) (4.18.0)\n",
            "Requirement already satisfied: torchvision in /usr/local/lib/python3.7/dist-packages (from sentence-transformers>=0.4.1->bertopic) (0.12.0+cu113)\n",
            "Requirement already satisfied: typing-extensions in /usr/local/lib/python3.7/dist-packages (from torch>=1.6.0->sentence-transformers>=0.4.1->bertopic) (4.2.0)\n",
            "Requirement already satisfied: importlib-metadata in /usr/local/lib/python3.7/dist-packages (from transformers<5.0.0,>=4.6.0->sentence-transformers>=0.4.1->bertopic) (4.11.3)\n",
            "Requirement already satisfied: filelock in /usr/local/lib/python3.7/dist-packages (from transformers<5.0.0,>=4.6.0->sentence-transformers>=0.4.1->bertopic) (3.6.0)\n",
            "Requirement already satisfied: tokenizers!=0.11.3,<0.13,>=0.11.1 in /usr/local/lib/python3.7/dist-packages (from transformers<5.0.0,>=4.6.0->sentence-transformers>=0.4.1->bertopic) (0.12.1)\n",
            "Requirement already satisfied: packaging>=20.0 in /usr/local/lib/python3.7/dist-packages (from transformers<5.0.0,>=4.6.0->sentence-transformers>=0.4.1->bertopic) (21.3)\n",
            "Requirement already satisfied: requests in /usr/local/lib/python3.7/dist-packages (from transformers<5.0.0,>=4.6.0->sentence-transformers>=0.4.1->bertopic) (2.23.0)\n",
            "Requirement already satisfied: regex!=2019.12.17 in /usr/local/lib/python3.7/dist-packages (from transformers<5.0.0,>=4.6.0->sentence-transformers>=0.4.1->bertopic) (2019.12.20)\n",
            "Requirement already satisfied: sacremoses in /usr/local/lib/python3.7/dist-packages (from transformers<5.0.0,>=4.6.0->sentence-transformers>=0.4.1->bertopic) (0.0.53)\n",
            "Requirement already satisfied: pyparsing!=3.0.5,>=2.0.2 in /usr/local/lib/python3.7/dist-packages (from packaging>=20.0->transformers<5.0.0,>=4.6.0->sentence-transformers>=0.4.1->bertopic) (3.0.8)\n",
            "Requirement already satisfied: numba>=0.49 in /usr/local/lib/python3.7/dist-packages (from umap-learn>=0.5.0->bertopic) (0.51.2)\n",
            "Requirement already satisfied: pynndescent>=0.5 in /usr/local/lib/python3.7/dist-packages (from umap-learn>=0.5.0->bertopic) (0.5.6)\n",
            "Requirement already satisfied: llvmlite<0.35,>=0.34.0.dev0 in /usr/local/lib/python3.7/dist-packages (from numba>=0.49->umap-learn>=0.5.0->bertopic) (0.34.0)\n",
            "Requirement already satisfied: setuptools in /usr/local/lib/python3.7/dist-packages (from numba>=0.49->umap-learn>=0.5.0->bertopic) (57.4.0)\n",
            "Requirement already satisfied: zipp>=0.5 in /usr/local/lib/python3.7/dist-packages (from importlib-metadata->transformers<5.0.0,>=4.6.0->sentence-transformers>=0.4.1->bertopic) (3.8.0)\n",
            "Requirement already satisfied: chardet<4,>=3.0.2 in /usr/local/lib/python3.7/dist-packages (from requests->transformers<5.0.0,>=4.6.0->sentence-transformers>=0.4.1->bertopic) (3.0.4)\n",
            "Requirement already satisfied: idna<3,>=2.5 in /usr/local/lib/python3.7/dist-packages (from requests->transformers<5.0.0,>=4.6.0->sentence-transformers>=0.4.1->bertopic) (2.10)\n",
            "Requirement already satisfied: certifi>=2017.4.17 in /usr/local/lib/python3.7/dist-packages (from requests->transformers<5.0.0,>=4.6.0->sentence-transformers>=0.4.1->bertopic) (2021.10.8)\n",
            "Requirement already satisfied: urllib3!=1.25.0,!=1.25.1,<1.26,>=1.21.1 in /usr/local/lib/python3.7/dist-packages (from requests->transformers<5.0.0,>=4.6.0->sentence-transformers>=0.4.1->bertopic) (1.24.3)\n",
            "Requirement already satisfied: click in /usr/local/lib/python3.7/dist-packages (from sacremoses->transformers<5.0.0,>=4.6.0->sentence-transformers>=0.4.1->bertopic) (7.1.2)\n",
            "Requirement already satisfied: pillow!=8.3.*,>=5.3.0 in /usr/local/lib/python3.7/dist-packages (from torchvision->sentence-transformers>=0.4.1->bertopic) (7.1.2)\n"
          ]
        }
      ],
      "source": [
        "!pip install bertopic\n",
        "from bertopic import BERTopic"
      ]
    },
    {
      "cell_type": "code",
      "execution_count": null,
      "metadata": {
        "colab": {
          "base_uri": "https://localhost:8080/",
          "height": 154,
          "referenced_widgets": [
            "74621264a4264f45ac61c3353af3ddc4",
            "69efb157653d469aba85c7589802b062",
            "80ec5f142f7e42ceb088e589b54a841d",
            "bb6a2d8f942b4e3c83cbe97674650e80",
            "d25a77cbd31446de98d5d6e28bf39027",
            "63b9e63a1c594de4a06f2aa88c308f2f",
            "3ddc5b3924ff4decac9e3f217d4d2c4c",
            "b7c6bfeb82f74904843c25c667c8608c",
            "fc7680cb14224ea2ad2a51d549bc95ff",
            "61e4c7e7e47f42c0986bd7e7a07f15fa",
            "4c6c98457a7742888b0e840e3c3171ad"
          ]
        },
        "id": "mtDa3jCZhKnC",
        "outputId": "5bb08634-2357-42ad-add0-b06617147440"
      },
      "outputs": [
        {
          "data": {
            "application/vnd.jupyter.widget-view+json": {
              "model_id": "74621264a4264f45ac61c3353af3ddc4",
              "version_major": 2,
              "version_minor": 0
            },
            "text/plain": [
              "Batches:   0%|          | 0/2284 [00:00<?, ?it/s]"
            ]
          },
          "metadata": {},
          "output_type": "display_data"
        },
        {
          "name": "stderr",
          "output_type": "stream",
          "text": [
            "2022-05-12 08:40:15,238 - BERTopic - Transformed documents to Embeddings\n",
            "/usr/local/lib/python3.7/dist-packages/numba/np/ufunc/parallel.py:363: NumbaWarning: The TBB threading layer requires TBB version 2019.5 or later i.e., TBB_INTERFACE_VERSION >= 11005. Found TBB_INTERFACE_VERSION = 9107. The TBB threading layer is disabled.\n",
            "  warnings.warn(problem)\n",
            "2022-05-12 08:42:35,096 - BERTopic - Reduced dimensionality\n",
            "2022-05-12 08:42:46,549 - BERTopic - Clustered reduced embeddings\n"
          ]
        }
      ],
      "source": [
        "# create model1 (RATINGS=5)\n",
        " \n",
        "model = BERTopic(verbose=True)\n",
        " \n",
        "#convert to list \n",
        "docs = kindle2[kindle2[\"overall\"]==5][\"cleaned_reviews_lemm\"].to_list()\n",
        " \n",
        "# docs[1:10]\n",
        "topics, probabilities = model.fit_transform(docs)"
      ]
    },
    {
      "cell_type": "code",
      "execution_count": null,
      "metadata": {
        "colab": {
          "base_uri": "https://localhost:8080/"
        },
        "id": "0aiRE0DzrgnB",
        "outputId": "7f5633f3-ae86-4fe3-b064-3f3db5269000"
      },
      "outputs": [
        {
          "name": "stderr",
          "output_type": "stream",
          "text": [
            "/usr/local/lib/python3.7/dist-packages/scipy/sparse/_index.py:126: SparseEfficiencyWarning: Changing the sparsity structure of a csr_matrix is expensive. lil_matrix is more efficient.\n",
            "  self._set_arrayXarray(i, j, x)\n"
          ]
        }
      ],
      "source": [
        "model.save(\"my_topics_model1\")\n"
      ]
    },
    {
      "cell_type": "code",
      "execution_count": null,
      "metadata": {
        "id": "RkEzeeHsEUjg"
      },
      "outputs": [],
      "source": [
        "BerTopic_model = BERTopic.load(\"my_topics_model1\")"
      ]
    },
    {
      "cell_type": "code",
      "execution_count": null,
      "metadata": {
        "colab": {
          "base_uri": "https://localhost:8080/",
          "height": 419
        },
        "id": "30uh66l2hMLj",
        "outputId": "68a725ea-ccdf-4b4a-8ee1-2769c0798b6d"
      },
      "outputs": [
        {
          "data": {
            "text/html": [
              "\n",
              "  <div id=\"df-f17df39e-ea44-43bf-b848-0a5ada09820a\">\n",
              "    <div class=\"colab-df-container\">\n",
              "      <div>\n",
              "<style scoped>\n",
              "    .dataframe tbody tr th:only-of-type {\n",
              "        vertical-align: middle;\n",
              "    }\n",
              "\n",
              "    .dataframe tbody tr th {\n",
              "        vertical-align: top;\n",
              "    }\n",
              "\n",
              "    .dataframe thead th {\n",
              "        text-align: right;\n",
              "    }\n",
              "</style>\n",
              "<table border=\"1\" class=\"dataframe\">\n",
              "  <thead>\n",
              "    <tr style=\"text-align: right;\">\n",
              "      <th></th>\n",
              "      <th>Topic</th>\n",
              "      <th>Count</th>\n",
              "    </tr>\n",
              "  </thead>\n",
              "  <tbody>\n",
              "    <tr>\n",
              "      <th>0</th>\n",
              "      <td>-1</td>\n",
              "      <td>41810</td>\n",
              "    </tr>\n",
              "    <tr>\n",
              "      <th>1</th>\n",
              "      <td>0</td>\n",
              "      <td>1003</td>\n",
              "    </tr>\n",
              "    <tr>\n",
              "      <th>2</th>\n",
              "      <td>1</td>\n",
              "      <td>659</td>\n",
              "    </tr>\n",
              "    <tr>\n",
              "      <th>3</th>\n",
              "      <td>2</td>\n",
              "      <td>521</td>\n",
              "    </tr>\n",
              "    <tr>\n",
              "      <th>4</th>\n",
              "      <td>3</td>\n",
              "      <td>432</td>\n",
              "    </tr>\n",
              "    <tr>\n",
              "      <th>...</th>\n",
              "      <td>...</td>\n",
              "      <td>...</td>\n",
              "    </tr>\n",
              "    <tr>\n",
              "      <th>589</th>\n",
              "      <td>603</td>\n",
              "      <td>10</td>\n",
              "    </tr>\n",
              "    <tr>\n",
              "      <th>588</th>\n",
              "      <td>602</td>\n",
              "      <td>10</td>\n",
              "    </tr>\n",
              "    <tr>\n",
              "      <th>587</th>\n",
              "      <td>601</td>\n",
              "      <td>10</td>\n",
              "    </tr>\n",
              "    <tr>\n",
              "      <th>586</th>\n",
              "      <td>605</td>\n",
              "      <td>10</td>\n",
              "    </tr>\n",
              "    <tr>\n",
              "      <th>613</th>\n",
              "      <td>612</td>\n",
              "      <td>10</td>\n",
              "    </tr>\n",
              "  </tbody>\n",
              "</table>\n",
              "<p>614 rows × 2 columns</p>\n",
              "</div>\n",
              "      <button class=\"colab-df-convert\" onclick=\"convertToInteractive('df-f17df39e-ea44-43bf-b848-0a5ada09820a')\"\n",
              "              title=\"Convert this dataframe to an interactive table.\"\n",
              "              style=\"display:none;\">\n",
              "        \n",
              "  <svg xmlns=\"http://www.w3.org/2000/svg\" height=\"24px\"viewBox=\"0 0 24 24\"\n",
              "       width=\"24px\">\n",
              "    <path d=\"M0 0h24v24H0V0z\" fill=\"none\"/>\n",
              "    <path d=\"M18.56 5.44l.94 2.06.94-2.06 2.06-.94-2.06-.94-.94-2.06-.94 2.06-2.06.94zm-11 1L8.5 8.5l.94-2.06 2.06-.94-2.06-.94L8.5 2.5l-.94 2.06-2.06.94zm10 10l.94 2.06.94-2.06 2.06-.94-2.06-.94-.94-2.06-.94 2.06-2.06.94z\"/><path d=\"M17.41 7.96l-1.37-1.37c-.4-.4-.92-.59-1.43-.59-.52 0-1.04.2-1.43.59L10.3 9.45l-7.72 7.72c-.78.78-.78 2.05 0 2.83L4 21.41c.39.39.9.59 1.41.59.51 0 1.02-.2 1.41-.59l7.78-7.78 2.81-2.81c.8-.78.8-2.07 0-2.86zM5.41 20L4 18.59l7.72-7.72 1.47 1.35L5.41 20z\"/>\n",
              "  </svg>\n",
              "      </button>\n",
              "      \n",
              "  <style>\n",
              "    .colab-df-container {\n",
              "      display:flex;\n",
              "      flex-wrap:wrap;\n",
              "      gap: 12px;\n",
              "    }\n",
              "\n",
              "    .colab-df-convert {\n",
              "      background-color: #E8F0FE;\n",
              "      border: none;\n",
              "      border-radius: 50%;\n",
              "      cursor: pointer;\n",
              "      display: none;\n",
              "      fill: #1967D2;\n",
              "      height: 32px;\n",
              "      padding: 0 0 0 0;\n",
              "      width: 32px;\n",
              "    }\n",
              "\n",
              "    .colab-df-convert:hover {\n",
              "      background-color: #E2EBFA;\n",
              "      box-shadow: 0px 1px 2px rgba(60, 64, 67, 0.3), 0px 1px 3px 1px rgba(60, 64, 67, 0.15);\n",
              "      fill: #174EA6;\n",
              "    }\n",
              "\n",
              "    [theme=dark] .colab-df-convert {\n",
              "      background-color: #3B4455;\n",
              "      fill: #D2E3FC;\n",
              "    }\n",
              "\n",
              "    [theme=dark] .colab-df-convert:hover {\n",
              "      background-color: #434B5C;\n",
              "      box-shadow: 0px 1px 3px 1px rgba(0, 0, 0, 0.15);\n",
              "      filter: drop-shadow(0px 1px 2px rgba(0, 0, 0, 0.3));\n",
              "      fill: #FFFFFF;\n",
              "    }\n",
              "  </style>\n",
              "\n",
              "      <script>\n",
              "        const buttonEl =\n",
              "          document.querySelector('#df-f17df39e-ea44-43bf-b848-0a5ada09820a button.colab-df-convert');\n",
              "        buttonEl.style.display =\n",
              "          google.colab.kernel.accessAllowed ? 'block' : 'none';\n",
              "\n",
              "        async function convertToInteractive(key) {\n",
              "          const element = document.querySelector('#df-f17df39e-ea44-43bf-b848-0a5ada09820a');\n",
              "          const dataTable =\n",
              "            await google.colab.kernel.invokeFunction('convertToInteractive',\n",
              "                                                     [key], {});\n",
              "          if (!dataTable) return;\n",
              "\n",
              "          const docLinkHtml = 'Like what you see? Visit the ' +\n",
              "            '<a target=\"_blank\" href=https://colab.research.google.com/notebooks/data_table.ipynb>data table notebook</a>'\n",
              "            + ' to learn more about interactive tables.';\n",
              "          element.innerHTML = '';\n",
              "          dataTable['output_type'] = 'display_data';\n",
              "          await google.colab.output.renderOutput(dataTable, element);\n",
              "          const docLink = document.createElement('div');\n",
              "          docLink.innerHTML = docLinkHtml;\n",
              "          element.appendChild(docLink);\n",
              "        }\n",
              "      </script>\n",
              "    </div>\n",
              "  </div>\n",
              "  "
            ],
            "text/plain": [
              "     Topic  Count\n",
              "0       -1  41810\n",
              "1        0   1003\n",
              "2        1    659\n",
              "3        2    521\n",
              "4        3    432\n",
              "..     ...    ...\n",
              "589    603     10\n",
              "588    602     10\n",
              "587    601     10\n",
              "586    605     10\n",
              "613    612     10\n",
              "\n",
              "[614 rows x 2 columns]"
            ]
          },
          "execution_count": 28,
          "metadata": {},
          "output_type": "execute_result"
        }
      ],
      "source": [
        "BerTopic_model.get_topic_freq()"
      ]
    },
    {
      "cell_type": "code",
      "execution_count": null,
      "metadata": {
        "colab": {
          "base_uri": "https://localhost:8080/"
        },
        "id": "54xTZXWlbjfU",
        "outputId": "eb6d8390-9110-4adf-c606-5c3bc1dea2b6"
      },
      "outputs": [
        {
          "data": {
            "text/plain": [
              "[('plot', 0.015684531324052387),\n",
              " ('development', 0.010811032300854726),\n",
              " ('character', 0.010541418767077763),\n",
              " ('storyline', 0.010378630765264544),\n",
              " ('line', 0.009148795271554763),\n",
              " ('believable', 0.006974180494066403),\n",
              " ('good', 0.0064682921230997436),\n",
              " ('pace', 0.00641059527327355),\n",
              " ('interest', 0.0063606671632928935),\n",
              " ('excellent', 0.006309829933736354)]"
            ]
          },
          "execution_count": 29,
          "metadata": {},
          "output_type": "execute_result"
        }
      ],
      "source": [
        "BerTopic_model.get_topic(1)"
      ]
    },
    {
      "cell_type": "code",
      "execution_count": null,
      "metadata": {
        "colab": {
          "base_uri": "https://localhost:8080/",
          "height": 80
        },
        "id": "wQRq_p4IWcMo",
        "outputId": "f7d3ab89-3a05-44f7-d8ea-f5f0ff0313b2"
      },
      "outputs": [
        {
          "data": {
            "text/html": [
              "\n",
              "  <div id=\"df-22fd3d1a-6c98-4c51-9770-75218b931670\">\n",
              "    <div class=\"colab-df-container\">\n",
              "      <div>\n",
              "<style scoped>\n",
              "    .dataframe tbody tr th:only-of-type {\n",
              "        vertical-align: middle;\n",
              "    }\n",
              "\n",
              "    .dataframe tbody tr th {\n",
              "        vertical-align: top;\n",
              "    }\n",
              "\n",
              "    .dataframe thead th {\n",
              "        text-align: right;\n",
              "    }\n",
              "</style>\n",
              "<table border=\"1\" class=\"dataframe\">\n",
              "  <thead>\n",
              "    <tr style=\"text-align: right;\">\n",
              "      <th></th>\n",
              "      <th>Topic</th>\n",
              "      <th>Count</th>\n",
              "      <th>Name</th>\n",
              "    </tr>\n",
              "  </thead>\n",
              "  <tbody>\n",
              "    <tr>\n",
              "      <th>2</th>\n",
              "      <td>1</td>\n",
              "      <td>659</td>\n",
              "      <td>1_plot_development_character_storyline</td>\n",
              "    </tr>\n",
              "  </tbody>\n",
              "</table>\n",
              "</div>\n",
              "      <button class=\"colab-df-convert\" onclick=\"convertToInteractive('df-22fd3d1a-6c98-4c51-9770-75218b931670')\"\n",
              "              title=\"Convert this dataframe to an interactive table.\"\n",
              "              style=\"display:none;\">\n",
              "        \n",
              "  <svg xmlns=\"http://www.w3.org/2000/svg\" height=\"24px\"viewBox=\"0 0 24 24\"\n",
              "       width=\"24px\">\n",
              "    <path d=\"M0 0h24v24H0V0z\" fill=\"none\"/>\n",
              "    <path d=\"M18.56 5.44l.94 2.06.94-2.06 2.06-.94-2.06-.94-.94-2.06-.94 2.06-2.06.94zm-11 1L8.5 8.5l.94-2.06 2.06-.94-2.06-.94L8.5 2.5l-.94 2.06-2.06.94zm10 10l.94 2.06.94-2.06 2.06-.94-2.06-.94-.94-2.06-.94 2.06-2.06.94z\"/><path d=\"M17.41 7.96l-1.37-1.37c-.4-.4-.92-.59-1.43-.59-.52 0-1.04.2-1.43.59L10.3 9.45l-7.72 7.72c-.78.78-.78 2.05 0 2.83L4 21.41c.39.39.9.59 1.41.59.51 0 1.02-.2 1.41-.59l7.78-7.78 2.81-2.81c.8-.78.8-2.07 0-2.86zM5.41 20L4 18.59l7.72-7.72 1.47 1.35L5.41 20z\"/>\n",
              "  </svg>\n",
              "      </button>\n",
              "      \n",
              "  <style>\n",
              "    .colab-df-container {\n",
              "      display:flex;\n",
              "      flex-wrap:wrap;\n",
              "      gap: 12px;\n",
              "    }\n",
              "\n",
              "    .colab-df-convert {\n",
              "      background-color: #E8F0FE;\n",
              "      border: none;\n",
              "      border-radius: 50%;\n",
              "      cursor: pointer;\n",
              "      display: none;\n",
              "      fill: #1967D2;\n",
              "      height: 32px;\n",
              "      padding: 0 0 0 0;\n",
              "      width: 32px;\n",
              "    }\n",
              "\n",
              "    .colab-df-convert:hover {\n",
              "      background-color: #E2EBFA;\n",
              "      box-shadow: 0px 1px 2px rgba(60, 64, 67, 0.3), 0px 1px 3px 1px rgba(60, 64, 67, 0.15);\n",
              "      fill: #174EA6;\n",
              "    }\n",
              "\n",
              "    [theme=dark] .colab-df-convert {\n",
              "      background-color: #3B4455;\n",
              "      fill: #D2E3FC;\n",
              "    }\n",
              "\n",
              "    [theme=dark] .colab-df-convert:hover {\n",
              "      background-color: #434B5C;\n",
              "      box-shadow: 0px 1px 3px 1px rgba(0, 0, 0, 0.15);\n",
              "      filter: drop-shadow(0px 1px 2px rgba(0, 0, 0, 0.3));\n",
              "      fill: #FFFFFF;\n",
              "    }\n",
              "  </style>\n",
              "\n",
              "      <script>\n",
              "        const buttonEl =\n",
              "          document.querySelector('#df-22fd3d1a-6c98-4c51-9770-75218b931670 button.colab-df-convert');\n",
              "        buttonEl.style.display =\n",
              "          google.colab.kernel.accessAllowed ? 'block' : 'none';\n",
              "\n",
              "        async function convertToInteractive(key) {\n",
              "          const element = document.querySelector('#df-22fd3d1a-6c98-4c51-9770-75218b931670');\n",
              "          const dataTable =\n",
              "            await google.colab.kernel.invokeFunction('convertToInteractive',\n",
              "                                                     [key], {});\n",
              "          if (!dataTable) return;\n",
              "\n",
              "          const docLinkHtml = 'Like what you see? Visit the ' +\n",
              "            '<a target=\"_blank\" href=https://colab.research.google.com/notebooks/data_table.ipynb>data table notebook</a>'\n",
              "            + ' to learn more about interactive tables.';\n",
              "          element.innerHTML = '';\n",
              "          dataTable['output_type'] = 'display_data';\n",
              "          await google.colab.output.renderOutput(dataTable, element);\n",
              "          const docLink = document.createElement('div');\n",
              "          docLink.innerHTML = docLinkHtml;\n",
              "          element.appendChild(docLink);\n",
              "        }\n",
              "      </script>\n",
              "    </div>\n",
              "  </div>\n",
              "  "
            ],
            "text/plain": [
              "   Topic  Count                                    Name\n",
              "2      1    659  1_plot_development_character_storyline"
            ]
          },
          "execution_count": 30,
          "metadata": {},
          "output_type": "execute_result"
        }
      ],
      "source": [
        "BerTopic_model.get_topic_info(1)"
      ]
    },
    {
      "cell_type": "code",
      "execution_count": null,
      "metadata": {
        "id": "5kDm6BM56sap"
      },
      "outputs": [],
      "source": [
        "# BerTopic_model.get_representative_docs(topic=1)"
      ]
    },
    {
      "cell_type": "code",
      "execution_count": null,
      "metadata": {
        "colab": {
          "base_uri": "https://localhost:8080/",
          "height": 1000
        },
        "id": "xntIuSPPgtq-",
        "outputId": "02b85690-8669-456e-c3a4-52cd6a554f87"
      },
      "outputs": [
        {
          "data": {
            "text/html": [
              "<html>\n",
              "<head><meta charset=\"utf-8\" /></head>\n",
              "<body>\n",
              "    <div>            <script src=\"https://cdnjs.cloudflare.com/ajax/libs/mathjax/2.7.5/MathJax.js?config=TeX-AMS-MML_SVG\"></script><script type=\"text/javascript\">if (window.MathJax) {MathJax.Hub.Config({SVG: {font: \"STIX-Web\"}});}</script>                <script type=\"text/javascript\">window.PlotlyConfig = {MathJaxConfig: 'local'};</script>\n",
              "        <script src=\"https://cdn.plot.ly/plotly-2.8.3.min.js\"></script>                <div id=\"0d077ef2-32af-4346-b334-c66d732264dc\" class=\"plotly-graph-div\" style=\"height:1250px; width:1000px;\"></div>            <script type=\"text/javascript\">                                    window.PLOTLYENV=window.PLOTLYENV || {};                                    if (document.getElementById(\"0d077ef2-32af-4346-b334-c66d732264dc\")) {                    Plotly.newPlot(                        \"0d077ef2-32af-4346-b334-c66d732264dc\",                        [{\"marker\":{\"color\":\"#D55E00\"},\"orientation\":\"h\",\"x\":[0.0017309424350410044,0.0017784328290020985,0.001784531730688194,0.0019054282469242068,0.0019585211567235273],\"y\":[\"life  \",\"heart  \",\"mother  \",\"father  \",\"man  \"],\"type\":\"bar\",\"xaxis\":\"x\",\"yaxis\":\"y\"},{\"marker\":{\"color\":\"#0072B2\"},\"orientation\":\"h\",\"x\":[0.009148795271554763,0.010378630765264544,0.010541418767077763,0.010811032300854726,0.015684531324052387],\"y\":[\"line  \",\"storyline  \",\"character  \",\"development  \",\"plot  \"],\"type\":\"bar\",\"xaxis\":\"x2\",\"yaxis\":\"y2\"},{\"marker\":{\"color\":\"#CC79A7\"},\"orientation\":\"h\",\"x\":[0.005963029638080474,0.007028807154084272,0.007588048998009594,0.028586056204966077,0.05314163152531746],\"y\":[\"surprise  \",\"guess  \",\"unexpected  \",\"turn  \",\"twist  \"],\"type\":\"bar\",\"xaxis\":\"x3\",\"yaxis\":\"y3\"},{\"marker\":{\"color\":\"#E69F00\"},\"orientation\":\"h\",\"x\":[0.00453122006138981,0.005573068383387958,0.005851213649287765,0.008399882555303086,0.04707539164129992],\"y\":[\"mystery  \",\"romance  \",\"supernatural  \",\"ghost  \",\"paranormal  \"],\"type\":\"bar\",\"xaxis\":\"x4\",\"yaxis\":\"y4\"},{\"marker\":{\"color\":\"#56B4E9\"},\"orientation\":\"h\",\"x\":[0.008151013223578606,0.011569629163637999,0.012157342201776281,0.01258600659028596,0.023148646521724738],\"y\":[\"story  \",\"cute  \",\"short  \",\"sweet  \",\"romantic  \"],\"type\":\"bar\",\"xaxis\":\"x5\",\"yaxis\":\"y5\"},{\"marker\":{\"color\":\"#009E73\"},\"orientation\":\"h\",\"x\":[0.017044000424225193,0.018093319128023748,0.020777437657535303,0.025146554394849304,0.049901097515798735],\"y\":[\"ingredient  \",\"delicious  \",\"cookbook  \",\"cook  \",\"recipe  \"],\"type\":\"bar\",\"xaxis\":\"x6\",\"yaxis\":\"y6\"},{\"marker\":{\"color\":\"#F0E442\"},\"orientation\":\"h\",\"x\":[0.012591742717792138,0.013050872779909758,0.018421573406473022,0.02070536532452206,0.03891515896215194],\"y\":[\"loud  \",\"cry  \",\"funny  \",\"humor  \",\"laugh  \"],\"type\":\"bar\",\"xaxis\":\"x7\",\"yaxis\":\"y7\"},{\"marker\":{\"color\":\"#D55E00\"},\"orientation\":\"h\",\"x\":[0.008763658376406488,0.008783930605880648,0.009376008448388345,0.012854513462082308,0.014752102133699591],\"y\":[\"good  \",\"enjoyable  \",\"recommend  \",\"reading  \",\"enjoy  \"],\"type\":\"bar\",\"xaxis\":\"x8\",\"yaxis\":\"y8\"},{\"marker\":{\"color\":\"#0072B2\"},\"orientation\":\"h\",\"x\":[0.00451510444994967,0.004652945355260649,0.005013825402081249,0.0066178485725963965,0.04892301950702034],\"y\":[\"amazing  \",\"pace  \",\"wait  \",\"wow  \",\"amaze  \"],\"type\":\"bar\",\"xaxis\":\"x9\",\"yaxis\":\"y9\"},{\"marker\":{\"color\":\"#CC79A7\"},\"orientation\":\"h\",\"x\":[0.006795498869513513,0.00812001426148616,0.010007681839023532,0.04311940290854622,0.13082053124514023],\"y\":[\"takerra  \",\"real  \",\"pager  \",\"page  \",\"turner  \"],\"type\":\"bar\",\"xaxis\":\"x10\",\"yaxis\":\"y10\"},{\"marker\":{\"color\":\"#E69F00\"},\"orientation\":\"h\",\"x\":[0.015244531263269523,0.018852034823974555,0.030515329509795498,0.03496031065868493,0.13230436529136178],\"y\":[\"healthy  \",\"eat  \",\"recipe  \",\"diet  \",\"paleo  \"],\"type\":\"bar\",\"xaxis\":\"x11\",\"yaxis\":\"y11\"},{\"marker\":{\"color\":\"#56B4E9\"},\"orientation\":\"h\",\"x\":[0.03153129967731229,0.03240861224841348,0.03634471701983636,0.047553886312605195,0.048813074880363155],\"y\":[\"customer  \",\"social  \",\"medium  \",\"business  \",\"marketing  \"],\"type\":\"bar\",\"xaxis\":\"x12\",\"yaxis\":\"y12\"},{\"marker\":{\"color\":\"#009E73\"},\"orientation\":\"h\",\"x\":[0.014549969770646739,0.018761367762636795,0.026502155349487137,0.027494725799518227,0.0314731019731934],\"y\":[\"picture  \",\"rhyme  \",\"kid  \",\"child  \",\"illustration  \"],\"type\":\"bar\",\"xaxis\":\"x13\",\"yaxis\":\"y13\"},{\"marker\":{\"color\":\"#F0E442\"},\"orientation\":\"h\",\"x\":[0.017561959928108745,0.023986530499303223,0.024762654544499843,0.02996993416628661,0.05166213394823424],\"y\":[\"success  \",\"achieve  \",\"motivate  \",\"motivation  \",\"goal  \"],\"type\":\"bar\",\"xaxis\":\"x14\",\"yaxis\":\"y14\"},{\"marker\":{\"color\":\"#D55E00\"},\"orientation\":\"h\",\"x\":[0.03272717729473643,0.03426425086670276,0.03668359937698011,0.0453794526711141,0.0782135308147591],\"y\":[\"option  \",\"trader  \",\"stock  \",\"trade  \",\"trading  \"],\"type\":\"bar\",\"xaxis\":\"x15\",\"yaxis\":\"y15\"},{\"marker\":{\"color\":\"#0072B2\"},\"orientation\":\"h\",\"x\":[0.021736637495256565,0.02308966190425212,0.034218623625918786,0.04981239842099483,0.07829601538219416],\"y\":[\"puppy  \",\"animal  \",\"pet  \",\"cat  \",\"dog  \"],\"type\":\"bar\",\"xaxis\":\"x16\",\"yaxis\":\"y16\"},{\"marker\":{\"color\":\"#CC79A7\"},\"orientation\":\"h\",\"x\":[0.006413664228757462,0.006815408496849574,0.015521221384611981,0.07910254542785326,0.09749988690870463],\"y\":[\"wait  \",\"emperor  \",\"keep  \",\"seat  \",\"edge  \"],\"type\":\"bar\",\"xaxis\":\"x17\",\"yaxis\":\"y17\"},{\"marker\":{\"color\":\"#E69F00\"},\"orientation\":\"h\",\"x\":[0.026325243536410622,0.029332027786611,0.05005836645066681,0.05413544323894918,0.10379435788978243],\"y\":[\"square  \",\"container  \",\"plant  \",\"gardening  \",\"garden  \"],\"type\":\"bar\",\"xaxis\":\"x18\",\"yaxis\":\"y18\"},{\"marker\":{\"color\":\"#56B4E9\"},\"orientation\":\"h\",\"x\":[0.013600755369576008,0.015287196948294265,0.01658036818565826,0.03245014381333526,0.040806021923706234],\"y\":[\"happy  \",\"thinking  \",\"negative  \",\"happiness  \",\"positive  \"],\"type\":\"bar\",\"xaxis\":\"x19\",\"yaxis\":\"y19\"},{\"marker\":{\"color\":\"#009E73\"},\"orientation\":\"h\",\"x\":[0.00639707591248588,0.006753525980167169,0.006872919704062947,0.027696501370562385,0.10701200271383522],\"y\":[\"survival  \",\"genre  \",\"dead  \",\"apocalypse  \",\"zombie  \"],\"type\":\"bar\",\"xaxis\":\"x20\",\"yaxis\":\"y20\"}],                        {\"template\":{\"data\":{\"barpolar\":[{\"marker\":{\"line\":{\"color\":\"white\",\"width\":0.5},\"pattern\":{\"fillmode\":\"overlay\",\"size\":10,\"solidity\":0.2}},\"type\":\"barpolar\"}],\"bar\":[{\"error_x\":{\"color\":\"#2a3f5f\"},\"error_y\":{\"color\":\"#2a3f5f\"},\"marker\":{\"line\":{\"color\":\"white\",\"width\":0.5},\"pattern\":{\"fillmode\":\"overlay\",\"size\":10,\"solidity\":0.2}},\"type\":\"bar\"}],\"carpet\":[{\"aaxis\":{\"endlinecolor\":\"#2a3f5f\",\"gridcolor\":\"#C8D4E3\",\"linecolor\":\"#C8D4E3\",\"minorgridcolor\":\"#C8D4E3\",\"startlinecolor\":\"#2a3f5f\"},\"baxis\":{\"endlinecolor\":\"#2a3f5f\",\"gridcolor\":\"#C8D4E3\",\"linecolor\":\"#C8D4E3\",\"minorgridcolor\":\"#C8D4E3\",\"startlinecolor\":\"#2a3f5f\"},\"type\":\"carpet\"}],\"choropleth\":[{\"colorbar\":{\"outlinewidth\":0,\"ticks\":\"\"},\"type\":\"choropleth\"}],\"contourcarpet\":[{\"colorbar\":{\"outlinewidth\":0,\"ticks\":\"\"},\"type\":\"contourcarpet\"}],\"contour\":[{\"colorbar\":{\"outlinewidth\":0,\"ticks\":\"\"},\"colorscale\":[[0.0,\"#0d0887\"],[0.1111111111111111,\"#46039f\"],[0.2222222222222222,\"#7201a8\"],[0.3333333333333333,\"#9c179e\"],[0.4444444444444444,\"#bd3786\"],[0.5555555555555556,\"#d8576b\"],[0.6666666666666666,\"#ed7953\"],[0.7777777777777778,\"#fb9f3a\"],[0.8888888888888888,\"#fdca26\"],[1.0,\"#f0f921\"]],\"type\":\"contour\"}],\"heatmapgl\":[{\"colorbar\":{\"outlinewidth\":0,\"ticks\":\"\"},\"colorscale\":[[0.0,\"#0d0887\"],[0.1111111111111111,\"#46039f\"],[0.2222222222222222,\"#7201a8\"],[0.3333333333333333,\"#9c179e\"],[0.4444444444444444,\"#bd3786\"],[0.5555555555555556,\"#d8576b\"],[0.6666666666666666,\"#ed7953\"],[0.7777777777777778,\"#fb9f3a\"],[0.8888888888888888,\"#fdca26\"],[1.0,\"#f0f921\"]],\"type\":\"heatmapgl\"}],\"heatmap\":[{\"colorbar\":{\"outlinewidth\":0,\"ticks\":\"\"},\"colorscale\":[[0.0,\"#0d0887\"],[0.1111111111111111,\"#46039f\"],[0.2222222222222222,\"#7201a8\"],[0.3333333333333333,\"#9c179e\"],[0.4444444444444444,\"#bd3786\"],[0.5555555555555556,\"#d8576b\"],[0.6666666666666666,\"#ed7953\"],[0.7777777777777778,\"#fb9f3a\"],[0.8888888888888888,\"#fdca26\"],[1.0,\"#f0f921\"]],\"type\":\"heatmap\"}],\"histogram2dcontour\":[{\"colorbar\":{\"outlinewidth\":0,\"ticks\":\"\"},\"colorscale\":[[0.0,\"#0d0887\"],[0.1111111111111111,\"#46039f\"],[0.2222222222222222,\"#7201a8\"],[0.3333333333333333,\"#9c179e\"],[0.4444444444444444,\"#bd3786\"],[0.5555555555555556,\"#d8576b\"],[0.6666666666666666,\"#ed7953\"],[0.7777777777777778,\"#fb9f3a\"],[0.8888888888888888,\"#fdca26\"],[1.0,\"#f0f921\"]],\"type\":\"histogram2dcontour\"}],\"histogram2d\":[{\"colorbar\":{\"outlinewidth\":0,\"ticks\":\"\"},\"colorscale\":[[0.0,\"#0d0887\"],[0.1111111111111111,\"#46039f\"],[0.2222222222222222,\"#7201a8\"],[0.3333333333333333,\"#9c179e\"],[0.4444444444444444,\"#bd3786\"],[0.5555555555555556,\"#d8576b\"],[0.6666666666666666,\"#ed7953\"],[0.7777777777777778,\"#fb9f3a\"],[0.8888888888888888,\"#fdca26\"],[1.0,\"#f0f921\"]],\"type\":\"histogram2d\"}],\"histogram\":[{\"marker\":{\"pattern\":{\"fillmode\":\"overlay\",\"size\":10,\"solidity\":0.2}},\"type\":\"histogram\"}],\"mesh3d\":[{\"colorbar\":{\"outlinewidth\":0,\"ticks\":\"\"},\"type\":\"mesh3d\"}],\"parcoords\":[{\"line\":{\"colorbar\":{\"outlinewidth\":0,\"ticks\":\"\"}},\"type\":\"parcoords\"}],\"pie\":[{\"automargin\":true,\"type\":\"pie\"}],\"scatter3d\":[{\"line\":{\"colorbar\":{\"outlinewidth\":0,\"ticks\":\"\"}},\"marker\":{\"colorbar\":{\"outlinewidth\":0,\"ticks\":\"\"}},\"type\":\"scatter3d\"}],\"scattercarpet\":[{\"marker\":{\"colorbar\":{\"outlinewidth\":0,\"ticks\":\"\"}},\"type\":\"scattercarpet\"}],\"scattergeo\":[{\"marker\":{\"colorbar\":{\"outlinewidth\":0,\"ticks\":\"\"}},\"type\":\"scattergeo\"}],\"scattergl\":[{\"marker\":{\"colorbar\":{\"outlinewidth\":0,\"ticks\":\"\"}},\"type\":\"scattergl\"}],\"scattermapbox\":[{\"marker\":{\"colorbar\":{\"outlinewidth\":0,\"ticks\":\"\"}},\"type\":\"scattermapbox\"}],\"scatterpolargl\":[{\"marker\":{\"colorbar\":{\"outlinewidth\":0,\"ticks\":\"\"}},\"type\":\"scatterpolargl\"}],\"scatterpolar\":[{\"marker\":{\"colorbar\":{\"outlinewidth\":0,\"ticks\":\"\"}},\"type\":\"scatterpolar\"}],\"scatter\":[{\"marker\":{\"colorbar\":{\"outlinewidth\":0,\"ticks\":\"\"}},\"type\":\"scatter\"}],\"scatterternary\":[{\"marker\":{\"colorbar\":{\"outlinewidth\":0,\"ticks\":\"\"}},\"type\":\"scatterternary\"}],\"surface\":[{\"colorbar\":{\"outlinewidth\":0,\"ticks\":\"\"},\"colorscale\":[[0.0,\"#0d0887\"],[0.1111111111111111,\"#46039f\"],[0.2222222222222222,\"#7201a8\"],[0.3333333333333333,\"#9c179e\"],[0.4444444444444444,\"#bd3786\"],[0.5555555555555556,\"#d8576b\"],[0.6666666666666666,\"#ed7953\"],[0.7777777777777778,\"#fb9f3a\"],[0.8888888888888888,\"#fdca26\"],[1.0,\"#f0f921\"]],\"type\":\"surface\"}],\"table\":[{\"cells\":{\"fill\":{\"color\":\"#EBF0F8\"},\"line\":{\"color\":\"white\"}},\"header\":{\"fill\":{\"color\":\"#C8D4E3\"},\"line\":{\"color\":\"white\"}},\"type\":\"table\"}]},\"layout\":{\"annotationdefaults\":{\"arrowcolor\":\"#2a3f5f\",\"arrowhead\":0,\"arrowwidth\":1},\"autotypenumbers\":\"strict\",\"coloraxis\":{\"colorbar\":{\"outlinewidth\":0,\"ticks\":\"\"}},\"colorscale\":{\"diverging\":[[0,\"#8e0152\"],[0.1,\"#c51b7d\"],[0.2,\"#de77ae\"],[0.3,\"#f1b6da\"],[0.4,\"#fde0ef\"],[0.5,\"#f7f7f7\"],[0.6,\"#e6f5d0\"],[0.7,\"#b8e186\"],[0.8,\"#7fbc41\"],[0.9,\"#4d9221\"],[1,\"#276419\"]],\"sequential\":[[0.0,\"#0d0887\"],[0.1111111111111111,\"#46039f\"],[0.2222222222222222,\"#7201a8\"],[0.3333333333333333,\"#9c179e\"],[0.4444444444444444,\"#bd3786\"],[0.5555555555555556,\"#d8576b\"],[0.6666666666666666,\"#ed7953\"],[0.7777777777777778,\"#fb9f3a\"],[0.8888888888888888,\"#fdca26\"],[1.0,\"#f0f921\"]],\"sequentialminus\":[[0.0,\"#0d0887\"],[0.1111111111111111,\"#46039f\"],[0.2222222222222222,\"#7201a8\"],[0.3333333333333333,\"#9c179e\"],[0.4444444444444444,\"#bd3786\"],[0.5555555555555556,\"#d8576b\"],[0.6666666666666666,\"#ed7953\"],[0.7777777777777778,\"#fb9f3a\"],[0.8888888888888888,\"#fdca26\"],[1.0,\"#f0f921\"]]},\"colorway\":[\"#636efa\",\"#EF553B\",\"#00cc96\",\"#ab63fa\",\"#FFA15A\",\"#19d3f3\",\"#FF6692\",\"#B6E880\",\"#FF97FF\",\"#FECB52\"],\"font\":{\"color\":\"#2a3f5f\"},\"geo\":{\"bgcolor\":\"white\",\"lakecolor\":\"white\",\"landcolor\":\"white\",\"showlakes\":true,\"showland\":true,\"subunitcolor\":\"#C8D4E3\"},\"hoverlabel\":{\"align\":\"left\"},\"hovermode\":\"closest\",\"mapbox\":{\"style\":\"light\"},\"paper_bgcolor\":\"white\",\"plot_bgcolor\":\"white\",\"polar\":{\"angularaxis\":{\"gridcolor\":\"#EBF0F8\",\"linecolor\":\"#EBF0F8\",\"ticks\":\"\"},\"bgcolor\":\"white\",\"radialaxis\":{\"gridcolor\":\"#EBF0F8\",\"linecolor\":\"#EBF0F8\",\"ticks\":\"\"}},\"scene\":{\"xaxis\":{\"backgroundcolor\":\"white\",\"gridcolor\":\"#DFE8F3\",\"gridwidth\":2,\"linecolor\":\"#EBF0F8\",\"showbackground\":true,\"ticks\":\"\",\"zerolinecolor\":\"#EBF0F8\"},\"yaxis\":{\"backgroundcolor\":\"white\",\"gridcolor\":\"#DFE8F3\",\"gridwidth\":2,\"linecolor\":\"#EBF0F8\",\"showbackground\":true,\"ticks\":\"\",\"zerolinecolor\":\"#EBF0F8\"},\"zaxis\":{\"backgroundcolor\":\"white\",\"gridcolor\":\"#DFE8F3\",\"gridwidth\":2,\"linecolor\":\"#EBF0F8\",\"showbackground\":true,\"ticks\":\"\",\"zerolinecolor\":\"#EBF0F8\"}},\"shapedefaults\":{\"line\":{\"color\":\"#2a3f5f\"}},\"ternary\":{\"aaxis\":{\"gridcolor\":\"#DFE8F3\",\"linecolor\":\"#A2B1C6\",\"ticks\":\"\"},\"baxis\":{\"gridcolor\":\"#DFE8F3\",\"linecolor\":\"#A2B1C6\",\"ticks\":\"\"},\"bgcolor\":\"white\",\"caxis\":{\"gridcolor\":\"#DFE8F3\",\"linecolor\":\"#A2B1C6\",\"ticks\":\"\"}},\"title\":{\"x\":0.05},\"xaxis\":{\"automargin\":true,\"gridcolor\":\"#EBF0F8\",\"linecolor\":\"#EBF0F8\",\"ticks\":\"\",\"title\":{\"standoff\":15},\"zerolinecolor\":\"#EBF0F8\",\"zerolinewidth\":2},\"yaxis\":{\"automargin\":true,\"gridcolor\":\"#EBF0F8\",\"linecolor\":\"#EBF0F8\",\"ticks\":\"\",\"title\":{\"standoff\":15},\"zerolinecolor\":\"#EBF0F8\",\"zerolinewidth\":2}}},\"xaxis\":{\"anchor\":\"y\",\"domain\":[0.0,0.175],\"showgrid\":true},\"yaxis\":{\"anchor\":\"x\",\"domain\":[0.8639999999999999,0.9999999999999999],\"showgrid\":true},\"xaxis2\":{\"anchor\":\"y2\",\"domain\":[0.275,0.45],\"showgrid\":true},\"yaxis2\":{\"anchor\":\"x2\",\"domain\":[0.8639999999999999,0.9999999999999999],\"showgrid\":true},\"xaxis3\":{\"anchor\":\"y3\",\"domain\":[0.55,0.7250000000000001],\"showgrid\":true},\"yaxis3\":{\"anchor\":\"x3\",\"domain\":[0.8639999999999999,0.9999999999999999],\"showgrid\":true},\"xaxis4\":{\"anchor\":\"y4\",\"domain\":[0.825,1.0],\"showgrid\":true},\"yaxis4\":{\"anchor\":\"x4\",\"domain\":[0.8639999999999999,0.9999999999999999],\"showgrid\":true},\"xaxis5\":{\"anchor\":\"y5\",\"domain\":[0.0,0.175],\"showgrid\":true},\"yaxis5\":{\"anchor\":\"x5\",\"domain\":[0.6479999999999999,0.7839999999999999],\"showgrid\":true},\"xaxis6\":{\"anchor\":\"y6\",\"domain\":[0.275,0.45],\"showgrid\":true},\"yaxis6\":{\"anchor\":\"x6\",\"domain\":[0.6479999999999999,0.7839999999999999],\"showgrid\":true},\"xaxis7\":{\"anchor\":\"y7\",\"domain\":[0.55,0.7250000000000001],\"showgrid\":true},\"yaxis7\":{\"anchor\":\"x7\",\"domain\":[0.6479999999999999,0.7839999999999999],\"showgrid\":true},\"xaxis8\":{\"anchor\":\"y8\",\"domain\":[0.825,1.0],\"showgrid\":true},\"yaxis8\":{\"anchor\":\"x8\",\"domain\":[0.6479999999999999,0.7839999999999999],\"showgrid\":true},\"xaxis9\":{\"anchor\":\"y9\",\"domain\":[0.0,0.175],\"showgrid\":true},\"yaxis9\":{\"anchor\":\"x9\",\"domain\":[0.43199999999999994,0.568],\"showgrid\":true},\"xaxis10\":{\"anchor\":\"y10\",\"domain\":[0.275,0.45],\"showgrid\":true},\"yaxis10\":{\"anchor\":\"x10\",\"domain\":[0.43199999999999994,0.568],\"showgrid\":true},\"xaxis11\":{\"anchor\":\"y11\",\"domain\":[0.55,0.7250000000000001],\"showgrid\":true},\"yaxis11\":{\"anchor\":\"x11\",\"domain\":[0.43199999999999994,0.568],\"showgrid\":true},\"xaxis12\":{\"anchor\":\"y12\",\"domain\":[0.825,1.0],\"showgrid\":true},\"yaxis12\":{\"anchor\":\"x12\",\"domain\":[0.43199999999999994,0.568],\"showgrid\":true},\"xaxis13\":{\"anchor\":\"y13\",\"domain\":[0.0,0.175],\"showgrid\":true},\"yaxis13\":{\"anchor\":\"x13\",\"domain\":[0.21599999999999997,0.352],\"showgrid\":true},\"xaxis14\":{\"anchor\":\"y14\",\"domain\":[0.275,0.45],\"showgrid\":true},\"yaxis14\":{\"anchor\":\"x14\",\"domain\":[0.21599999999999997,0.352],\"showgrid\":true},\"xaxis15\":{\"anchor\":\"y15\",\"domain\":[0.55,0.7250000000000001],\"showgrid\":true},\"yaxis15\":{\"anchor\":\"x15\",\"domain\":[0.21599999999999997,0.352],\"showgrid\":true},\"xaxis16\":{\"anchor\":\"y16\",\"domain\":[0.825,1.0],\"showgrid\":true},\"yaxis16\":{\"anchor\":\"x16\",\"domain\":[0.21599999999999997,0.352],\"showgrid\":true},\"xaxis17\":{\"anchor\":\"y17\",\"domain\":[0.0,0.175],\"showgrid\":true},\"yaxis17\":{\"anchor\":\"x17\",\"domain\":[0.0,0.13599999999999998],\"showgrid\":true},\"xaxis18\":{\"anchor\":\"y18\",\"domain\":[0.275,0.45],\"showgrid\":true},\"yaxis18\":{\"anchor\":\"x18\",\"domain\":[0.0,0.13599999999999998],\"showgrid\":true},\"xaxis19\":{\"anchor\":\"y19\",\"domain\":[0.55,0.7250000000000001],\"showgrid\":true},\"yaxis19\":{\"anchor\":\"x19\",\"domain\":[0.0,0.13599999999999998],\"showgrid\":true},\"xaxis20\":{\"anchor\":\"y20\",\"domain\":[0.825,1.0],\"showgrid\":true},\"yaxis20\":{\"anchor\":\"x20\",\"domain\":[0.0,0.13599999999999998],\"showgrid\":true},\"annotations\":[{\"font\":{\"size\":16},\"showarrow\":false,\"text\":\"Topic 0\",\"x\":0.0875,\"xanchor\":\"center\",\"xref\":\"paper\",\"y\":0.9999999999999999,\"yanchor\":\"bottom\",\"yref\":\"paper\"},{\"font\":{\"size\":16},\"showarrow\":false,\"text\":\"Topic 1\",\"x\":0.36250000000000004,\"xanchor\":\"center\",\"xref\":\"paper\",\"y\":0.9999999999999999,\"yanchor\":\"bottom\",\"yref\":\"paper\"},{\"font\":{\"size\":16},\"showarrow\":false,\"text\":\"Topic 2\",\"x\":0.6375000000000001,\"xanchor\":\"center\",\"xref\":\"paper\",\"y\":0.9999999999999999,\"yanchor\":\"bottom\",\"yref\":\"paper\"},{\"font\":{\"size\":16},\"showarrow\":false,\"text\":\"Topic 3\",\"x\":0.9125,\"xanchor\":\"center\",\"xref\":\"paper\",\"y\":0.9999999999999999,\"yanchor\":\"bottom\",\"yref\":\"paper\"},{\"font\":{\"size\":16},\"showarrow\":false,\"text\":\"Topic 4\",\"x\":0.0875,\"xanchor\":\"center\",\"xref\":\"paper\",\"y\":0.7839999999999999,\"yanchor\":\"bottom\",\"yref\":\"paper\"},{\"font\":{\"size\":16},\"showarrow\":false,\"text\":\"Topic 5\",\"x\":0.36250000000000004,\"xanchor\":\"center\",\"xref\":\"paper\",\"y\":0.7839999999999999,\"yanchor\":\"bottom\",\"yref\":\"paper\"},{\"font\":{\"size\":16},\"showarrow\":false,\"text\":\"Topic 6\",\"x\":0.6375000000000001,\"xanchor\":\"center\",\"xref\":\"paper\",\"y\":0.7839999999999999,\"yanchor\":\"bottom\",\"yref\":\"paper\"},{\"font\":{\"size\":16},\"showarrow\":false,\"text\":\"Topic 7\",\"x\":0.9125,\"xanchor\":\"center\",\"xref\":\"paper\",\"y\":0.7839999999999999,\"yanchor\":\"bottom\",\"yref\":\"paper\"},{\"font\":{\"size\":16},\"showarrow\":false,\"text\":\"Topic 8\",\"x\":0.0875,\"xanchor\":\"center\",\"xref\":\"paper\",\"y\":0.568,\"yanchor\":\"bottom\",\"yref\":\"paper\"},{\"font\":{\"size\":16},\"showarrow\":false,\"text\":\"Topic 9\",\"x\":0.36250000000000004,\"xanchor\":\"center\",\"xref\":\"paper\",\"y\":0.568,\"yanchor\":\"bottom\",\"yref\":\"paper\"},{\"font\":{\"size\":16},\"showarrow\":false,\"text\":\"Topic 10\",\"x\":0.6375000000000001,\"xanchor\":\"center\",\"xref\":\"paper\",\"y\":0.568,\"yanchor\":\"bottom\",\"yref\":\"paper\"},{\"font\":{\"size\":16},\"showarrow\":false,\"text\":\"Topic 11\",\"x\":0.9125,\"xanchor\":\"center\",\"xref\":\"paper\",\"y\":0.568,\"yanchor\":\"bottom\",\"yref\":\"paper\"},{\"font\":{\"size\":16},\"showarrow\":false,\"text\":\"Topic 12\",\"x\":0.0875,\"xanchor\":\"center\",\"xref\":\"paper\",\"y\":0.352,\"yanchor\":\"bottom\",\"yref\":\"paper\"},{\"font\":{\"size\":16},\"showarrow\":false,\"text\":\"Topic 13\",\"x\":0.36250000000000004,\"xanchor\":\"center\",\"xref\":\"paper\",\"y\":0.352,\"yanchor\":\"bottom\",\"yref\":\"paper\"},{\"font\":{\"size\":16},\"showarrow\":false,\"text\":\"Topic 14\",\"x\":0.6375000000000001,\"xanchor\":\"center\",\"xref\":\"paper\",\"y\":0.352,\"yanchor\":\"bottom\",\"yref\":\"paper\"},{\"font\":{\"size\":16},\"showarrow\":false,\"text\":\"Topic 15\",\"x\":0.9125,\"xanchor\":\"center\",\"xref\":\"paper\",\"y\":0.352,\"yanchor\":\"bottom\",\"yref\":\"paper\"},{\"font\":{\"size\":16},\"showarrow\":false,\"text\":\"Topic 16\",\"x\":0.0875,\"xanchor\":\"center\",\"xref\":\"paper\",\"y\":0.13599999999999998,\"yanchor\":\"bottom\",\"yref\":\"paper\"},{\"font\":{\"size\":16},\"showarrow\":false,\"text\":\"Topic 17\",\"x\":0.36250000000000004,\"xanchor\":\"center\",\"xref\":\"paper\",\"y\":0.13599999999999998,\"yanchor\":\"bottom\",\"yref\":\"paper\"},{\"font\":{\"size\":16},\"showarrow\":false,\"text\":\"Topic 18\",\"x\":0.6375000000000001,\"xanchor\":\"center\",\"xref\":\"paper\",\"y\":0.13599999999999998,\"yanchor\":\"bottom\",\"yref\":\"paper\"},{\"font\":{\"size\":16},\"showarrow\":false,\"text\":\"Topic 19\",\"x\":0.9125,\"xanchor\":\"center\",\"xref\":\"paper\",\"y\":0.13599999999999998,\"yanchor\":\"bottom\",\"yref\":\"paper\"}],\"title\":{\"font\":{\"size\":22,\"color\":\"Black\"},\"text\":\"<b>Topic Word Scores\",\"x\":0.5,\"xanchor\":\"center\",\"yanchor\":\"top\"},\"hoverlabel\":{\"font\":{\"size\":16,\"family\":\"Rockwell\"},\"bgcolor\":\"white\"},\"showlegend\":false,\"width\":1000,\"height\":1250},                        {\"responsive\": true}                    ).then(function(){\n",
              "                            \n",
              "var gd = document.getElementById('0d077ef2-32af-4346-b334-c66d732264dc');\n",
              "var x = new MutationObserver(function (mutations, observer) {{\n",
              "        var display = window.getComputedStyle(gd).display;\n",
              "        if (!display || display === 'none') {{\n",
              "            console.log([gd, 'removed!']);\n",
              "            Plotly.purge(gd);\n",
              "            observer.disconnect();\n",
              "        }}\n",
              "}});\n",
              "\n",
              "// Listen for the removal of the full notebook cells\n",
              "var notebookContainer = gd.closest('#notebook-container');\n",
              "if (notebookContainer) {{\n",
              "    x.observe(notebookContainer, {childList: true});\n",
              "}}\n",
              "\n",
              "// Listen for the clearing of the current output cell\n",
              "var outputEl = gd.closest('.output');\n",
              "if (outputEl) {{\n",
              "    x.observe(outputEl, {childList: true});\n",
              "}}\n",
              "\n",
              "                        })                };                            </script>        </div>\n",
              "</body>\n",
              "</html>"
            ]
          },
          "metadata": {},
          "output_type": "display_data"
        }
      ],
      "source": [
        "#VISUALIZE TOPICS\n",
        "BerTopic_model.visualize_barchart(top_n_topics=20)"
      ]
    },
    {
      "cell_type": "code",
      "execution_count": null,
      "metadata": {
        "colab": {
          "base_uri": "https://localhost:8080/",
          "height": 100,
          "referenced_widgets": [
            "f8548b06c0f440e892d59831fd2fd73e",
            "8594e3f7454345bbad3df36d7584e1ea",
            "f9037a7cdcc749b2890df64c7ee8bb15",
            "1efc66d12fe745dea7014c2a82f05666",
            "bf9aa42b412944e99427f9a0b1736fbd",
            "0ed23fa879634a86bb5178ebd5286dba",
            "98d01554d001471083f1f5ab873a1450",
            "6190462cbc5d454bb23e76edfb4b66be",
            "2037a1c27c9e4a96b211c3842151543c",
            "af899852382d454d8f9d80b2529b06fa",
            "87755146418a4fa6b417e433fe12d229"
          ]
        },
        "id": "ryvMRNYZ-kNS",
        "outputId": "6b855b83-1da8-4c00-e587-66ee824254cd"
      },
      "outputs": [
        {
          "data": {
            "application/vnd.jupyter.widget-view+json": {
              "model_id": "f8548b06c0f440e892d59831fd2fd73e",
              "version_major": 2,
              "version_minor": 0
            },
            "text/plain": [
              "Batches:   0%|          | 0/168 [00:00<?, ?it/s]"
            ]
          },
          "metadata": {},
          "output_type": "display_data"
        },
        {
          "name": "stderr",
          "output_type": "stream",
          "text": [
            "2022-05-12 08:46:38,176 - BERTopic - Transformed documents to Embeddings\n",
            "2022-05-12 08:46:57,311 - BERTopic - Reduced dimensionality\n",
            "2022-05-12 08:46:57,595 - BERTopic - Clustered reduced embeddings\n"
          ]
        }
      ],
      "source": [
        "# create model2 (POOR RATINGS)\n",
        " \n",
        "model2 = BERTopic(verbose=True)\n",
        " \n",
        "#convert to list \n",
        "docs = kindle2[kindle2[\"overall\"]<3][\"cleaned_reviews_lemm\"].to_list()\n",
        " \n",
        "# docs[1:10]\n",
        "topics, probabilities = model2.fit_transform(docs)"
      ]
    },
    {
      "cell_type": "code",
      "execution_count": null,
      "metadata": {
        "id": "IS2u3PwyT5I1"
      },
      "outputs": [],
      "source": [
        "#SAVE MODEL\n",
        "model2.save(\"my_topics_model2\")"
      ]
    },
    {
      "cell_type": "code",
      "execution_count": null,
      "metadata": {
        "colab": {
          "base_uri": "https://localhost:8080/",
          "height": 173
        },
        "id": "_SAf7rhj8fJd",
        "outputId": "b28cd9f4-1a48-4e45-deef-d70e707feea9"
      },
      "outputs": [
        {
          "data": {
            "text/html": [
              "\n",
              "  <div id=\"df-51fdc632-baae-49ff-9d82-51e566f1367c\">\n",
              "    <div class=\"colab-df-container\">\n",
              "      <div>\n",
              "<style scoped>\n",
              "    .dataframe tbody tr th:only-of-type {\n",
              "        vertical-align: middle;\n",
              "    }\n",
              "\n",
              "    .dataframe tbody tr th {\n",
              "        vertical-align: top;\n",
              "    }\n",
              "\n",
              "    .dataframe thead th {\n",
              "        text-align: right;\n",
              "    }\n",
              "</style>\n",
              "<table border=\"1\" class=\"dataframe\">\n",
              "  <thead>\n",
              "    <tr style=\"text-align: right;\">\n",
              "      <th></th>\n",
              "      <th>Topic</th>\n",
              "      <th>Count</th>\n",
              "    </tr>\n",
              "  </thead>\n",
              "  <tbody>\n",
              "    <tr>\n",
              "      <th>0</th>\n",
              "      <td>0</td>\n",
              "      <td>5225</td>\n",
              "    </tr>\n",
              "    <tr>\n",
              "      <th>1</th>\n",
              "      <td>1</td>\n",
              "      <td>56</td>\n",
              "    </tr>\n",
              "    <tr>\n",
              "      <th>2</th>\n",
              "      <td>-1</td>\n",
              "      <td>36</td>\n",
              "    </tr>\n",
              "    <tr>\n",
              "      <th>3</th>\n",
              "      <td>2</td>\n",
              "      <td>30</td>\n",
              "    </tr>\n",
              "  </tbody>\n",
              "</table>\n",
              "</div>\n",
              "      <button class=\"colab-df-convert\" onclick=\"convertToInteractive('df-51fdc632-baae-49ff-9d82-51e566f1367c')\"\n",
              "              title=\"Convert this dataframe to an interactive table.\"\n",
              "              style=\"display:none;\">\n",
              "        \n",
              "  <svg xmlns=\"http://www.w3.org/2000/svg\" height=\"24px\"viewBox=\"0 0 24 24\"\n",
              "       width=\"24px\">\n",
              "    <path d=\"M0 0h24v24H0V0z\" fill=\"none\"/>\n",
              "    <path d=\"M18.56 5.44l.94 2.06.94-2.06 2.06-.94-2.06-.94-.94-2.06-.94 2.06-2.06.94zm-11 1L8.5 8.5l.94-2.06 2.06-.94-2.06-.94L8.5 2.5l-.94 2.06-2.06.94zm10 10l.94 2.06.94-2.06 2.06-.94-2.06-.94-.94-2.06-.94 2.06-2.06.94z\"/><path d=\"M17.41 7.96l-1.37-1.37c-.4-.4-.92-.59-1.43-.59-.52 0-1.04.2-1.43.59L10.3 9.45l-7.72 7.72c-.78.78-.78 2.05 0 2.83L4 21.41c.39.39.9.59 1.41.59.51 0 1.02-.2 1.41-.59l7.78-7.78 2.81-2.81c.8-.78.8-2.07 0-2.86zM5.41 20L4 18.59l7.72-7.72 1.47 1.35L5.41 20z\"/>\n",
              "  </svg>\n",
              "      </button>\n",
              "      \n",
              "  <style>\n",
              "    .colab-df-container {\n",
              "      display:flex;\n",
              "      flex-wrap:wrap;\n",
              "      gap: 12px;\n",
              "    }\n",
              "\n",
              "    .colab-df-convert {\n",
              "      background-color: #E8F0FE;\n",
              "      border: none;\n",
              "      border-radius: 50%;\n",
              "      cursor: pointer;\n",
              "      display: none;\n",
              "      fill: #1967D2;\n",
              "      height: 32px;\n",
              "      padding: 0 0 0 0;\n",
              "      width: 32px;\n",
              "    }\n",
              "\n",
              "    .colab-df-convert:hover {\n",
              "      background-color: #E2EBFA;\n",
              "      box-shadow: 0px 1px 2px rgba(60, 64, 67, 0.3), 0px 1px 3px 1px rgba(60, 64, 67, 0.15);\n",
              "      fill: #174EA6;\n",
              "    }\n",
              "\n",
              "    [theme=dark] .colab-df-convert {\n",
              "      background-color: #3B4455;\n",
              "      fill: #D2E3FC;\n",
              "    }\n",
              "\n",
              "    [theme=dark] .colab-df-convert:hover {\n",
              "      background-color: #434B5C;\n",
              "      box-shadow: 0px 1px 3px 1px rgba(0, 0, 0, 0.15);\n",
              "      filter: drop-shadow(0px 1px 2px rgba(0, 0, 0, 0.3));\n",
              "      fill: #FFFFFF;\n",
              "    }\n",
              "  </style>\n",
              "\n",
              "      <script>\n",
              "        const buttonEl =\n",
              "          document.querySelector('#df-51fdc632-baae-49ff-9d82-51e566f1367c button.colab-df-convert');\n",
              "        buttonEl.style.display =\n",
              "          google.colab.kernel.accessAllowed ? 'block' : 'none';\n",
              "\n",
              "        async function convertToInteractive(key) {\n",
              "          const element = document.querySelector('#df-51fdc632-baae-49ff-9d82-51e566f1367c');\n",
              "          const dataTable =\n",
              "            await google.colab.kernel.invokeFunction('convertToInteractive',\n",
              "                                                     [key], {});\n",
              "          if (!dataTable) return;\n",
              "\n",
              "          const docLinkHtml = 'Like what you see? Visit the ' +\n",
              "            '<a target=\"_blank\" href=https://colab.research.google.com/notebooks/data_table.ipynb>data table notebook</a>'\n",
              "            + ' to learn more about interactive tables.';\n",
              "          element.innerHTML = '';\n",
              "          dataTable['output_type'] = 'display_data';\n",
              "          await google.colab.output.renderOutput(dataTable, element);\n",
              "          const docLink = document.createElement('div');\n",
              "          docLink.innerHTML = docLinkHtml;\n",
              "          element.appendChild(docLink);\n",
              "        }\n",
              "      </script>\n",
              "    </div>\n",
              "  </div>\n",
              "  "
            ],
            "text/plain": [
              "   Topic  Count\n",
              "0      0   5225\n",
              "1      1     56\n",
              "2     -1     36\n",
              "3      2     30"
            ]
          },
          "execution_count": 35,
          "metadata": {},
          "output_type": "execute_result"
        }
      ],
      "source": [
        "model2.get_topic_freq()"
      ]
    },
    {
      "cell_type": "code",
      "execution_count": null,
      "metadata": {
        "colab": {
          "base_uri": "https://localhost:8080/",
          "height": 342
        },
        "id": "1mamSuA98jDd",
        "outputId": "e748828e-7dc1-4933-8302-cfdf5b519c26"
      },
      "outputs": [
        {
          "data": {
            "text/html": [
              "<html>\n",
              "<head><meta charset=\"utf-8\" /></head>\n",
              "<body>\n",
              "    <div>            <script src=\"https://cdnjs.cloudflare.com/ajax/libs/mathjax/2.7.5/MathJax.js?config=TeX-AMS-MML_SVG\"></script><script type=\"text/javascript\">if (window.MathJax) {MathJax.Hub.Config({SVG: {font: \"STIX-Web\"}});}</script>                <script type=\"text/javascript\">window.PlotlyConfig = {MathJaxConfig: 'local'};</script>\n",
              "        <script src=\"https://cdn.plot.ly/plotly-2.8.3.min.js\"></script>                <div id=\"7718ea23-914f-4c53-8047-bd5304c002d9\" class=\"plotly-graph-div\" style=\"height:325.0px; width:1000px;\"></div>            <script type=\"text/javascript\">                                    window.PLOTLYENV=window.PLOTLYENV || {};                                    if (document.getElementById(\"7718ea23-914f-4c53-8047-bd5304c002d9\")) {                    Plotly.newPlot(                        \"7718ea23-914f-4c53-8047-bd5304c002d9\",                        [{\"marker\":{\"color\":\"#D55E00\"},\"orientation\":\"h\",\"x\":[0.04226873691707035,0.047651773914639005,0.051355848876823346,0.06141714690221673,0.07775956789010116],\"y\":[\"like  \",\"read  \",\"story  \",\"not  \",\"book  \"],\"type\":\"bar\",\"xaxis\":\"x\",\"yaxis\":\"y\"},{\"marker\":{\"color\":\"#0072B2\"},\"orientation\":\"h\",\"x\":[0.07776697693587,0.0791873409835863,0.07971687659148434,0.08356489884101745,0.25939666649795723],\"y\":[\"recipes  \",\"food  \",\"cook  \",\"book  \",\"recipe  \"],\"type\":\"bar\",\"xaxis\":\"x2\",\"yaxis\":\"y2\"},{\"marker\":{\"color\":\"#CC79A7\"},\"orientation\":\"h\",\"x\":[0.0878196876262169,0.08828805386682397,0.09697655452747495,0.12464195840022206,0.21106619745290764],\"y\":[\"sugar  \",\"carbs  \",\"calorie  \",\"ketogenic  \",\"diet  \"],\"type\":\"bar\",\"xaxis\":\"x3\",\"yaxis\":\"y3\"}],                        {\"template\":{\"data\":{\"barpolar\":[{\"marker\":{\"line\":{\"color\":\"white\",\"width\":0.5},\"pattern\":{\"fillmode\":\"overlay\",\"size\":10,\"solidity\":0.2}},\"type\":\"barpolar\"}],\"bar\":[{\"error_x\":{\"color\":\"#2a3f5f\"},\"error_y\":{\"color\":\"#2a3f5f\"},\"marker\":{\"line\":{\"color\":\"white\",\"width\":0.5},\"pattern\":{\"fillmode\":\"overlay\",\"size\":10,\"solidity\":0.2}},\"type\":\"bar\"}],\"carpet\":[{\"aaxis\":{\"endlinecolor\":\"#2a3f5f\",\"gridcolor\":\"#C8D4E3\",\"linecolor\":\"#C8D4E3\",\"minorgridcolor\":\"#C8D4E3\",\"startlinecolor\":\"#2a3f5f\"},\"baxis\":{\"endlinecolor\":\"#2a3f5f\",\"gridcolor\":\"#C8D4E3\",\"linecolor\":\"#C8D4E3\",\"minorgridcolor\":\"#C8D4E3\",\"startlinecolor\":\"#2a3f5f\"},\"type\":\"carpet\"}],\"choropleth\":[{\"colorbar\":{\"outlinewidth\":0,\"ticks\":\"\"},\"type\":\"choropleth\"}],\"contourcarpet\":[{\"colorbar\":{\"outlinewidth\":0,\"ticks\":\"\"},\"type\":\"contourcarpet\"}],\"contour\":[{\"colorbar\":{\"outlinewidth\":0,\"ticks\":\"\"},\"colorscale\":[[0.0,\"#0d0887\"],[0.1111111111111111,\"#46039f\"],[0.2222222222222222,\"#7201a8\"],[0.3333333333333333,\"#9c179e\"],[0.4444444444444444,\"#bd3786\"],[0.5555555555555556,\"#d8576b\"],[0.6666666666666666,\"#ed7953\"],[0.7777777777777778,\"#fb9f3a\"],[0.8888888888888888,\"#fdca26\"],[1.0,\"#f0f921\"]],\"type\":\"contour\"}],\"heatmapgl\":[{\"colorbar\":{\"outlinewidth\":0,\"ticks\":\"\"},\"colorscale\":[[0.0,\"#0d0887\"],[0.1111111111111111,\"#46039f\"],[0.2222222222222222,\"#7201a8\"],[0.3333333333333333,\"#9c179e\"],[0.4444444444444444,\"#bd3786\"],[0.5555555555555556,\"#d8576b\"],[0.6666666666666666,\"#ed7953\"],[0.7777777777777778,\"#fb9f3a\"],[0.8888888888888888,\"#fdca26\"],[1.0,\"#f0f921\"]],\"type\":\"heatmapgl\"}],\"heatmap\":[{\"colorbar\":{\"outlinewidth\":0,\"ticks\":\"\"},\"colorscale\":[[0.0,\"#0d0887\"],[0.1111111111111111,\"#46039f\"],[0.2222222222222222,\"#7201a8\"],[0.3333333333333333,\"#9c179e\"],[0.4444444444444444,\"#bd3786\"],[0.5555555555555556,\"#d8576b\"],[0.6666666666666666,\"#ed7953\"],[0.7777777777777778,\"#fb9f3a\"],[0.8888888888888888,\"#fdca26\"],[1.0,\"#f0f921\"]],\"type\":\"heatmap\"}],\"histogram2dcontour\":[{\"colorbar\":{\"outlinewidth\":0,\"ticks\":\"\"},\"colorscale\":[[0.0,\"#0d0887\"],[0.1111111111111111,\"#46039f\"],[0.2222222222222222,\"#7201a8\"],[0.3333333333333333,\"#9c179e\"],[0.4444444444444444,\"#bd3786\"],[0.5555555555555556,\"#d8576b\"],[0.6666666666666666,\"#ed7953\"],[0.7777777777777778,\"#fb9f3a\"],[0.8888888888888888,\"#fdca26\"],[1.0,\"#f0f921\"]],\"type\":\"histogram2dcontour\"}],\"histogram2d\":[{\"colorbar\":{\"outlinewidth\":0,\"ticks\":\"\"},\"colorscale\":[[0.0,\"#0d0887\"],[0.1111111111111111,\"#46039f\"],[0.2222222222222222,\"#7201a8\"],[0.3333333333333333,\"#9c179e\"],[0.4444444444444444,\"#bd3786\"],[0.5555555555555556,\"#d8576b\"],[0.6666666666666666,\"#ed7953\"],[0.7777777777777778,\"#fb9f3a\"],[0.8888888888888888,\"#fdca26\"],[1.0,\"#f0f921\"]],\"type\":\"histogram2d\"}],\"histogram\":[{\"marker\":{\"pattern\":{\"fillmode\":\"overlay\",\"size\":10,\"solidity\":0.2}},\"type\":\"histogram\"}],\"mesh3d\":[{\"colorbar\":{\"outlinewidth\":0,\"ticks\":\"\"},\"type\":\"mesh3d\"}],\"parcoords\":[{\"line\":{\"colorbar\":{\"outlinewidth\":0,\"ticks\":\"\"}},\"type\":\"parcoords\"}],\"pie\":[{\"automargin\":true,\"type\":\"pie\"}],\"scatter3d\":[{\"line\":{\"colorbar\":{\"outlinewidth\":0,\"ticks\":\"\"}},\"marker\":{\"colorbar\":{\"outlinewidth\":0,\"ticks\":\"\"}},\"type\":\"scatter3d\"}],\"scattercarpet\":[{\"marker\":{\"colorbar\":{\"outlinewidth\":0,\"ticks\":\"\"}},\"type\":\"scattercarpet\"}],\"scattergeo\":[{\"marker\":{\"colorbar\":{\"outlinewidth\":0,\"ticks\":\"\"}},\"type\":\"scattergeo\"}],\"scattergl\":[{\"marker\":{\"colorbar\":{\"outlinewidth\":0,\"ticks\":\"\"}},\"type\":\"scattergl\"}],\"scattermapbox\":[{\"marker\":{\"colorbar\":{\"outlinewidth\":0,\"ticks\":\"\"}},\"type\":\"scattermapbox\"}],\"scatterpolargl\":[{\"marker\":{\"colorbar\":{\"outlinewidth\":0,\"ticks\":\"\"}},\"type\":\"scatterpolargl\"}],\"scatterpolar\":[{\"marker\":{\"colorbar\":{\"outlinewidth\":0,\"ticks\":\"\"}},\"type\":\"scatterpolar\"}],\"scatter\":[{\"marker\":{\"colorbar\":{\"outlinewidth\":0,\"ticks\":\"\"}},\"type\":\"scatter\"}],\"scatterternary\":[{\"marker\":{\"colorbar\":{\"outlinewidth\":0,\"ticks\":\"\"}},\"type\":\"scatterternary\"}],\"surface\":[{\"colorbar\":{\"outlinewidth\":0,\"ticks\":\"\"},\"colorscale\":[[0.0,\"#0d0887\"],[0.1111111111111111,\"#46039f\"],[0.2222222222222222,\"#7201a8\"],[0.3333333333333333,\"#9c179e\"],[0.4444444444444444,\"#bd3786\"],[0.5555555555555556,\"#d8576b\"],[0.6666666666666666,\"#ed7953\"],[0.7777777777777778,\"#fb9f3a\"],[0.8888888888888888,\"#fdca26\"],[1.0,\"#f0f921\"]],\"type\":\"surface\"}],\"table\":[{\"cells\":{\"fill\":{\"color\":\"#EBF0F8\"},\"line\":{\"color\":\"white\"}},\"header\":{\"fill\":{\"color\":\"#C8D4E3\"},\"line\":{\"color\":\"white\"}},\"type\":\"table\"}]},\"layout\":{\"annotationdefaults\":{\"arrowcolor\":\"#2a3f5f\",\"arrowhead\":0,\"arrowwidth\":1},\"autotypenumbers\":\"strict\",\"coloraxis\":{\"colorbar\":{\"outlinewidth\":0,\"ticks\":\"\"}},\"colorscale\":{\"diverging\":[[0,\"#8e0152\"],[0.1,\"#c51b7d\"],[0.2,\"#de77ae\"],[0.3,\"#f1b6da\"],[0.4,\"#fde0ef\"],[0.5,\"#f7f7f7\"],[0.6,\"#e6f5d0\"],[0.7,\"#b8e186\"],[0.8,\"#7fbc41\"],[0.9,\"#4d9221\"],[1,\"#276419\"]],\"sequential\":[[0.0,\"#0d0887\"],[0.1111111111111111,\"#46039f\"],[0.2222222222222222,\"#7201a8\"],[0.3333333333333333,\"#9c179e\"],[0.4444444444444444,\"#bd3786\"],[0.5555555555555556,\"#d8576b\"],[0.6666666666666666,\"#ed7953\"],[0.7777777777777778,\"#fb9f3a\"],[0.8888888888888888,\"#fdca26\"],[1.0,\"#f0f921\"]],\"sequentialminus\":[[0.0,\"#0d0887\"],[0.1111111111111111,\"#46039f\"],[0.2222222222222222,\"#7201a8\"],[0.3333333333333333,\"#9c179e\"],[0.4444444444444444,\"#bd3786\"],[0.5555555555555556,\"#d8576b\"],[0.6666666666666666,\"#ed7953\"],[0.7777777777777778,\"#fb9f3a\"],[0.8888888888888888,\"#fdca26\"],[1.0,\"#f0f921\"]]},\"colorway\":[\"#636efa\",\"#EF553B\",\"#00cc96\",\"#ab63fa\",\"#FFA15A\",\"#19d3f3\",\"#FF6692\",\"#B6E880\",\"#FF97FF\",\"#FECB52\"],\"font\":{\"color\":\"#2a3f5f\"},\"geo\":{\"bgcolor\":\"white\",\"lakecolor\":\"white\",\"landcolor\":\"white\",\"showlakes\":true,\"showland\":true,\"subunitcolor\":\"#C8D4E3\"},\"hoverlabel\":{\"align\":\"left\"},\"hovermode\":\"closest\",\"mapbox\":{\"style\":\"light\"},\"paper_bgcolor\":\"white\",\"plot_bgcolor\":\"white\",\"polar\":{\"angularaxis\":{\"gridcolor\":\"#EBF0F8\",\"linecolor\":\"#EBF0F8\",\"ticks\":\"\"},\"bgcolor\":\"white\",\"radialaxis\":{\"gridcolor\":\"#EBF0F8\",\"linecolor\":\"#EBF0F8\",\"ticks\":\"\"}},\"scene\":{\"xaxis\":{\"backgroundcolor\":\"white\",\"gridcolor\":\"#DFE8F3\",\"gridwidth\":2,\"linecolor\":\"#EBF0F8\",\"showbackground\":true,\"ticks\":\"\",\"zerolinecolor\":\"#EBF0F8\"},\"yaxis\":{\"backgroundcolor\":\"white\",\"gridcolor\":\"#DFE8F3\",\"gridwidth\":2,\"linecolor\":\"#EBF0F8\",\"showbackground\":true,\"ticks\":\"\",\"zerolinecolor\":\"#EBF0F8\"},\"zaxis\":{\"backgroundcolor\":\"white\",\"gridcolor\":\"#DFE8F3\",\"gridwidth\":2,\"linecolor\":\"#EBF0F8\",\"showbackground\":true,\"ticks\":\"\",\"zerolinecolor\":\"#EBF0F8\"}},\"shapedefaults\":{\"line\":{\"color\":\"#2a3f5f\"}},\"ternary\":{\"aaxis\":{\"gridcolor\":\"#DFE8F3\",\"linecolor\":\"#A2B1C6\",\"ticks\":\"\"},\"baxis\":{\"gridcolor\":\"#DFE8F3\",\"linecolor\":\"#A2B1C6\",\"ticks\":\"\"},\"bgcolor\":\"white\",\"caxis\":{\"gridcolor\":\"#DFE8F3\",\"linecolor\":\"#A2B1C6\",\"ticks\":\"\"}},\"title\":{\"x\":0.05},\"xaxis\":{\"automargin\":true,\"gridcolor\":\"#EBF0F8\",\"linecolor\":\"#EBF0F8\",\"ticks\":\"\",\"title\":{\"standoff\":15},\"zerolinecolor\":\"#EBF0F8\",\"zerolinewidth\":2},\"yaxis\":{\"automargin\":true,\"gridcolor\":\"#EBF0F8\",\"linecolor\":\"#EBF0F8\",\"ticks\":\"\",\"title\":{\"standoff\":15},\"zerolinecolor\":\"#EBF0F8\",\"zerolinewidth\":2}}},\"xaxis\":{\"anchor\":\"y\",\"domain\":[0.0,0.175],\"showgrid\":true},\"yaxis\":{\"anchor\":\"x\",\"domain\":[0.0,1.0],\"showgrid\":true},\"xaxis2\":{\"anchor\":\"y2\",\"domain\":[0.275,0.45],\"showgrid\":true},\"yaxis2\":{\"anchor\":\"x2\",\"domain\":[0.0,1.0],\"showgrid\":true},\"xaxis3\":{\"anchor\":\"y3\",\"domain\":[0.55,0.7250000000000001],\"showgrid\":true},\"yaxis3\":{\"anchor\":\"x3\",\"domain\":[0.0,1.0],\"showgrid\":true},\"xaxis4\":{\"anchor\":\"y4\",\"domain\":[0.825,1.0],\"showgrid\":true},\"yaxis4\":{\"anchor\":\"x4\",\"domain\":[0.0,1.0],\"showgrid\":true},\"annotations\":[{\"font\":{\"size\":16},\"showarrow\":false,\"text\":\"Topic 0\",\"x\":0.0875,\"xanchor\":\"center\",\"xref\":\"paper\",\"y\":1.0,\"yanchor\":\"bottom\",\"yref\":\"paper\"},{\"font\":{\"size\":16},\"showarrow\":false,\"text\":\"Topic 1\",\"x\":0.36250000000000004,\"xanchor\":\"center\",\"xref\":\"paper\",\"y\":1.0,\"yanchor\":\"bottom\",\"yref\":\"paper\"},{\"font\":{\"size\":16},\"showarrow\":false,\"text\":\"Topic 2\",\"x\":0.6375000000000001,\"xanchor\":\"center\",\"xref\":\"paper\",\"y\":1.0,\"yanchor\":\"bottom\",\"yref\":\"paper\"}],\"title\":{\"font\":{\"size\":22,\"color\":\"Black\"},\"text\":\"<b>Topic Word Scores\",\"x\":0.5,\"xanchor\":\"center\",\"yanchor\":\"top\"},\"hoverlabel\":{\"font\":{\"size\":16,\"family\":\"Rockwell\"},\"bgcolor\":\"white\"},\"showlegend\":false,\"width\":1000,\"height\":325.0},                        {\"responsive\": true}                    ).then(function(){\n",
              "                            \n",
              "var gd = document.getElementById('7718ea23-914f-4c53-8047-bd5304c002d9');\n",
              "var x = new MutationObserver(function (mutations, observer) {{\n",
              "        var display = window.getComputedStyle(gd).display;\n",
              "        if (!display || display === 'none') {{\n",
              "            console.log([gd, 'removed!']);\n",
              "            Plotly.purge(gd);\n",
              "            observer.disconnect();\n",
              "        }}\n",
              "}});\n",
              "\n",
              "// Listen for the removal of the full notebook cells\n",
              "var notebookContainer = gd.closest('#notebook-container');\n",
              "if (notebookContainer) {{\n",
              "    x.observe(notebookContainer, {childList: true});\n",
              "}}\n",
              "\n",
              "// Listen for the clearing of the current output cell\n",
              "var outputEl = gd.closest('.output');\n",
              "if (outputEl) {{\n",
              "    x.observe(outputEl, {childList: true});\n",
              "}}\n",
              "\n",
              "                        })                };                            </script>        </div>\n",
              "</body>\n",
              "</html>"
            ]
          },
          "metadata": {},
          "output_type": "display_data"
        }
      ],
      "source": [
        "#VISUALIZE BARCHART\n",
        "model2.visualize_barchart()"
      ]
    },
    {
      "cell_type": "code",
      "execution_count": null,
      "metadata": {
        "colab": {
          "base_uri": "https://localhost:8080/"
        },
        "id": "LINX7Jh185Bz",
        "outputId": "c3e805ed-5d79-42a7-a232-5441d1ccdbe4"
      },
      "outputs": [
        {
          "data": {
            "text/plain": [
              "['review spoiler lily happily married stay home mom teenaged kid think marriage happy day catch husband charlie neighbor instant life fall apart confront let know saw okay wish shock want decide fact tell know wait lily make appointment consultation sexy divorce attorney eli option week yes exasperate sigh go month live house like wrong gather evidence try money leave lily eli build friendship sexual tension lily office work pay legal fee wait salon try desirable woman instead harry housewife lily meet old woman offer answer money problem know little prostitution lily think lose divorce idea charlie make figure nice house car prenup evidence indiscretion want charlie money hook option wait give terrible saw twist come mile away plus long moral high ground cheater keep reading sure lily confrontation charlie go epic wrong happen end little drama maybe take book seriously think suppose light fun tick',\n",
              " 'think christian book miss see downloaded friend childhood adult run million dollar business important run world building school factory church group secretly love afraid go wind like adult family unhappy cheat secretly pin want spoiler think busybody mother grandmother mix try marry spine brain anytime step line feel mean need watch manner lose temper feel guilty thing get nerve have mention value item come touch earth run girl unlike rich spoil brat associate granny buys mansion stock maids butler hear sofa italy high quality cushion couch brand coffee sure rich drink get nerve character awfully immature age group like maybe like george driver man house not likable group try hard not finish read read review decide word reviewer skip end say not well not',\n",
              " 'go main character way want situation place bad go character story lot sex book descriptive bad decent cast good book ceri main character dislike anybody immediately nice unexplained wish continue read book thaumatology basically magic explain science explain elaborated series go continue read suggest read simultaneously forget nuance']"
            ]
          },
          "execution_count": 37,
          "metadata": {},
          "output_type": "execute_result"
        }
      ],
      "source": [
        "model2.get_representative_docs(topic=0)"
      ]
    },
    {
      "cell_type": "code",
      "execution_count": null,
      "metadata": {
        "colab": {
          "background_save": true,
          "base_uri": "https://localhost:8080/",
          "height": 49,
          "referenced_widgets": [
            "99a1fdd60d9a45ba8053bb862c72058b",
            "1529254f061148a6ba76ee82b411b554",
            "5a97764378d74490b76ec8ba615ce706",
            "dcbeddfd47a24450be070bdf55f8b258",
            "496c26781245489bba94cee354f9bd99",
            "8a4f4e5c5633474084bae23ded3313de",
            "6496cb80716e41f180a599eacc0441b3",
            "8fee769b49a6423db81bee5dd89ec607",
            "10451eefa7e746abb7b2e5517075e214",
            "77ec7f9143cb48e9b184d1fdd7ffcffb",
            "e963b036085d409ab2ef84db1ad4bcdf"
          ]
        },
        "id": "PTB4g_Yj9NaF",
        "outputId": "20993e78-2d75-4cc9-8fb5-ec2912a0e637"
      },
      "outputs": [
        {
          "data": {
            "application/vnd.jupyter.widget-view+json": {
              "model_id": "99a1fdd60d9a45ba8053bb862c72058b",
              "version_major": 2,
              "version_minor": 0
            },
            "text/plain": [
              "Batches:   0%|          | 0/1147 [00:00<?, ?it/s]"
            ]
          },
          "metadata": {},
          "output_type": "display_data"
        },
        {
          "name": "stderr",
          "output_type": "stream",
          "text": [
            "2022-05-12 09:04:44,071 - BERTopic - Transformed documents to Embeddings\n",
            "2022-05-12 09:05:43,128 - BERTopic - Reduced dimensionality\n",
            "2022-05-12 09:05:49,964 - BERTopic - Clustered reduced embeddings\n"
          ]
        }
      ],
      "source": [
        "# create model3 (RATINGS= 3 or 4)\n",
        " \n",
        "model3 = BERTopic(verbose=True)\n",
        " \n",
        "#convert to list \n",
        "docs = kindle2[(kindle2[\"overall\"]>=3) & (kindle2[\"overall\"]<5)][\"cleaned_reviews_lemm\"].to_list()\n",
        " \n",
        "# docs[1:10]\n",
        "topics, probabilities = model3.fit_transform(docs)"
      ]
    },
    {
      "cell_type": "code",
      "execution_count": null,
      "metadata": {
        "colab": {
          "background_save": true
        },
        "id": "3lE2YRAgT9eK",
        "outputId": "aa53f40a-a727-4727-f6df-faf0b801d4a6"
      },
      "outputs": [
        {
          "name": "stderr",
          "output_type": "stream",
          "text": [
            "/usr/local/lib/python3.7/dist-packages/scipy/sparse/_index.py:126: SparseEfficiencyWarning:\n",
            "\n",
            "Changing the sparsity structure of a csr_matrix is expensive. lil_matrix is more efficient.\n",
            "\n"
          ]
        }
      ],
      "source": [
        "#SAVE MODEL\n",
        "model3.save(\"my_topics_model3\")"
      ]
    },
    {
      "cell_type": "code",
      "execution_count": null,
      "metadata": {
        "colab": {
          "background_save": true
        },
        "id": "yb6sHfCjDrY9",
        "outputId": "09799dc2-38f4-4dd7-e905-ea67ccfb59c2"
      },
      "outputs": [
        {
          "data": {
            "text/html": [
              "<html>\n",
              "<head><meta charset=\"utf-8\" /></head>\n",
              "<body>\n",
              "    <div>            <script src=\"https://cdnjs.cloudflare.com/ajax/libs/mathjax/2.7.5/MathJax.js?config=TeX-AMS-MML_SVG\"></script><script type=\"text/javascript\">if (window.MathJax) {MathJax.Hub.Config({SVG: {font: \"STIX-Web\"}});}</script>                <script type=\"text/javascript\">window.PlotlyConfig = {MathJaxConfig: 'local'};</script>\n",
              "        <script src=\"https://cdn.plot.ly/plotly-2.8.3.min.js\"></script>                <div id=\"05041845-9b7f-41c9-a9c3-0174a0542cd0\" class=\"plotly-graph-div\" style=\"height:1000px; width:1000px;\"></div>            <script type=\"text/javascript\">                                    window.PLOTLYENV=window.PLOTLYENV || {};                                    if (document.getElementById(\"05041845-9b7f-41c9-a9c3-0174a0542cd0\")) {                    Plotly.newPlot(                        \"05041845-9b7f-41c9-a9c3-0174a0542cd0\",                        [{\"marker\":{\"color\":\"#D55E00\"},\"orientation\":\"h\",\"x\":[0.0028293496496691168,0.002937785503713959,0.002986050074095253,0.003092091270685465,0.0031331302632775586],\"y\":[\"love  \",\"time  \",\"thing  \",\"know  \",\"life  \"],\"type\":\"bar\",\"xaxis\":\"x\",\"yaxis\":\"y\"},{\"marker\":{\"color\":\"#0072B2\"},\"orientation\":\"h\",\"x\":[0.014957093716313975,0.016560196829902552,0.021077264431774812,0.021200542935382784,0.036925672533347706],\"y\":[\"hot  \",\"scene  \",\"erotica  \",\"erotic  \",\"sex  \"],\"type\":\"bar\",\"xaxis\":\"x2\",\"yaxis\":\"y2\"},{\"marker\":{\"color\":\"#CC79A7\"},\"orientation\":\"h\",\"x\":[0.010240367347177636,0.010341672060987324,0.010547599083156533,0.011491162608631922,0.04639701236584417],\"y\":[\"enjoy  \",\"forward  \",\"read  \",\"wait  \",\"series  \"],\"type\":\"bar\",\"xaxis\":\"x3\",\"yaxis\":\"y3\"},{\"marker\":{\"color\":\"#E69F00\"},\"orientation\":\"h\",\"x\":[0.010979384474909459,0.011028090451982194,0.014334755565869967,0.01788757212720023,0.01950437055450657],\"y\":[\"space  \",\"science  \",\"military  \",\"alien  \",\"war  \"],\"type\":\"bar\",\"xaxis\":\"x4\",\"yaxis\":\"y4\"},{\"marker\":{\"color\":\"#56B4E9\"},\"orientation\":\"h\",\"x\":[0.026483499052898807,0.02681947425440872,0.032462060221999156,0.04081956132881422,0.05996401936843326],\"y\":[\"grammar  \",\"spell  \",\"grammatical  \",\"edit  \",\"error  \"],\"type\":\"bar\",\"xaxis\":\"x5\",\"yaxis\":\"y5\"},{\"marker\":{\"color\":\"#009E73\"},\"orientation\":\"h\",\"x\":[0.015090149113198024,0.019125237299332108,0.027229961465406783,0.029820373863236743,0.05228030001312585],\"y\":[\"solve  \",\"police  \",\"mystery  \",\"detective  \",\"murder  \"],\"type\":\"bar\",\"xaxis\":\"x6\",\"yaxis\":\"y6\"},{\"marker\":{\"color\":\"#F0E442\"},\"orientation\":\"h\",\"x\":[0.025962985176696752,0.029658484409258945,0.03163322540556934,0.03617921857444815,0.12363054300755805],\"y\":[\"cookbook  \",\"recipes  \",\"ingredient  \",\"cook  \",\"recipe  \"],\"type\":\"bar\",\"xaxis\":\"x7\",\"yaxis\":\"y7\"},{\"marker\":{\"color\":\"#D55E00\"},\"orientation\":\"h\",\"x\":[0.005769667130358184,0.0061146733303406725,0.006783893857682613,0.007752925676604303,0.04574270191219531],\"y\":[\"paranormals  \",\"elemental  \",\"supernatural  \",\"ghost  \",\"paranormal  \"],\"type\":\"bar\",\"xaxis\":\"x8\",\"yaxis\":\"y8\"},{\"marker\":{\"color\":\"#0072B2\"},\"orientation\":\"h\",\"x\":[0.029663000157510184,0.03513741868505914,0.0374847800676312,0.06853321801909423,0.09753854068673096],\"y\":[\"food  \",\"recipe  \",\"healthy  \",\"weight  \",\"diet  \"],\"type\":\"bar\",\"xaxis\":\"x9\",\"yaxis\":\"y9\"},{\"marker\":{\"color\":\"#CC79A7\"},\"orientation\":\"h\",\"x\":[0.012587994772750289,0.013631763430329829,0.015229281450514269,0.020689786847521048,0.03753835256074503],\"y\":[\"storyline  \",\"good  \",\"line  \",\"character  \",\"plot  \"],\"type\":\"bar\",\"xaxis\":\"x10\",\"yaxis\":\"y10\"},{\"marker\":{\"color\":\"#E69F00\"},\"orientation\":\"h\",\"x\":[0.018058986869697678,0.020225263817802697,0.027556191169976856,0.03519952652122269,0.050568766306156476],\"y\":[\"picture  \",\"kid  \",\"animal  \",\"illustration  \",\"child  \"],\"type\":\"bar\",\"xaxis\":\"x11\",\"yaxis\":\"y11\"},{\"marker\":{\"color\":\"#56B4E9\"},\"orientation\":\"h\",\"x\":[0.01070317078976973,0.012825123167079589,0.014223436052468594,0.04846865473432498,0.09970963843321007],\"y\":[\"surprise  \",\"unexpected  \",\"plot  \",\"turn  \",\"twist  \"],\"type\":\"bar\",\"xaxis\":\"x12\",\"yaxis\":\"y12\"},{\"marker\":{\"color\":\"#009E73\"},\"orientation\":\"h\",\"x\":[0.016026142629820484,0.017003738412503057,0.017076406945768768,0.021963280462240338,0.026725383139966103],\"y\":[\"romantic  \",\"story  \",\"love  \",\"sweet  \",\"short  \"],\"type\":\"bar\",\"xaxis\":\"x13\",\"yaxis\":\"y13\"},{\"marker\":{\"color\":\"#F0E442\"},\"orientation\":\"h\",\"x\":[0.00992104946336513,0.011623844651025282,0.0153575705189643,0.020871717390791147,0.08216189973543372],\"y\":[\"quick  \",\"longer  \",\"good  \",\"story  \",\"short  \"],\"type\":\"bar\",\"xaxis\":\"x14\",\"yaxis\":\"y14\"},{\"marker\":{\"color\":\"#D55E00\"},\"orientation\":\"h\",\"x\":[0.020518220154825913,0.021543271857695875,0.021873224037954674,0.026066806635075247,0.026390482198497284],\"y\":[\"read  \",\"author  \",\"enjoyable  \",\"recommend  \",\"reading  \"],\"type\":\"bar\",\"xaxis\":\"x15\",\"yaxis\":\"y15\"}],                        {\"template\":{\"data\":{\"barpolar\":[{\"marker\":{\"line\":{\"color\":\"white\",\"width\":0.5},\"pattern\":{\"fillmode\":\"overlay\",\"size\":10,\"solidity\":0.2}},\"type\":\"barpolar\"}],\"bar\":[{\"error_x\":{\"color\":\"#2a3f5f\"},\"error_y\":{\"color\":\"#2a3f5f\"},\"marker\":{\"line\":{\"color\":\"white\",\"width\":0.5},\"pattern\":{\"fillmode\":\"overlay\",\"size\":10,\"solidity\":0.2}},\"type\":\"bar\"}],\"carpet\":[{\"aaxis\":{\"endlinecolor\":\"#2a3f5f\",\"gridcolor\":\"#C8D4E3\",\"linecolor\":\"#C8D4E3\",\"minorgridcolor\":\"#C8D4E3\",\"startlinecolor\":\"#2a3f5f\"},\"baxis\":{\"endlinecolor\":\"#2a3f5f\",\"gridcolor\":\"#C8D4E3\",\"linecolor\":\"#C8D4E3\",\"minorgridcolor\":\"#C8D4E3\",\"startlinecolor\":\"#2a3f5f\"},\"type\":\"carpet\"}],\"choropleth\":[{\"colorbar\":{\"outlinewidth\":0,\"ticks\":\"\"},\"type\":\"choropleth\"}],\"contourcarpet\":[{\"colorbar\":{\"outlinewidth\":0,\"ticks\":\"\"},\"type\":\"contourcarpet\"}],\"contour\":[{\"colorbar\":{\"outlinewidth\":0,\"ticks\":\"\"},\"colorscale\":[[0.0,\"#0d0887\"],[0.1111111111111111,\"#46039f\"],[0.2222222222222222,\"#7201a8\"],[0.3333333333333333,\"#9c179e\"],[0.4444444444444444,\"#bd3786\"],[0.5555555555555556,\"#d8576b\"],[0.6666666666666666,\"#ed7953\"],[0.7777777777777778,\"#fb9f3a\"],[0.8888888888888888,\"#fdca26\"],[1.0,\"#f0f921\"]],\"type\":\"contour\"}],\"heatmapgl\":[{\"colorbar\":{\"outlinewidth\":0,\"ticks\":\"\"},\"colorscale\":[[0.0,\"#0d0887\"],[0.1111111111111111,\"#46039f\"],[0.2222222222222222,\"#7201a8\"],[0.3333333333333333,\"#9c179e\"],[0.4444444444444444,\"#bd3786\"],[0.5555555555555556,\"#d8576b\"],[0.6666666666666666,\"#ed7953\"],[0.7777777777777778,\"#fb9f3a\"],[0.8888888888888888,\"#fdca26\"],[1.0,\"#f0f921\"]],\"type\":\"heatmapgl\"}],\"heatmap\":[{\"colorbar\":{\"outlinewidth\":0,\"ticks\":\"\"},\"colorscale\":[[0.0,\"#0d0887\"],[0.1111111111111111,\"#46039f\"],[0.2222222222222222,\"#7201a8\"],[0.3333333333333333,\"#9c179e\"],[0.4444444444444444,\"#bd3786\"],[0.5555555555555556,\"#d8576b\"],[0.6666666666666666,\"#ed7953\"],[0.7777777777777778,\"#fb9f3a\"],[0.8888888888888888,\"#fdca26\"],[1.0,\"#f0f921\"]],\"type\":\"heatmap\"}],\"histogram2dcontour\":[{\"colorbar\":{\"outlinewidth\":0,\"ticks\":\"\"},\"colorscale\":[[0.0,\"#0d0887\"],[0.1111111111111111,\"#46039f\"],[0.2222222222222222,\"#7201a8\"],[0.3333333333333333,\"#9c179e\"],[0.4444444444444444,\"#bd3786\"],[0.5555555555555556,\"#d8576b\"],[0.6666666666666666,\"#ed7953\"],[0.7777777777777778,\"#fb9f3a\"],[0.8888888888888888,\"#fdca26\"],[1.0,\"#f0f921\"]],\"type\":\"histogram2dcontour\"}],\"histogram2d\":[{\"colorbar\":{\"outlinewidth\":0,\"ticks\":\"\"},\"colorscale\":[[0.0,\"#0d0887\"],[0.1111111111111111,\"#46039f\"],[0.2222222222222222,\"#7201a8\"],[0.3333333333333333,\"#9c179e\"],[0.4444444444444444,\"#bd3786\"],[0.5555555555555556,\"#d8576b\"],[0.6666666666666666,\"#ed7953\"],[0.7777777777777778,\"#fb9f3a\"],[0.8888888888888888,\"#fdca26\"],[1.0,\"#f0f921\"]],\"type\":\"histogram2d\"}],\"histogram\":[{\"marker\":{\"pattern\":{\"fillmode\":\"overlay\",\"size\":10,\"solidity\":0.2}},\"type\":\"histogram\"}],\"mesh3d\":[{\"colorbar\":{\"outlinewidth\":0,\"ticks\":\"\"},\"type\":\"mesh3d\"}],\"parcoords\":[{\"line\":{\"colorbar\":{\"outlinewidth\":0,\"ticks\":\"\"}},\"type\":\"parcoords\"}],\"pie\":[{\"automargin\":true,\"type\":\"pie\"}],\"scatter3d\":[{\"line\":{\"colorbar\":{\"outlinewidth\":0,\"ticks\":\"\"}},\"marker\":{\"colorbar\":{\"outlinewidth\":0,\"ticks\":\"\"}},\"type\":\"scatter3d\"}],\"scattercarpet\":[{\"marker\":{\"colorbar\":{\"outlinewidth\":0,\"ticks\":\"\"}},\"type\":\"scattercarpet\"}],\"scattergeo\":[{\"marker\":{\"colorbar\":{\"outlinewidth\":0,\"ticks\":\"\"}},\"type\":\"scattergeo\"}],\"scattergl\":[{\"marker\":{\"colorbar\":{\"outlinewidth\":0,\"ticks\":\"\"}},\"type\":\"scattergl\"}],\"scattermapbox\":[{\"marker\":{\"colorbar\":{\"outlinewidth\":0,\"ticks\":\"\"}},\"type\":\"scattermapbox\"}],\"scatterpolargl\":[{\"marker\":{\"colorbar\":{\"outlinewidth\":0,\"ticks\":\"\"}},\"type\":\"scatterpolargl\"}],\"scatterpolar\":[{\"marker\":{\"colorbar\":{\"outlinewidth\":0,\"ticks\":\"\"}},\"type\":\"scatterpolar\"}],\"scatter\":[{\"marker\":{\"colorbar\":{\"outlinewidth\":0,\"ticks\":\"\"}},\"type\":\"scatter\"}],\"scatterternary\":[{\"marker\":{\"colorbar\":{\"outlinewidth\":0,\"ticks\":\"\"}},\"type\":\"scatterternary\"}],\"surface\":[{\"colorbar\":{\"outlinewidth\":0,\"ticks\":\"\"},\"colorscale\":[[0.0,\"#0d0887\"],[0.1111111111111111,\"#46039f\"],[0.2222222222222222,\"#7201a8\"],[0.3333333333333333,\"#9c179e\"],[0.4444444444444444,\"#bd3786\"],[0.5555555555555556,\"#d8576b\"],[0.6666666666666666,\"#ed7953\"],[0.7777777777777778,\"#fb9f3a\"],[0.8888888888888888,\"#fdca26\"],[1.0,\"#f0f921\"]],\"type\":\"surface\"}],\"table\":[{\"cells\":{\"fill\":{\"color\":\"#EBF0F8\"},\"line\":{\"color\":\"white\"}},\"header\":{\"fill\":{\"color\":\"#C8D4E3\"},\"line\":{\"color\":\"white\"}},\"type\":\"table\"}]},\"layout\":{\"annotationdefaults\":{\"arrowcolor\":\"#2a3f5f\",\"arrowhead\":0,\"arrowwidth\":1},\"autotypenumbers\":\"strict\",\"coloraxis\":{\"colorbar\":{\"outlinewidth\":0,\"ticks\":\"\"}},\"colorscale\":{\"diverging\":[[0,\"#8e0152\"],[0.1,\"#c51b7d\"],[0.2,\"#de77ae\"],[0.3,\"#f1b6da\"],[0.4,\"#fde0ef\"],[0.5,\"#f7f7f7\"],[0.6,\"#e6f5d0\"],[0.7,\"#b8e186\"],[0.8,\"#7fbc41\"],[0.9,\"#4d9221\"],[1,\"#276419\"]],\"sequential\":[[0.0,\"#0d0887\"],[0.1111111111111111,\"#46039f\"],[0.2222222222222222,\"#7201a8\"],[0.3333333333333333,\"#9c179e\"],[0.4444444444444444,\"#bd3786\"],[0.5555555555555556,\"#d8576b\"],[0.6666666666666666,\"#ed7953\"],[0.7777777777777778,\"#fb9f3a\"],[0.8888888888888888,\"#fdca26\"],[1.0,\"#f0f921\"]],\"sequentialminus\":[[0.0,\"#0d0887\"],[0.1111111111111111,\"#46039f\"],[0.2222222222222222,\"#7201a8\"],[0.3333333333333333,\"#9c179e\"],[0.4444444444444444,\"#bd3786\"],[0.5555555555555556,\"#d8576b\"],[0.6666666666666666,\"#ed7953\"],[0.7777777777777778,\"#fb9f3a\"],[0.8888888888888888,\"#fdca26\"],[1.0,\"#f0f921\"]]},\"colorway\":[\"#636efa\",\"#EF553B\",\"#00cc96\",\"#ab63fa\",\"#FFA15A\",\"#19d3f3\",\"#FF6692\",\"#B6E880\",\"#FF97FF\",\"#FECB52\"],\"font\":{\"color\":\"#2a3f5f\"},\"geo\":{\"bgcolor\":\"white\",\"lakecolor\":\"white\",\"landcolor\":\"white\",\"showlakes\":true,\"showland\":true,\"subunitcolor\":\"#C8D4E3\"},\"hoverlabel\":{\"align\":\"left\"},\"hovermode\":\"closest\",\"mapbox\":{\"style\":\"light\"},\"paper_bgcolor\":\"white\",\"plot_bgcolor\":\"white\",\"polar\":{\"angularaxis\":{\"gridcolor\":\"#EBF0F8\",\"linecolor\":\"#EBF0F8\",\"ticks\":\"\"},\"bgcolor\":\"white\",\"radialaxis\":{\"gridcolor\":\"#EBF0F8\",\"linecolor\":\"#EBF0F8\",\"ticks\":\"\"}},\"scene\":{\"xaxis\":{\"backgroundcolor\":\"white\",\"gridcolor\":\"#DFE8F3\",\"gridwidth\":2,\"linecolor\":\"#EBF0F8\",\"showbackground\":true,\"ticks\":\"\",\"zerolinecolor\":\"#EBF0F8\"},\"yaxis\":{\"backgroundcolor\":\"white\",\"gridcolor\":\"#DFE8F3\",\"gridwidth\":2,\"linecolor\":\"#EBF0F8\",\"showbackground\":true,\"ticks\":\"\",\"zerolinecolor\":\"#EBF0F8\"},\"zaxis\":{\"backgroundcolor\":\"white\",\"gridcolor\":\"#DFE8F3\",\"gridwidth\":2,\"linecolor\":\"#EBF0F8\",\"showbackground\":true,\"ticks\":\"\",\"zerolinecolor\":\"#EBF0F8\"}},\"shapedefaults\":{\"line\":{\"color\":\"#2a3f5f\"}},\"ternary\":{\"aaxis\":{\"gridcolor\":\"#DFE8F3\",\"linecolor\":\"#A2B1C6\",\"ticks\":\"\"},\"baxis\":{\"gridcolor\":\"#DFE8F3\",\"linecolor\":\"#A2B1C6\",\"ticks\":\"\"},\"bgcolor\":\"white\",\"caxis\":{\"gridcolor\":\"#DFE8F3\",\"linecolor\":\"#A2B1C6\",\"ticks\":\"\"}},\"title\":{\"x\":0.05},\"xaxis\":{\"automargin\":true,\"gridcolor\":\"#EBF0F8\",\"linecolor\":\"#EBF0F8\",\"ticks\":\"\",\"title\":{\"standoff\":15},\"zerolinecolor\":\"#EBF0F8\",\"zerolinewidth\":2},\"yaxis\":{\"automargin\":true,\"gridcolor\":\"#EBF0F8\",\"linecolor\":\"#EBF0F8\",\"ticks\":\"\",\"title\":{\"standoff\":15},\"zerolinecolor\":\"#EBF0F8\",\"zerolinewidth\":2}}},\"xaxis\":{\"anchor\":\"y\",\"domain\":[0.0,0.175],\"showgrid\":true},\"yaxis\":{\"anchor\":\"x\",\"domain\":[0.825,1.0],\"showgrid\":true},\"xaxis2\":{\"anchor\":\"y2\",\"domain\":[0.275,0.45],\"showgrid\":true},\"yaxis2\":{\"anchor\":\"x2\",\"domain\":[0.825,1.0],\"showgrid\":true},\"xaxis3\":{\"anchor\":\"y3\",\"domain\":[0.55,0.7250000000000001],\"showgrid\":true},\"yaxis3\":{\"anchor\":\"x3\",\"domain\":[0.825,1.0],\"showgrid\":true},\"xaxis4\":{\"anchor\":\"y4\",\"domain\":[0.825,1.0],\"showgrid\":true},\"yaxis4\":{\"anchor\":\"x4\",\"domain\":[0.825,1.0],\"showgrid\":true},\"xaxis5\":{\"anchor\":\"y5\",\"domain\":[0.0,0.175],\"showgrid\":true},\"yaxis5\":{\"anchor\":\"x5\",\"domain\":[0.55,0.7250000000000001],\"showgrid\":true},\"xaxis6\":{\"anchor\":\"y6\",\"domain\":[0.275,0.45],\"showgrid\":true},\"yaxis6\":{\"anchor\":\"x6\",\"domain\":[0.55,0.7250000000000001],\"showgrid\":true},\"xaxis7\":{\"anchor\":\"y7\",\"domain\":[0.55,0.7250000000000001],\"showgrid\":true},\"yaxis7\":{\"anchor\":\"x7\",\"domain\":[0.55,0.7250000000000001],\"showgrid\":true},\"xaxis8\":{\"anchor\":\"y8\",\"domain\":[0.825,1.0],\"showgrid\":true},\"yaxis8\":{\"anchor\":\"x8\",\"domain\":[0.55,0.7250000000000001],\"showgrid\":true},\"xaxis9\":{\"anchor\":\"y9\",\"domain\":[0.0,0.175],\"showgrid\":true},\"yaxis9\":{\"anchor\":\"x9\",\"domain\":[0.275,0.45],\"showgrid\":true},\"xaxis10\":{\"anchor\":\"y10\",\"domain\":[0.275,0.45],\"showgrid\":true},\"yaxis10\":{\"anchor\":\"x10\",\"domain\":[0.275,0.45],\"showgrid\":true},\"xaxis11\":{\"anchor\":\"y11\",\"domain\":[0.55,0.7250000000000001],\"showgrid\":true},\"yaxis11\":{\"anchor\":\"x11\",\"domain\":[0.275,0.45],\"showgrid\":true},\"xaxis12\":{\"anchor\":\"y12\",\"domain\":[0.825,1.0],\"showgrid\":true},\"yaxis12\":{\"anchor\":\"x12\",\"domain\":[0.275,0.45],\"showgrid\":true},\"xaxis13\":{\"anchor\":\"y13\",\"domain\":[0.0,0.175],\"showgrid\":true},\"yaxis13\":{\"anchor\":\"x13\",\"domain\":[0.0,0.175],\"showgrid\":true},\"xaxis14\":{\"anchor\":\"y14\",\"domain\":[0.275,0.45],\"showgrid\":true},\"yaxis14\":{\"anchor\":\"x14\",\"domain\":[0.0,0.175],\"showgrid\":true},\"xaxis15\":{\"anchor\":\"y15\",\"domain\":[0.55,0.7250000000000001],\"showgrid\":true},\"yaxis15\":{\"anchor\":\"x15\",\"domain\":[0.0,0.175],\"showgrid\":true},\"xaxis16\":{\"anchor\":\"y16\",\"domain\":[0.825,1.0],\"showgrid\":true},\"yaxis16\":{\"anchor\":\"x16\",\"domain\":[0.0,0.175],\"showgrid\":true},\"annotations\":[{\"font\":{\"size\":16},\"showarrow\":false,\"text\":\"Topic 0\",\"x\":0.0875,\"xanchor\":\"center\",\"xref\":\"paper\",\"y\":1.0,\"yanchor\":\"bottom\",\"yref\":\"paper\"},{\"font\":{\"size\":16},\"showarrow\":false,\"text\":\"Topic 1\",\"x\":0.36250000000000004,\"xanchor\":\"center\",\"xref\":\"paper\",\"y\":1.0,\"yanchor\":\"bottom\",\"yref\":\"paper\"},{\"font\":{\"size\":16},\"showarrow\":false,\"text\":\"Topic 2\",\"x\":0.6375000000000001,\"xanchor\":\"center\",\"xref\":\"paper\",\"y\":1.0,\"yanchor\":\"bottom\",\"yref\":\"paper\"},{\"font\":{\"size\":16},\"showarrow\":false,\"text\":\"Topic 3\",\"x\":0.9125,\"xanchor\":\"center\",\"xref\":\"paper\",\"y\":1.0,\"yanchor\":\"bottom\",\"yref\":\"paper\"},{\"font\":{\"size\":16},\"showarrow\":false,\"text\":\"Topic 4\",\"x\":0.0875,\"xanchor\":\"center\",\"xref\":\"paper\",\"y\":0.7250000000000001,\"yanchor\":\"bottom\",\"yref\":\"paper\"},{\"font\":{\"size\":16},\"showarrow\":false,\"text\":\"Topic 5\",\"x\":0.36250000000000004,\"xanchor\":\"center\",\"xref\":\"paper\",\"y\":0.7250000000000001,\"yanchor\":\"bottom\",\"yref\":\"paper\"},{\"font\":{\"size\":16},\"showarrow\":false,\"text\":\"Topic 6\",\"x\":0.6375000000000001,\"xanchor\":\"center\",\"xref\":\"paper\",\"y\":0.7250000000000001,\"yanchor\":\"bottom\",\"yref\":\"paper\"},{\"font\":{\"size\":16},\"showarrow\":false,\"text\":\"Topic 7\",\"x\":0.9125,\"xanchor\":\"center\",\"xref\":\"paper\",\"y\":0.7250000000000001,\"yanchor\":\"bottom\",\"yref\":\"paper\"},{\"font\":{\"size\":16},\"showarrow\":false,\"text\":\"Topic 8\",\"x\":0.0875,\"xanchor\":\"center\",\"xref\":\"paper\",\"y\":0.45,\"yanchor\":\"bottom\",\"yref\":\"paper\"},{\"font\":{\"size\":16},\"showarrow\":false,\"text\":\"Topic 9\",\"x\":0.36250000000000004,\"xanchor\":\"center\",\"xref\":\"paper\",\"y\":0.45,\"yanchor\":\"bottom\",\"yref\":\"paper\"},{\"font\":{\"size\":16},\"showarrow\":false,\"text\":\"Topic 10\",\"x\":0.6375000000000001,\"xanchor\":\"center\",\"xref\":\"paper\",\"y\":0.45,\"yanchor\":\"bottom\",\"yref\":\"paper\"},{\"font\":{\"size\":16},\"showarrow\":false,\"text\":\"Topic 11\",\"x\":0.9125,\"xanchor\":\"center\",\"xref\":\"paper\",\"y\":0.45,\"yanchor\":\"bottom\",\"yref\":\"paper\"},{\"font\":{\"size\":16},\"showarrow\":false,\"text\":\"Topic 12\",\"x\":0.0875,\"xanchor\":\"center\",\"xref\":\"paper\",\"y\":0.175,\"yanchor\":\"bottom\",\"yref\":\"paper\"},{\"font\":{\"size\":16},\"showarrow\":false,\"text\":\"Topic 13\",\"x\":0.36250000000000004,\"xanchor\":\"center\",\"xref\":\"paper\",\"y\":0.175,\"yanchor\":\"bottom\",\"yref\":\"paper\"},{\"font\":{\"size\":16},\"showarrow\":false,\"text\":\"Topic 14\",\"x\":0.6375000000000001,\"xanchor\":\"center\",\"xref\":\"paper\",\"y\":0.175,\"yanchor\":\"bottom\",\"yref\":\"paper\"}],\"title\":{\"font\":{\"size\":22,\"color\":\"Black\"},\"text\":\"<b>Topic Word Scores\",\"x\":0.5,\"xanchor\":\"center\",\"yanchor\":\"top\"},\"hoverlabel\":{\"font\":{\"size\":16,\"family\":\"Rockwell\"},\"bgcolor\":\"white\"},\"showlegend\":false,\"width\":1000,\"height\":1000},                        {\"responsive\": true}                    ).then(function(){\n",
              "                            \n",
              "var gd = document.getElementById('05041845-9b7f-41c9-a9c3-0174a0542cd0');\n",
              "var x = new MutationObserver(function (mutations, observer) {{\n",
              "        var display = window.getComputedStyle(gd).display;\n",
              "        if (!display || display === 'none') {{\n",
              "            console.log([gd, 'removed!']);\n",
              "            Plotly.purge(gd);\n",
              "            observer.disconnect();\n",
              "        }}\n",
              "}});\n",
              "\n",
              "// Listen for the removal of the full notebook cells\n",
              "var notebookContainer = gd.closest('#notebook-container');\n",
              "if (notebookContainer) {{\n",
              "    x.observe(notebookContainer, {childList: true});\n",
              "}}\n",
              "\n",
              "// Listen for the clearing of the current output cell\n",
              "var outputEl = gd.closest('.output');\n",
              "if (outputEl) {{\n",
              "    x.observe(outputEl, {childList: true});\n",
              "}}\n",
              "\n",
              "                        })                };                            </script>        </div>\n",
              "</body>\n",
              "</html>"
            ]
          },
          "metadata": {},
          "output_type": "display_data"
        }
      ],
      "source": [
        "model3.visualize_barchart(top_n_topics=15)"
      ]
    },
    {
      "cell_type": "code",
      "execution_count": null,
      "metadata": {
        "colab": {
          "background_save": true
        },
        "id": "JQSkCOsqD9Or",
        "outputId": "d7fa8f01-8726-4d1e-b2ef-b392e90a2fe9"
      },
      "outputs": [
        {
          "data": {
            "text/plain": [
              "['review ramblings chick ramblingsfromthischick blogspot comfull exposure book independence fall series sara jane stone book read definitely enjoy story think write character interest easy relate book great quick easy read think story different read return serve country georgia take job work brother best friend nanny thing eric seek rush adrenaline alive jumping plane seek thrill know sex eric earth shatter adventure eric refuse touch desire eye act feel lose sister horrible accident eric take nephew nate focus make priority best friend ask little sister job eric help agree georgia determine friendship level matter time eric try avoid cross line time spend eric realizes georgia not girl refuse thrill eric georgia figure way past obstacle brother provide stable relationship nate thing keep pursuing future like georgia strong smart great role model proof woman great thing achieve success men dominate profession love soldier afraid tough situation able come home nanny nate provide care tenderness need determine stable fixture life regardless happen eric glad try hard love cared feeling eric eric great sweet care adorable nate priority need eric think cute help nate chase bear away lose patience love unconditionally love son not nephew great georgia thinking need tried sure felt comfortable situation bother give talk shoulder lean push nag encourage open trust tell lot chemistry history emotional connection invest story think push pull couple get little old awhile understand eric felt strongly touch wrong understand vulnerable deal issue adult unhealthy way felt like eric run cold georgia run hot minute completely flip want smack time tell talk act like adult keep wait wake bit like see happen bit sooner glad finally able admit feeling want enjoy book definitely recommend contemporary fan like twist georgia soldier instead hero think character write deep interesting real definitely look sara jane stone future wait read georgia brother liam story complimentary copy provide edelweiss',\n",
              " 'review ramblings chick ramblingsfromthischick blogspot comlet love fourth book megan smith love series book interconnected character read previous book start story necessary understand jaylinn cooper book think beneficial enjoyed wait read previous book story series jaylinn determine forward life endure horrible incident lean best friend boyfriend help feel jaylinn cooper pair practically live jaylinn ready forward live finally real couple ready past thing cooper finally have sex cooper scar finally love ruin thing damage jaylinn cooper best jaylinn arm length difficult time go jaylinn finally reach break point cooper decide willing risk lose forever like cooper not understand time want shake ask problem know try patient jaylinn help past want push damage seriously clue freak blind come jaylinn need love loved feeling strong real want wake faster sweet take care way need jaylinn strong determine liked knew survivor know ready forward want cooper glad let continue ignore thing think great thought jaylinn cooper lot chemistry feel attraction emotional connection strong history feeling relationship special overall story good like cooper jaylinn secondary character wait great character especially cooper friend eli warn book end good place bit cliffhanger not completely freak reader want leave know story far wait read previous book cooper jaylinn get point know rest character well look forward get story series see happens end book definitely recommend think lot reader character likable easy relate complimentary copy provide book plug promotion',\n",
              " 'life flip hard hard wish die line read book hook right away isn true statement know go rough time live willing bet similar thought meet main character story dani right smack middle bad time life move hometown run disastrous scandal determine build brick wall heart determine relationship string attach messy feeling involve dani kickass female real woman girl mistake bad judgement call sent scurry cover hide not strong pick say sassy little eff later dust shoulder move head hold high add bonus girl work stripper pole like business damn make want eff class especially help man like lucas right want lucas wade tall sexy drink gorgeousness swoop night completely fluster save dani time new lifestyle take job bartender job ridiculously unqualified luckily lucas decides come rescue price course guys take want come baggage like dani look good time string attach chemistry sexy flirt go look like dani perfect girl wrong right love book tie character book molly logan stole heart end want reflect thrill webb surprise effortlessly story flow fantastic lucas dani unique couple attraction physical connection intense constantly deny emotional tie rely completely lust boy lust nearly lucas king bedroom black silk tie dani irrefutably match passion squirmingly hot delicious bedroom love past baggage dark secret way find way matter hard fight bury happen dani lucas bond build purely physical relationship save mention dani mom gail adore character charmingly hilarious tough nail sweet candy love accepted daughter support step way mention hilarious right trust steal opinion love mean follow personal hell need know follow save not run willing descend hell love fate dani lucas molly logan follow read standalone recommend read reflect meet molly logan cassiadeliciouslywickedbooks com']"
            ]
          },
          "execution_count": null,
          "metadata": {},
          "output_type": "execute_result"
        }
      ],
      "source": [
        "model3.get_representative_docs(topic=0)"
      ]
    }
  ],
  "metadata": {
    "colab": {
      "collapsed_sections": [],
      "name": "DSO560_PROJECT_PART1_TOPIC_MODELLING_NLP.ipynb",
      "provenance": []
    },
    "kernelspec": {
      "display_name": "Python 3",
      "name": "python3"
    },
    "language_info": {
      "name": "python"
    },
    "widgets": {
      "application/vnd.jupyter.widget-state+json": {
        "0ed23fa879634a86bb5178ebd5286dba": {
          "model_module": "@jupyter-widgets/base",
          "model_module_version": "1.2.0",
          "model_name": "LayoutModel",
          "state": {
            "_model_module": "@jupyter-widgets/base",
            "_model_module_version": "1.2.0",
            "_model_name": "LayoutModel",
            "_view_count": null,
            "_view_module": "@jupyter-widgets/base",
            "_view_module_version": "1.2.0",
            "_view_name": "LayoutView",
            "align_content": null,
            "align_items": null,
            "align_self": null,
            "border": null,
            "bottom": null,
            "display": null,
            "flex": null,
            "flex_flow": null,
            "grid_area": null,
            "grid_auto_columns": null,
            "grid_auto_flow": null,
            "grid_auto_rows": null,
            "grid_column": null,
            "grid_gap": null,
            "grid_row": null,
            "grid_template_areas": null,
            "grid_template_columns": null,
            "grid_template_rows": null,
            "height": null,
            "justify_content": null,
            "justify_items": null,
            "left": null,
            "margin": null,
            "max_height": null,
            "max_width": null,
            "min_height": null,
            "min_width": null,
            "object_fit": null,
            "object_position": null,
            "order": null,
            "overflow": null,
            "overflow_x": null,
            "overflow_y": null,
            "padding": null,
            "right": null,
            "top": null,
            "visibility": null,
            "width": null
          }
        },
        "10451eefa7e746abb7b2e5517075e214": {
          "model_module": "@jupyter-widgets/controls",
          "model_module_version": "1.5.0",
          "model_name": "ProgressStyleModel",
          "state": {
            "_model_module": "@jupyter-widgets/controls",
            "_model_module_version": "1.5.0",
            "_model_name": "ProgressStyleModel",
            "_view_count": null,
            "_view_module": "@jupyter-widgets/base",
            "_view_module_version": "1.2.0",
            "_view_name": "StyleView",
            "bar_color": null,
            "description_width": ""
          }
        },
        "1529254f061148a6ba76ee82b411b554": {
          "model_module": "@jupyter-widgets/controls",
          "model_module_version": "1.5.0",
          "model_name": "HTMLModel",
          "state": {
            "_dom_classes": [],
            "_model_module": "@jupyter-widgets/controls",
            "_model_module_version": "1.5.0",
            "_model_name": "HTMLModel",
            "_view_count": null,
            "_view_module": "@jupyter-widgets/controls",
            "_view_module_version": "1.5.0",
            "_view_name": "HTMLView",
            "description": "",
            "description_tooltip": null,
            "layout": "IPY_MODEL_8a4f4e5c5633474084bae23ded3313de",
            "placeholder": "​",
            "style": "IPY_MODEL_6496cb80716e41f180a599eacc0441b3",
            "value": "Batches:   0%"
          }
        },
        "1efc66d12fe745dea7014c2a82f05666": {
          "model_module": "@jupyter-widgets/controls",
          "model_module_version": "1.5.0",
          "model_name": "HTMLModel",
          "state": {
            "_dom_classes": [],
            "_model_module": "@jupyter-widgets/controls",
            "_model_module_version": "1.5.0",
            "_model_name": "HTMLModel",
            "_view_count": null,
            "_view_module": "@jupyter-widgets/controls",
            "_view_module_version": "1.5.0",
            "_view_name": "HTMLView",
            "description": "",
            "description_tooltip": null,
            "layout": "IPY_MODEL_af899852382d454d8f9d80b2529b06fa",
            "placeholder": "​",
            "style": "IPY_MODEL_87755146418a4fa6b417e433fe12d229",
            "value": " 168/168 [02:20&lt;00:00, 10.20it/s]"
          }
        },
        "2037a1c27c9e4a96b211c3842151543c": {
          "model_module": "@jupyter-widgets/controls",
          "model_module_version": "1.5.0",
          "model_name": "ProgressStyleModel",
          "state": {
            "_model_module": "@jupyter-widgets/controls",
            "_model_module_version": "1.5.0",
            "_model_name": "ProgressStyleModel",
            "_view_count": null,
            "_view_module": "@jupyter-widgets/base",
            "_view_module_version": "1.2.0",
            "_view_name": "StyleView",
            "bar_color": null,
            "description_width": ""
          }
        },
        "3ddc5b3924ff4decac9e3f217d4d2c4c": {
          "model_module": "@jupyter-widgets/controls",
          "model_module_version": "1.5.0",
          "model_name": "DescriptionStyleModel",
          "state": {
            "_model_module": "@jupyter-widgets/controls",
            "_model_module_version": "1.5.0",
            "_model_name": "DescriptionStyleModel",
            "_view_count": null,
            "_view_module": "@jupyter-widgets/base",
            "_view_module_version": "1.2.0",
            "_view_name": "StyleView",
            "description_width": ""
          }
        },
        "496c26781245489bba94cee354f9bd99": {
          "model_module": "@jupyter-widgets/base",
          "model_module_version": "1.2.0",
          "model_name": "LayoutModel",
          "state": {
            "_model_module": "@jupyter-widgets/base",
            "_model_module_version": "1.2.0",
            "_model_name": "LayoutModel",
            "_view_count": null,
            "_view_module": "@jupyter-widgets/base",
            "_view_module_version": "1.2.0",
            "_view_name": "LayoutView",
            "align_content": null,
            "align_items": null,
            "align_self": null,
            "border": null,
            "bottom": null,
            "display": null,
            "flex": null,
            "flex_flow": null,
            "grid_area": null,
            "grid_auto_columns": null,
            "grid_auto_flow": null,
            "grid_auto_rows": null,
            "grid_column": null,
            "grid_gap": null,
            "grid_row": null,
            "grid_template_areas": null,
            "grid_template_columns": null,
            "grid_template_rows": null,
            "height": null,
            "justify_content": null,
            "justify_items": null,
            "left": null,
            "margin": null,
            "max_height": null,
            "max_width": null,
            "min_height": null,
            "min_width": null,
            "object_fit": null,
            "object_position": null,
            "order": null,
            "overflow": null,
            "overflow_x": null,
            "overflow_y": null,
            "padding": null,
            "right": null,
            "top": null,
            "visibility": null,
            "width": null
          }
        },
        "4c6c98457a7742888b0e840e3c3171ad": {
          "model_module": "@jupyter-widgets/controls",
          "model_module_version": "1.5.0",
          "model_name": "DescriptionStyleModel",
          "state": {
            "_model_module": "@jupyter-widgets/controls",
            "_model_module_version": "1.5.0",
            "_model_name": "DescriptionStyleModel",
            "_view_count": null,
            "_view_module": "@jupyter-widgets/base",
            "_view_module_version": "1.2.0",
            "_view_name": "StyleView",
            "description_width": ""
          }
        },
        "5a97764378d74490b76ec8ba615ce706": {
          "model_module": "@jupyter-widgets/controls",
          "model_module_version": "1.5.0",
          "model_name": "FloatProgressModel",
          "state": {
            "_dom_classes": [],
            "_model_module": "@jupyter-widgets/controls",
            "_model_module_version": "1.5.0",
            "_model_name": "FloatProgressModel",
            "_view_count": null,
            "_view_module": "@jupyter-widgets/controls",
            "_view_module_version": "1.5.0",
            "_view_name": "ProgressView",
            "bar_style": "",
            "description": "",
            "description_tooltip": null,
            "layout": "IPY_MODEL_8fee769b49a6423db81bee5dd89ec607",
            "max": 1147,
            "min": 0,
            "orientation": "horizontal",
            "style": "IPY_MODEL_10451eefa7e746abb7b2e5517075e214",
            "value": 2
          }
        },
        "6190462cbc5d454bb23e76edfb4b66be": {
          "model_module": "@jupyter-widgets/base",
          "model_module_version": "1.2.0",
          "model_name": "LayoutModel",
          "state": {
            "_model_module": "@jupyter-widgets/base",
            "_model_module_version": "1.2.0",
            "_model_name": "LayoutModel",
            "_view_count": null,
            "_view_module": "@jupyter-widgets/base",
            "_view_module_version": "1.2.0",
            "_view_name": "LayoutView",
            "align_content": null,
            "align_items": null,
            "align_self": null,
            "border": null,
            "bottom": null,
            "display": null,
            "flex": null,
            "flex_flow": null,
            "grid_area": null,
            "grid_auto_columns": null,
            "grid_auto_flow": null,
            "grid_auto_rows": null,
            "grid_column": null,
            "grid_gap": null,
            "grid_row": null,
            "grid_template_areas": null,
            "grid_template_columns": null,
            "grid_template_rows": null,
            "height": null,
            "justify_content": null,
            "justify_items": null,
            "left": null,
            "margin": null,
            "max_height": null,
            "max_width": null,
            "min_height": null,
            "min_width": null,
            "object_fit": null,
            "object_position": null,
            "order": null,
            "overflow": null,
            "overflow_x": null,
            "overflow_y": null,
            "padding": null,
            "right": null,
            "top": null,
            "visibility": null,
            "width": null
          }
        },
        "61e4c7e7e47f42c0986bd7e7a07f15fa": {
          "model_module": "@jupyter-widgets/base",
          "model_module_version": "1.2.0",
          "model_name": "LayoutModel",
          "state": {
            "_model_module": "@jupyter-widgets/base",
            "_model_module_version": "1.2.0",
            "_model_name": "LayoutModel",
            "_view_count": null,
            "_view_module": "@jupyter-widgets/base",
            "_view_module_version": "1.2.0",
            "_view_name": "LayoutView",
            "align_content": null,
            "align_items": null,
            "align_self": null,
            "border": null,
            "bottom": null,
            "display": null,
            "flex": null,
            "flex_flow": null,
            "grid_area": null,
            "grid_auto_columns": null,
            "grid_auto_flow": null,
            "grid_auto_rows": null,
            "grid_column": null,
            "grid_gap": null,
            "grid_row": null,
            "grid_template_areas": null,
            "grid_template_columns": null,
            "grid_template_rows": null,
            "height": null,
            "justify_content": null,
            "justify_items": null,
            "left": null,
            "margin": null,
            "max_height": null,
            "max_width": null,
            "min_height": null,
            "min_width": null,
            "object_fit": null,
            "object_position": null,
            "order": null,
            "overflow": null,
            "overflow_x": null,
            "overflow_y": null,
            "padding": null,
            "right": null,
            "top": null,
            "visibility": null,
            "width": null
          }
        },
        "63b9e63a1c594de4a06f2aa88c308f2f": {
          "model_module": "@jupyter-widgets/base",
          "model_module_version": "1.2.0",
          "model_name": "LayoutModel",
          "state": {
            "_model_module": "@jupyter-widgets/base",
            "_model_module_version": "1.2.0",
            "_model_name": "LayoutModel",
            "_view_count": null,
            "_view_module": "@jupyter-widgets/base",
            "_view_module_version": "1.2.0",
            "_view_name": "LayoutView",
            "align_content": null,
            "align_items": null,
            "align_self": null,
            "border": null,
            "bottom": null,
            "display": null,
            "flex": null,
            "flex_flow": null,
            "grid_area": null,
            "grid_auto_columns": null,
            "grid_auto_flow": null,
            "grid_auto_rows": null,
            "grid_column": null,
            "grid_gap": null,
            "grid_row": null,
            "grid_template_areas": null,
            "grid_template_columns": null,
            "grid_template_rows": null,
            "height": null,
            "justify_content": null,
            "justify_items": null,
            "left": null,
            "margin": null,
            "max_height": null,
            "max_width": null,
            "min_height": null,
            "min_width": null,
            "object_fit": null,
            "object_position": null,
            "order": null,
            "overflow": null,
            "overflow_x": null,
            "overflow_y": null,
            "padding": null,
            "right": null,
            "top": null,
            "visibility": null,
            "width": null
          }
        },
        "6496cb80716e41f180a599eacc0441b3": {
          "model_module": "@jupyter-widgets/controls",
          "model_module_version": "1.5.0",
          "model_name": "DescriptionStyleModel",
          "state": {
            "_model_module": "@jupyter-widgets/controls",
            "_model_module_version": "1.5.0",
            "_model_name": "DescriptionStyleModel",
            "_view_count": null,
            "_view_module": "@jupyter-widgets/base",
            "_view_module_version": "1.2.0",
            "_view_name": "StyleView",
            "description_width": ""
          }
        },
        "69efb157653d469aba85c7589802b062": {
          "model_module": "@jupyter-widgets/controls",
          "model_module_version": "1.5.0",
          "model_name": "HTMLModel",
          "state": {
            "_dom_classes": [],
            "_model_module": "@jupyter-widgets/controls",
            "_model_module_version": "1.5.0",
            "_model_name": "HTMLModel",
            "_view_count": null,
            "_view_module": "@jupyter-widgets/controls",
            "_view_module_version": "1.5.0",
            "_view_name": "HTMLView",
            "description": "",
            "description_tooltip": null,
            "layout": "IPY_MODEL_63b9e63a1c594de4a06f2aa88c308f2f",
            "placeholder": "​",
            "style": "IPY_MODEL_3ddc5b3924ff4decac9e3f217d4d2c4c",
            "value": "Batches: 100%"
          }
        },
        "74621264a4264f45ac61c3353af3ddc4": {
          "model_module": "@jupyter-widgets/controls",
          "model_module_version": "1.5.0",
          "model_name": "HBoxModel",
          "state": {
            "_dom_classes": [],
            "_model_module": "@jupyter-widgets/controls",
            "_model_module_version": "1.5.0",
            "_model_name": "HBoxModel",
            "_view_count": null,
            "_view_module": "@jupyter-widgets/controls",
            "_view_module_version": "1.5.0",
            "_view_name": "HBoxView",
            "box_style": "",
            "children": [
              "IPY_MODEL_69efb157653d469aba85c7589802b062",
              "IPY_MODEL_80ec5f142f7e42ceb088e589b54a841d",
              "IPY_MODEL_bb6a2d8f942b4e3c83cbe97674650e80"
            ],
            "layout": "IPY_MODEL_d25a77cbd31446de98d5d6e28bf39027"
          }
        },
        "77ec7f9143cb48e9b184d1fdd7ffcffb": {
          "model_module": "@jupyter-widgets/base",
          "model_module_version": "1.2.0",
          "model_name": "LayoutModel",
          "state": {
            "_model_module": "@jupyter-widgets/base",
            "_model_module_version": "1.2.0",
            "_model_name": "LayoutModel",
            "_view_count": null,
            "_view_module": "@jupyter-widgets/base",
            "_view_module_version": "1.2.0",
            "_view_name": "LayoutView",
            "align_content": null,
            "align_items": null,
            "align_self": null,
            "border": null,
            "bottom": null,
            "display": null,
            "flex": null,
            "flex_flow": null,
            "grid_area": null,
            "grid_auto_columns": null,
            "grid_auto_flow": null,
            "grid_auto_rows": null,
            "grid_column": null,
            "grid_gap": null,
            "grid_row": null,
            "grid_template_areas": null,
            "grid_template_columns": null,
            "grid_template_rows": null,
            "height": null,
            "justify_content": null,
            "justify_items": null,
            "left": null,
            "margin": null,
            "max_height": null,
            "max_width": null,
            "min_height": null,
            "min_width": null,
            "object_fit": null,
            "object_position": null,
            "order": null,
            "overflow": null,
            "overflow_x": null,
            "overflow_y": null,
            "padding": null,
            "right": null,
            "top": null,
            "visibility": null,
            "width": null
          }
        },
        "80ec5f142f7e42ceb088e589b54a841d": {
          "model_module": "@jupyter-widgets/controls",
          "model_module_version": "1.5.0",
          "model_name": "FloatProgressModel",
          "state": {
            "_dom_classes": [],
            "_model_module": "@jupyter-widgets/controls",
            "_model_module_version": "1.5.0",
            "_model_name": "FloatProgressModel",
            "_view_count": null,
            "_view_module": "@jupyter-widgets/controls",
            "_view_module_version": "1.5.0",
            "_view_name": "ProgressView",
            "bar_style": "success",
            "description": "",
            "description_tooltip": null,
            "layout": "IPY_MODEL_b7c6bfeb82f74904843c25c667c8608c",
            "max": 2284,
            "min": 0,
            "orientation": "horizontal",
            "style": "IPY_MODEL_fc7680cb14224ea2ad2a51d549bc95ff",
            "value": 2284
          }
        },
        "8594e3f7454345bbad3df36d7584e1ea": {
          "model_module": "@jupyter-widgets/controls",
          "model_module_version": "1.5.0",
          "model_name": "HTMLModel",
          "state": {
            "_dom_classes": [],
            "_model_module": "@jupyter-widgets/controls",
            "_model_module_version": "1.5.0",
            "_model_name": "HTMLModel",
            "_view_count": null,
            "_view_module": "@jupyter-widgets/controls",
            "_view_module_version": "1.5.0",
            "_view_name": "HTMLView",
            "description": "",
            "description_tooltip": null,
            "layout": "IPY_MODEL_0ed23fa879634a86bb5178ebd5286dba",
            "placeholder": "​",
            "style": "IPY_MODEL_98d01554d001471083f1f5ab873a1450",
            "value": "Batches: 100%"
          }
        },
        "87755146418a4fa6b417e433fe12d229": {
          "model_module": "@jupyter-widgets/controls",
          "model_module_version": "1.5.0",
          "model_name": "DescriptionStyleModel",
          "state": {
            "_model_module": "@jupyter-widgets/controls",
            "_model_module_version": "1.5.0",
            "_model_name": "DescriptionStyleModel",
            "_view_count": null,
            "_view_module": "@jupyter-widgets/base",
            "_view_module_version": "1.2.0",
            "_view_name": "StyleView",
            "description_width": ""
          }
        },
        "8a4f4e5c5633474084bae23ded3313de": {
          "model_module": "@jupyter-widgets/base",
          "model_module_version": "1.2.0",
          "model_name": "LayoutModel",
          "state": {
            "_model_module": "@jupyter-widgets/base",
            "_model_module_version": "1.2.0",
            "_model_name": "LayoutModel",
            "_view_count": null,
            "_view_module": "@jupyter-widgets/base",
            "_view_module_version": "1.2.0",
            "_view_name": "LayoutView",
            "align_content": null,
            "align_items": null,
            "align_self": null,
            "border": null,
            "bottom": null,
            "display": null,
            "flex": null,
            "flex_flow": null,
            "grid_area": null,
            "grid_auto_columns": null,
            "grid_auto_flow": null,
            "grid_auto_rows": null,
            "grid_column": null,
            "grid_gap": null,
            "grid_row": null,
            "grid_template_areas": null,
            "grid_template_columns": null,
            "grid_template_rows": null,
            "height": null,
            "justify_content": null,
            "justify_items": null,
            "left": null,
            "margin": null,
            "max_height": null,
            "max_width": null,
            "min_height": null,
            "min_width": null,
            "object_fit": null,
            "object_position": null,
            "order": null,
            "overflow": null,
            "overflow_x": null,
            "overflow_y": null,
            "padding": null,
            "right": null,
            "top": null,
            "visibility": null,
            "width": null
          }
        },
        "8fee769b49a6423db81bee5dd89ec607": {
          "model_module": "@jupyter-widgets/base",
          "model_module_version": "1.2.0",
          "model_name": "LayoutModel",
          "state": {
            "_model_module": "@jupyter-widgets/base",
            "_model_module_version": "1.2.0",
            "_model_name": "LayoutModel",
            "_view_count": null,
            "_view_module": "@jupyter-widgets/base",
            "_view_module_version": "1.2.0",
            "_view_name": "LayoutView",
            "align_content": null,
            "align_items": null,
            "align_self": null,
            "border": null,
            "bottom": null,
            "display": null,
            "flex": null,
            "flex_flow": null,
            "grid_area": null,
            "grid_auto_columns": null,
            "grid_auto_flow": null,
            "grid_auto_rows": null,
            "grid_column": null,
            "grid_gap": null,
            "grid_row": null,
            "grid_template_areas": null,
            "grid_template_columns": null,
            "grid_template_rows": null,
            "height": null,
            "justify_content": null,
            "justify_items": null,
            "left": null,
            "margin": null,
            "max_height": null,
            "max_width": null,
            "min_height": null,
            "min_width": null,
            "object_fit": null,
            "object_position": null,
            "order": null,
            "overflow": null,
            "overflow_x": null,
            "overflow_y": null,
            "padding": null,
            "right": null,
            "top": null,
            "visibility": null,
            "width": null
          }
        },
        "98d01554d001471083f1f5ab873a1450": {
          "model_module": "@jupyter-widgets/controls",
          "model_module_version": "1.5.0",
          "model_name": "DescriptionStyleModel",
          "state": {
            "_model_module": "@jupyter-widgets/controls",
            "_model_module_version": "1.5.0",
            "_model_name": "DescriptionStyleModel",
            "_view_count": null,
            "_view_module": "@jupyter-widgets/base",
            "_view_module_version": "1.2.0",
            "_view_name": "StyleView",
            "description_width": ""
          }
        },
        "99a1fdd60d9a45ba8053bb862c72058b": {
          "model_module": "@jupyter-widgets/controls",
          "model_module_version": "1.5.0",
          "model_name": "HBoxModel",
          "state": {
            "_dom_classes": [],
            "_model_module": "@jupyter-widgets/controls",
            "_model_module_version": "1.5.0",
            "_model_name": "HBoxModel",
            "_view_count": null,
            "_view_module": "@jupyter-widgets/controls",
            "_view_module_version": "1.5.0",
            "_view_name": "HBoxView",
            "box_style": "",
            "children": [
              "IPY_MODEL_1529254f061148a6ba76ee82b411b554",
              "IPY_MODEL_5a97764378d74490b76ec8ba615ce706",
              "IPY_MODEL_dcbeddfd47a24450be070bdf55f8b258"
            ],
            "layout": "IPY_MODEL_496c26781245489bba94cee354f9bd99"
          }
        },
        "af899852382d454d8f9d80b2529b06fa": {
          "model_module": "@jupyter-widgets/base",
          "model_module_version": "1.2.0",
          "model_name": "LayoutModel",
          "state": {
            "_model_module": "@jupyter-widgets/base",
            "_model_module_version": "1.2.0",
            "_model_name": "LayoutModel",
            "_view_count": null,
            "_view_module": "@jupyter-widgets/base",
            "_view_module_version": "1.2.0",
            "_view_name": "LayoutView",
            "align_content": null,
            "align_items": null,
            "align_self": null,
            "border": null,
            "bottom": null,
            "display": null,
            "flex": null,
            "flex_flow": null,
            "grid_area": null,
            "grid_auto_columns": null,
            "grid_auto_flow": null,
            "grid_auto_rows": null,
            "grid_column": null,
            "grid_gap": null,
            "grid_row": null,
            "grid_template_areas": null,
            "grid_template_columns": null,
            "grid_template_rows": null,
            "height": null,
            "justify_content": null,
            "justify_items": null,
            "left": null,
            "margin": null,
            "max_height": null,
            "max_width": null,
            "min_height": null,
            "min_width": null,
            "object_fit": null,
            "object_position": null,
            "order": null,
            "overflow": null,
            "overflow_x": null,
            "overflow_y": null,
            "padding": null,
            "right": null,
            "top": null,
            "visibility": null,
            "width": null
          }
        },
        "b7c6bfeb82f74904843c25c667c8608c": {
          "model_module": "@jupyter-widgets/base",
          "model_module_version": "1.2.0",
          "model_name": "LayoutModel",
          "state": {
            "_model_module": "@jupyter-widgets/base",
            "_model_module_version": "1.2.0",
            "_model_name": "LayoutModel",
            "_view_count": null,
            "_view_module": "@jupyter-widgets/base",
            "_view_module_version": "1.2.0",
            "_view_name": "LayoutView",
            "align_content": null,
            "align_items": null,
            "align_self": null,
            "border": null,
            "bottom": null,
            "display": null,
            "flex": null,
            "flex_flow": null,
            "grid_area": null,
            "grid_auto_columns": null,
            "grid_auto_flow": null,
            "grid_auto_rows": null,
            "grid_column": null,
            "grid_gap": null,
            "grid_row": null,
            "grid_template_areas": null,
            "grid_template_columns": null,
            "grid_template_rows": null,
            "height": null,
            "justify_content": null,
            "justify_items": null,
            "left": null,
            "margin": null,
            "max_height": null,
            "max_width": null,
            "min_height": null,
            "min_width": null,
            "object_fit": null,
            "object_position": null,
            "order": null,
            "overflow": null,
            "overflow_x": null,
            "overflow_y": null,
            "padding": null,
            "right": null,
            "top": null,
            "visibility": null,
            "width": null
          }
        },
        "bb6a2d8f942b4e3c83cbe97674650e80": {
          "model_module": "@jupyter-widgets/controls",
          "model_module_version": "1.5.0",
          "model_name": "HTMLModel",
          "state": {
            "_dom_classes": [],
            "_model_module": "@jupyter-widgets/controls",
            "_model_module_version": "1.5.0",
            "_model_name": "HTMLModel",
            "_view_count": null,
            "_view_module": "@jupyter-widgets/controls",
            "_view_module_version": "1.5.0",
            "_view_name": "HTMLView",
            "description": "",
            "description_tooltip": null,
            "layout": "IPY_MODEL_61e4c7e7e47f42c0986bd7e7a07f15fa",
            "placeholder": "​",
            "style": "IPY_MODEL_4c6c98457a7742888b0e840e3c3171ad",
            "value": " 2284/2284 [33:11&lt;00:00, 13.02it/s]"
          }
        },
        "bf9aa42b412944e99427f9a0b1736fbd": {
          "model_module": "@jupyter-widgets/base",
          "model_module_version": "1.2.0",
          "model_name": "LayoutModel",
          "state": {
            "_model_module": "@jupyter-widgets/base",
            "_model_module_version": "1.2.0",
            "_model_name": "LayoutModel",
            "_view_count": null,
            "_view_module": "@jupyter-widgets/base",
            "_view_module_version": "1.2.0",
            "_view_name": "LayoutView",
            "align_content": null,
            "align_items": null,
            "align_self": null,
            "border": null,
            "bottom": null,
            "display": null,
            "flex": null,
            "flex_flow": null,
            "grid_area": null,
            "grid_auto_columns": null,
            "grid_auto_flow": null,
            "grid_auto_rows": null,
            "grid_column": null,
            "grid_gap": null,
            "grid_row": null,
            "grid_template_areas": null,
            "grid_template_columns": null,
            "grid_template_rows": null,
            "height": null,
            "justify_content": null,
            "justify_items": null,
            "left": null,
            "margin": null,
            "max_height": null,
            "max_width": null,
            "min_height": null,
            "min_width": null,
            "object_fit": null,
            "object_position": null,
            "order": null,
            "overflow": null,
            "overflow_x": null,
            "overflow_y": null,
            "padding": null,
            "right": null,
            "top": null,
            "visibility": null,
            "width": null
          }
        },
        "d25a77cbd31446de98d5d6e28bf39027": {
          "model_module": "@jupyter-widgets/base",
          "model_module_version": "1.2.0",
          "model_name": "LayoutModel",
          "state": {
            "_model_module": "@jupyter-widgets/base",
            "_model_module_version": "1.2.0",
            "_model_name": "LayoutModel",
            "_view_count": null,
            "_view_module": "@jupyter-widgets/base",
            "_view_module_version": "1.2.0",
            "_view_name": "LayoutView",
            "align_content": null,
            "align_items": null,
            "align_self": null,
            "border": null,
            "bottom": null,
            "display": null,
            "flex": null,
            "flex_flow": null,
            "grid_area": null,
            "grid_auto_columns": null,
            "grid_auto_flow": null,
            "grid_auto_rows": null,
            "grid_column": null,
            "grid_gap": null,
            "grid_row": null,
            "grid_template_areas": null,
            "grid_template_columns": null,
            "grid_template_rows": null,
            "height": null,
            "justify_content": null,
            "justify_items": null,
            "left": null,
            "margin": null,
            "max_height": null,
            "max_width": null,
            "min_height": null,
            "min_width": null,
            "object_fit": null,
            "object_position": null,
            "order": null,
            "overflow": null,
            "overflow_x": null,
            "overflow_y": null,
            "padding": null,
            "right": null,
            "top": null,
            "visibility": null,
            "width": null
          }
        },
        "dcbeddfd47a24450be070bdf55f8b258": {
          "model_module": "@jupyter-widgets/controls",
          "model_module_version": "1.5.0",
          "model_name": "HTMLModel",
          "state": {
            "_dom_classes": [],
            "_model_module": "@jupyter-widgets/controls",
            "_model_module_version": "1.5.0",
            "_model_name": "HTMLModel",
            "_view_count": null,
            "_view_module": "@jupyter-widgets/controls",
            "_view_module_version": "1.5.0",
            "_view_name": "HTMLView",
            "description": "",
            "description_tooltip": null,
            "layout": "IPY_MODEL_77ec7f9143cb48e9b184d1fdd7ffcffb",
            "placeholder": "​",
            "style": "IPY_MODEL_e963b036085d409ab2ef84db1ad4bcdf",
            "value": " 2/1147 [00:08&lt;1:22:17,  4.31s/it]"
          }
        },
        "e963b036085d409ab2ef84db1ad4bcdf": {
          "model_module": "@jupyter-widgets/controls",
          "model_module_version": "1.5.0",
          "model_name": "DescriptionStyleModel",
          "state": {
            "_model_module": "@jupyter-widgets/controls",
            "_model_module_version": "1.5.0",
            "_model_name": "DescriptionStyleModel",
            "_view_count": null,
            "_view_module": "@jupyter-widgets/base",
            "_view_module_version": "1.2.0",
            "_view_name": "StyleView",
            "description_width": ""
          }
        },
        "f8548b06c0f440e892d59831fd2fd73e": {
          "model_module": "@jupyter-widgets/controls",
          "model_module_version": "1.5.0",
          "model_name": "HBoxModel",
          "state": {
            "_dom_classes": [],
            "_model_module": "@jupyter-widgets/controls",
            "_model_module_version": "1.5.0",
            "_model_name": "HBoxModel",
            "_view_count": null,
            "_view_module": "@jupyter-widgets/controls",
            "_view_module_version": "1.5.0",
            "_view_name": "HBoxView",
            "box_style": "",
            "children": [
              "IPY_MODEL_8594e3f7454345bbad3df36d7584e1ea",
              "IPY_MODEL_f9037a7cdcc749b2890df64c7ee8bb15",
              "IPY_MODEL_1efc66d12fe745dea7014c2a82f05666"
            ],
            "layout": "IPY_MODEL_bf9aa42b412944e99427f9a0b1736fbd"
          }
        },
        "f9037a7cdcc749b2890df64c7ee8bb15": {
          "model_module": "@jupyter-widgets/controls",
          "model_module_version": "1.5.0",
          "model_name": "FloatProgressModel",
          "state": {
            "_dom_classes": [],
            "_model_module": "@jupyter-widgets/controls",
            "_model_module_version": "1.5.0",
            "_model_name": "FloatProgressModel",
            "_view_count": null,
            "_view_module": "@jupyter-widgets/controls",
            "_view_module_version": "1.5.0",
            "_view_name": "ProgressView",
            "bar_style": "success",
            "description": "",
            "description_tooltip": null,
            "layout": "IPY_MODEL_6190462cbc5d454bb23e76edfb4b66be",
            "max": 168,
            "min": 0,
            "orientation": "horizontal",
            "style": "IPY_MODEL_2037a1c27c9e4a96b211c3842151543c",
            "value": 168
          }
        },
        "fc7680cb14224ea2ad2a51d549bc95ff": {
          "model_module": "@jupyter-widgets/controls",
          "model_module_version": "1.5.0",
          "model_name": "ProgressStyleModel",
          "state": {
            "_model_module": "@jupyter-widgets/controls",
            "_model_module_version": "1.5.0",
            "_model_name": "ProgressStyleModel",
            "_view_count": null,
            "_view_module": "@jupyter-widgets/base",
            "_view_module_version": "1.2.0",
            "_view_name": "StyleView",
            "bar_color": null,
            "description_width": ""
          }
        }
      }
    }
  },
  "nbformat": 4,
  "nbformat_minor": 0
}
