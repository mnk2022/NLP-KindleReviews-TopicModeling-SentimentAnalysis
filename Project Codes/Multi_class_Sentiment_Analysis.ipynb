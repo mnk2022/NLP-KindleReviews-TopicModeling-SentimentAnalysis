{
  "cells": [
    {
      "cell_type": "markdown",
      "id": "205ca487",
      "metadata": {
        "id": "205ca487"
      },
      "source": [
        "# Multi-class Sentiment Analysis"
      ]
    },
    {
      "cell_type": "markdown",
      "id": "8a7b715a",
      "metadata": {
        "id": "8a7b715a"
      },
      "source": [
        "## Import Packages"
      ]
    },
    {
      "cell_type": "code",
      "execution_count": 1,
      "id": "4c5c48e3",
      "metadata": {
        "id": "4c5c48e3"
      },
      "outputs": [],
      "source": [
        "import pandas as pd\n",
        "import matplotlib.pyplot as plt\n",
        "import seaborn as sns\n",
        "import numpy as np\n",
        "from sklearn.utils import resample\n",
        "from sklearn.model_selection import train_test_split,cross_val_score,GridSearchCV,RandomizedSearchCV\n",
        "import re\n",
        "import nltk\n",
        "from nltk.corpus import stopwords\n",
        "tokenizer = nltk.tokenize.punkt.PunktSentenceTokenizer()\n",
        "from sklearn.feature_extraction.text import CountVectorizer, TfidfVectorizer \n",
        "from sklearn.naive_bayes import MultinomialNB\n",
        "from sklearn.linear_model import LogisticRegression\n",
        "from sklearn.ensemble import RandomForestClassifier\n",
        "from sklearn.svm import LinearSVC\n",
        "\n",
        "#Performance related\n",
        "from sklearn.metrics import hamming_loss, accuracy_score, classification_report, roc_auc_score, confusion_matrix"
      ]
    },
    {
      "cell_type": "markdown",
      "id": "b2fb7185",
      "metadata": {
        "id": "b2fb7185"
      },
      "source": [
        "## Exploratory Data Analysis"
      ]
    },
    {
      "cell_type": "markdown",
      "id": "NrXzkb7_f9m2",
      "metadata": {
        "id": "NrXzkb7_f9m2"
      },
      "source": [
        "### Reading Data"
      ]
    },
    {
      "cell_type": "code",
      "execution_count": null,
      "id": "918ae2d5",
      "metadata": {
        "id": "918ae2d5"
      },
      "outputs": [],
      "source": [
        "kindle_df_raw = pd.read_csv('kindle.csv',parse_dates=['reviewTime'])"
      ]
    },
    {
      "cell_type": "markdown",
      "id": "ElxqbKCngJVY",
      "metadata": {
        "id": "ElxqbKCngJVY"
      },
      "source": [
        "NOTE: The size of this dataset file is 275.2 MB. Therefore the above code where pd.read_csv( ) has been used to read the data works fine. However, for larger datasets of sizes varying from 500 MB to 5 TB or more, this method of reading data is not efficient. Hence, for such cases, the recoomendation is to use open( ) function for reading data with readlines( ) method."
      ]
    },
    {
      "cell_type": "code",
      "execution_count": null,
      "id": "64471c1a",
      "metadata": {
        "id": "64471c1a",
        "outputId": "9aadf843-d088-4ea7-83fd-b7f8b3877db6"
      },
      "outputs": [
        {
          "data": {
            "text/plain": [
              "(410695, 11)"
            ]
          },
          "execution_count": 3,
          "metadata": {},
          "output_type": "execute_result"
        }
      ],
      "source": [
        "kindle_df_raw.shape"
      ]
    },
    {
      "cell_type": "code",
      "execution_count": null,
      "id": "6eb27043",
      "metadata": {
        "id": "6eb27043"
      },
      "outputs": [],
      "source": [
        "# Filtering for June onwards\n",
        "kindle_df = kindle_df_raw[kindle_df_raw.reviewTime >= '2014-06-01']"
      ]
    },
    {
      "cell_type": "code",
      "execution_count": null,
      "id": "bfe65adb",
      "metadata": {
        "id": "bfe65adb",
        "outputId": "056358e0-3ea0-464b-e2cb-fbfb5d6e1f0e"
      },
      "outputs": [
        {
          "data": {
            "text/plain": [
              "(115093, 11)"
            ]
          },
          "execution_count": 5,
          "metadata": {},
          "output_type": "execute_result"
        }
      ],
      "source": [
        "kindle_df.shape"
      ]
    },
    {
      "cell_type": "code",
      "execution_count": null,
      "id": "8d211d8f",
      "metadata": {
        "id": "8d211d8f"
      },
      "outputs": [],
      "source": [
        "kindle_df = kindle_df.iloc[:,[2,4,5,6,-2]]\n",
        "kindle_df = kindle_df.reset_index(drop='True')\n",
        "kindle_df.columns = ['product_id','rating','review','review_date','review_summary']"
      ]
    },
    {
      "cell_type": "code",
      "execution_count": null,
      "id": "53a1afbc",
      "metadata": {
        "id": "53a1afbc",
        "outputId": "d8202232-ed4a-4f98-8d93-0588ef29f799"
      },
      "outputs": [
        {
          "name": "stdout",
          "output_type": "stream",
          "text": [
            "<class 'pandas.core.frame.DataFrame'>\n",
            "RangeIndex: 115093 entries, 0 to 115092\n",
            "Data columns (total 5 columns):\n",
            " #   Column          Non-Null Count   Dtype         \n",
            "---  ------          --------------   -----         \n",
            " 0   product_id      115093 non-null  object        \n",
            " 1   rating          115093 non-null  int64         \n",
            " 2   review          115093 non-null  object        \n",
            " 3   review_date     115093 non-null  datetime64[ns]\n",
            " 4   review_summary  115093 non-null  object        \n",
            "dtypes: datetime64[ns](1), int64(1), object(3)\n",
            "memory usage: 4.4+ MB\n"
          ]
        }
      ],
      "source": [
        "kindle_df.info()"
      ]
    },
    {
      "cell_type": "code",
      "execution_count": null,
      "id": "ae9e657c",
      "metadata": {
        "id": "ae9e657c",
        "outputId": "db121b99-84fa-4f95-ea8c-6b3f4ed8338d",
        "scrolled": true
      },
      "outputs": [
        {
          "data": {
            "text/html": [
              "<div>\n",
              "<style scoped>\n",
              "    .dataframe tbody tr th:only-of-type {\n",
              "        vertical-align: middle;\n",
              "    }\n",
              "\n",
              "    .dataframe tbody tr th {\n",
              "        vertical-align: top;\n",
              "    }\n",
              "\n",
              "    .dataframe thead th {\n",
              "        text-align: right;\n",
              "    }\n",
              "</style>\n",
              "<table border=\"1\" class=\"dataframe\">\n",
              "  <thead>\n",
              "    <tr style=\"text-align: right;\">\n",
              "      <th></th>\n",
              "      <th>product_id</th>\n",
              "      <th>rating</th>\n",
              "      <th>review</th>\n",
              "      <th>review_date</th>\n",
              "      <th>review_summary</th>\n",
              "    </tr>\n",
              "  </thead>\n",
              "  <tbody>\n",
              "    <tr>\n",
              "      <th>0</th>\n",
              "      <td>B000F83SZQ</td>\n",
              "      <td>4</td>\n",
              "      <td>I enjoyed this one tho I'm not sure why it's c...</td>\n",
              "      <td>2014-06-10</td>\n",
              "      <td>Nice old fashioned story</td>\n",
              "    </tr>\n",
              "    <tr>\n",
              "      <th>1</th>\n",
              "      <td>B000FC26RI</td>\n",
              "      <td>4</td>\n",
              "      <td>I thought it would be instructive to compare t...</td>\n",
              "      <td>2014-06-21</td>\n",
              "      <td>Compare and contrast for a better understanding</td>\n",
              "    </tr>\n",
              "  </tbody>\n",
              "</table>\n",
              "</div>"
            ],
            "text/plain": [
              "   product_id  rating                                             review  \\\n",
              "0  B000F83SZQ       4  I enjoyed this one tho I'm not sure why it's c...   \n",
              "1  B000FC26RI       4  I thought it would be instructive to compare t...   \n",
              "\n",
              "  review_date                                   review_summary  \n",
              "0  2014-06-10                         Nice old fashioned story  \n",
              "1  2014-06-21  Compare and contrast for a better understanding  "
            ]
          },
          "execution_count": 8,
          "metadata": {},
          "output_type": "execute_result"
        }
      ],
      "source": [
        "kindle_df.head(2)"
      ]
    },
    {
      "cell_type": "code",
      "execution_count": null,
      "id": "b6adf45f",
      "metadata": {
        "id": "b6adf45f",
        "outputId": "86b452b3-2471-4721-d512-5db809ec977a"
      },
      "outputs": [
        {
          "name": "stdout",
          "output_type": "stream",
          "text": [
            "2014-06-01 00:00:00\n",
            "2014-07-23 00:00:00\n"
          ]
        }
      ],
      "source": [
        "print(kindle_df.review_date.min())\n",
        "print(kindle_df.review_date.max())"
      ]
    },
    {
      "cell_type": "code",
      "execution_count": null,
      "id": "a8703a05",
      "metadata": {
        "id": "a8703a05",
        "outputId": "ff9e6000-461f-4bbd-cbd9-bac9ecf07087"
      },
      "outputs": [
        {
          "data": {
            "image/png": "[encoded data removed]",
            "text/plain": [
              "<Figure size 432x288 with 1 Axes>"
            ]
          },
          "metadata": {
            "needs_background": "light"
          },
          "output_type": "display_data"
        }
      ],
      "source": [
        "#Rating Distribution\n",
        "kindle_df.rating.value_counts().plot(kind='bar')\n",
        "plt.show()"
      ]
    },
    {
      "cell_type": "markdown",
      "id": "9503b1ed",
      "metadata": {
        "id": "9503b1ed"
      },
      "source": [
        "### Label assignment"
      ]
    },
    {
      "cell_type": "code",
      "execution_count": null,
      "id": "0d1560ab",
      "metadata": {
        "id": "0d1560ab"
      },
      "outputs": [],
      "source": [
        "kindle_df['sentiment'] = kindle_df['rating'].apply(lambda x: \"positive\" if x>3 else (\"negative\" if x<3 else \"neutral\"))"
      ]
    },
    {
      "cell_type": "code",
      "execution_count": null,
      "id": "d01e8e48",
      "metadata": {
        "id": "d01e8e48"
      },
      "outputs": [],
      "source": [
        "kindle_df_2 = kindle_df[['review','sentiment']]"
      ]
    },
    {
      "cell_type": "code",
      "execution_count": null,
      "id": "e298e77c",
      "metadata": {
        "id": "e298e77c",
        "outputId": "9d000e85-f864-4d9c-a02a-769e8797c9d8"
      },
      "outputs": [
        {
          "data": {
            "text/plain": [
              "positive    100379\n",
              "neutral       9367\n",
              "negative      5347\n",
              "Name: sentiment, dtype: int64"
            ]
          },
          "execution_count": 13,
          "metadata": {},
          "output_type": "execute_result"
        }
      ],
      "source": [
        "kindle_df_2.sentiment.value_counts()"
      ]
    },
    {
      "cell_type": "code",
      "execution_count": null,
      "id": "9fdd4b49",
      "metadata": {
        "id": "9fdd4b49",
        "outputId": "3ede2f49-4613-4b12-bef0-d7ca418a93ed"
      },
      "outputs": [
        {
          "data": {
            "image/png": "[encoded data removed]",
            "text/plain": [
              "<Figure size 432x288 with 1 Axes>"
            ]
          },
          "metadata": {
            "needs_background": "light"
          },
          "output_type": "display_data"
        }
      ],
      "source": [
        "kindle_df_2.sentiment.value_counts().plot(kind='bar')\n",
        "plt.show()"
      ]
    },
    {
      "cell_type": "markdown",
      "id": "2eafaba2",
      "metadata": {
        "id": "2eafaba2"
      },
      "source": [
        "## Data Pre-processing"
      ]
    },
    {
      "cell_type": "code",
      "execution_count": null,
      "id": "d6bddfc1",
      "metadata": {
        "id": "d6bddfc1"
      },
      "outputs": [],
      "source": [
        "# Default stopwords list from package\n",
        "stop_words = set(stopwords.words('english'))\n",
        "stop_words_custom = list(stop_words)\n",
        "\n",
        "# Remove punctuation from stopwords\n",
        "temp = []\n",
        "for i in stop_words_custom:\n",
        "    temp.append(re.sub(r'[^a-z0-9\\s]', '', i))\n",
        "\n",
        "# Updating stopwords list\n",
        "to_add = ['im', 'its']\n",
        "stops = [\"not\",\"doesnt\",\"didnt\",\"wouldnt\",\"shouldnt\",\"couldnt\",\"very\",\"too\",\"really\",\"so\"]\n",
        "custom_stopwords = list(set(temp) - set(stops) | set(to_add))"
      ]
    },
    {
      "cell_type": "code",
      "execution_count": null,
      "id": "f65933ba",
      "metadata": {
        "id": "f65933ba"
      },
      "outputs": [],
      "source": [
        "def clean(review_text):\n",
        "    review_text = str(review_text).lower() # convert to lowercase\n",
        "    #review_text = re.sub('\\[.*?\\]', '', review_text)\n",
        "    review_text = re.sub('https?://\\S+|www\\.\\S+', '', review_text) # Remove URls\n",
        "    review_text = re.sub('<.*?>+', '', review_text)\n",
        "    review_text = re.sub(r'[^a-z0-9\\s]', '', review_text) # Remove punctuation\n",
        "    review_text = re.sub('\\n', '', review_text)\n",
        "    review_text = re.sub('\\w*\\d\\w*', '', review_text)\n",
        "\n",
        "    review_text = re.sub('\\s+',' ', review_text) #replace_multiple_spaces_with_single_space\n",
        "    return(review_text)"
      ]
    },
    {
      "cell_type": "code",
      "execution_count": null,
      "id": "46e84c55",
      "metadata": {
        "id": "46e84c55"
      },
      "outputs": [],
      "source": [
        "kindle_df_3 = kindle_df_2.copy()\n",
        "kindle_df_3['review'] = kindle_df_3['review'].apply(clean)"
      ]
    },
    {
      "cell_type": "code",
      "execution_count": null,
      "id": "c27d5a00",
      "metadata": {
        "id": "c27d5a00"
      },
      "outputs": [],
      "source": [
        "# Removing stopwords\n",
        "kindle_df_3['reviews_cleaned'] = kindle_df_3['review'].apply(lambda x: ' '.join([word for word in x.split() if word not in (custom_stopwords)]))\n"
      ]
    },
    {
      "cell_type": "code",
      "execution_count": null,
      "id": "65b8df07",
      "metadata": {
        "id": "65b8df07",
        "outputId": "8ea82414-6dcf-49e3-c6ec-2d4147ab7104",
        "scrolled": true
      },
      "outputs": [
        {
          "data": {
            "text/html": [
              "<div>\n",
              "<style scoped>\n",
              "    .dataframe tbody tr th:only-of-type {\n",
              "        vertical-align: middle;\n",
              "    }\n",
              "\n",
              "    .dataframe tbody tr th {\n",
              "        vertical-align: top;\n",
              "    }\n",
              "\n",
              "    .dataframe thead th {\n",
              "        text-align: right;\n",
              "    }\n",
              "</style>\n",
              "<table border=\"1\" class=\"dataframe\">\n",
              "  <thead>\n",
              "    <tr style=\"text-align: right;\">\n",
              "      <th></th>\n",
              "      <th>reviews_cleaned</th>\n",
              "      <th>sentiment</th>\n",
              "    </tr>\n",
              "  </thead>\n",
              "  <tbody>\n",
              "    <tr>\n",
              "      <th>0</th>\n",
              "      <td>enjoyed one tho not sure called amy brewster m...</td>\n",
              "      <td>positive</td>\n",
              "    </tr>\n",
              "    <tr>\n",
              "      <th>1</th>\n",
              "      <td>thought would instructive compare charles john...</td>\n",
              "      <td>positive</td>\n",
              "    </tr>\n",
              "  </tbody>\n",
              "</table>\n",
              "</div>"
            ],
            "text/plain": [
              "                                     reviews_cleaned sentiment\n",
              "0  enjoyed one tho not sure called amy brewster m...  positive\n",
              "1  thought would instructive compare charles john...  positive"
            ]
          },
          "execution_count": 19,
          "metadata": {},
          "output_type": "execute_result"
        }
      ],
      "source": [
        "kindle_df_4 = kindle_df_3[['reviews_cleaned','sentiment']]\n",
        "kindle_df_4.head(2)"
      ]
    },
    {
      "cell_type": "markdown",
      "id": "225eba39",
      "metadata": {
        "id": "225eba39"
      },
      "source": [
        "## Train-test split (70:30 ratio)"
      ]
    },
    {
      "cell_type": "code",
      "execution_count": null,
      "id": "4e1412cd",
      "metadata": {
        "id": "4e1412cd"
      },
      "outputs": [],
      "source": [
        "X_train, X_test, y_train, y_test = train_test_split(kindle_df_4['reviews_cleaned'], kindle_df_4['sentiment'], \n",
        "                                                    test_size=0.3, random_state=42, \n",
        "                                                    stratify=kindle_df_4['sentiment'].values)"
      ]
    },
    {
      "cell_type": "code",
      "execution_count": null,
      "id": "58e04c0e",
      "metadata": {
        "id": "58e04c0e"
      },
      "outputs": [],
      "source": [
        "train_df = pd.DataFrame(dict(review = X_train, sentiment = y_train)).reset_index(drop=True)\n",
        "test_df = pd.DataFrame(dict(review = X_test, sentiment = y_test)).reset_index(drop=True)"
      ]
    },
    {
      "cell_type": "code",
      "execution_count": null,
      "id": "fb6b50e0",
      "metadata": {
        "id": "fb6b50e0",
        "outputId": "84ed1a3e-4058-4710-a50b-248f6f1419ac",
        "scrolled": true
      },
      "outputs": [
        {
          "data": {
            "text/plain": [
              "(80565, 2)"
            ]
          },
          "execution_count": 22,
          "metadata": {},
          "output_type": "execute_result"
        }
      ],
      "source": [
        "train_df.shape"
      ]
    },
    {
      "cell_type": "code",
      "execution_count": null,
      "id": "86054651",
      "metadata": {
        "id": "86054651",
        "outputId": "d2d1bf5d-2993-4bd6-a0ef-a4b723ef6d75",
        "scrolled": true
      },
      "outputs": [
        {
          "data": {
            "text/plain": [
              "positive    70265\n",
              "neutral      6557\n",
              "negative     3743\n",
              "Name: sentiment, dtype: int64"
            ]
          },
          "execution_count": 23,
          "metadata": {},
          "output_type": "execute_result"
        }
      ],
      "source": [
        "train_df.sentiment.value_counts()"
      ]
    },
    {
      "cell_type": "markdown",
      "id": "0cb779db",
      "metadata": {
        "id": "0cb779db"
      },
      "source": [
        "## Upsampling train dataset"
      ]
    },
    {
      "cell_type": "code",
      "execution_count": null,
      "id": "ad4a47ae",
      "metadata": {
        "id": "ad4a47ae"
      },
      "outputs": [],
      "source": [
        "review_pos =  train_df[(train_df['sentiment']==\"positive\")]\n",
        "review_neg = train_df[(train_df['sentiment']==\"negative\")]\n",
        "review_neut = train_df[(train_df['sentiment']==\"neutral\")]"
      ]
    },
    {
      "cell_type": "code",
      "execution_count": null,
      "id": "75ff148b",
      "metadata": {
        "id": "75ff148b"
      },
      "outputs": [],
      "source": [
        "review_neg_upsample = resample(review_neg, \n",
        "                                 replace=True,    #sample with replacement\n",
        "                                 n_samples= 70265, #to match majority class\n",
        "                                 random_state=42)  #reproducible results\n",
        "\n",
        "review_neut_upsample = resample(review_neut,\n",
        "                                 replace=True,\n",
        "                                 n_samples= 70265,\n",
        "                                 random_state=42)"
      ]
    },
    {
      "cell_type": "code",
      "execution_count": null,
      "id": "1969a923",
      "metadata": {
        "id": "1969a923"
      },
      "outputs": [],
      "source": [
        "kindle_df_train = pd.concat([review_pos,review_neg_upsample,review_neut_upsample])"
      ]
    },
    {
      "cell_type": "code",
      "execution_count": null,
      "id": "6bfc07cc",
      "metadata": {
        "id": "6bfc07cc",
        "outputId": "8fd1d35f-613c-4808-8684-f9b82bc4b0b3"
      },
      "outputs": [
        {
          "data": {
            "text/plain": [
              "(210795, 2)"
            ]
          },
          "execution_count": 27,
          "metadata": {},
          "output_type": "execute_result"
        }
      ],
      "source": [
        "kindle_df_train.shape"
      ]
    },
    {
      "cell_type": "code",
      "execution_count": null,
      "id": "31b65344",
      "metadata": {
        "id": "31b65344",
        "outputId": "334d1a45-6287-4d8d-98d6-e5932ec4eb43"
      },
      "outputs": [
        {
          "data": {
            "text/plain": [
              "neutral     70265\n",
              "negative    70265\n",
              "positive    70265\n",
              "Name: sentiment, dtype: int64"
            ]
          },
          "execution_count": 28,
          "metadata": {},
          "output_type": "execute_result"
        }
      ],
      "source": [
        "kindle_df_train.sentiment.value_counts()"
      ]
    },
    {
      "cell_type": "code",
      "execution_count": null,
      "id": "14226c1e",
      "metadata": {
        "id": "14226c1e"
      },
      "outputs": [],
      "source": []
    },
    {
      "cell_type": "markdown",
      "id": "34396ed5",
      "metadata": {
        "id": "34396ed5"
      },
      "source": [
        "## Baseline Models"
      ]
    },
    {
      "cell_type": "code",
      "execution_count": null,
      "id": "283b23d6",
      "metadata": {
        "id": "283b23d6"
      },
      "outputs": [],
      "source": [
        "X_train_up = kindle_df_train['review']\n",
        "y_train_up = kindle_df_train[\"sentiment\"]"
      ]
    },
    {
      "cell_type": "markdown",
      "id": "cdb9758b",
      "metadata": {
        "id": "cdb9758b"
      },
      "source": [
        "### Multinomial Naive Bayes"
      ]
    },
    {
      "cell_type": "code",
      "execution_count": null,
      "id": "ce258bb5",
      "metadata": {
        "id": "ce258bb5"
      },
      "outputs": [],
      "source": [
        "from sklearn.feature_extraction.text import TfidfVectorizer\n",
        "from sklearn.naive_bayes import MultinomialNB\n",
        "from sklearn.pipeline import make_pipeline\n",
        "# Creating a pipeline\n",
        "model = make_pipeline(TfidfVectorizer(), MultinomialNB(alpha=1))"
      ]
    },
    {
      "cell_type": "code",
      "execution_count": null,
      "id": "b127a4ef",
      "metadata": {
        "id": "b127a4ef"
      },
      "outputs": [],
      "source": [
        "# Fitting the model with training set\n",
        "model.fit(X_train_up, y_train_up)\n",
        "# Predicting labels for the test set\n",
        "labels = model.predict(X_test)"
      ]
    },
    {
      "cell_type": "code",
      "execution_count": null,
      "id": "22513fda",
      "metadata": {
        "id": "22513fda",
        "outputId": "8c7494e8-2389-4b24-e5e9-ea7e93ea3c8b"
      },
      "outputs": [
        {
          "data": {
            "image/png": "[encoded data removed]",
            "text/plain": [
              "<Figure size 432x288 with 2 Axes>"
            ]
          },
          "metadata": {
            "needs_background": "light"
          },
          "output_type": "display_data"
        }
      ],
      "source": [
        "from sklearn.metrics import confusion_matrix\n",
        "import seaborn as sns\n",
        "import matplotlib.pyplot as plt\n",
        "# Create the confusion matrix\n",
        "conf_mat = confusion_matrix(y_test, labels, normalize=\"true\")\n",
        "# Plot the confusion matrix\n",
        "sns.heatmap(conf_mat.T, annot=True, fmt=\".0%\", cmap=\"cividis\"\n",
        "    #, xticklabels = y_train_up , yticklabels = y_train_up\n",
        "    )\n",
        "plt.xlabel(\"True label\")\n",
        "plt.ylabel(\"Predicted label\")\n",
        "plt.show()"
      ]
    },
    {
      "cell_type": "code",
      "execution_count": null,
      "id": "93a16e6e",
      "metadata": {
        "id": "93a16e6e",
        "outputId": "b69f0b27-30a1-43e5-cbb1-d01425aa2e64",
        "scrolled": true
      },
      "outputs": [
        {
          "data": {
            "text/plain": [
              "positive    25293\n",
              "neutral      6663\n",
              "negative     2572\n",
              "dtype: int64"
            ]
          },
          "execution_count": 33,
          "metadata": {},
          "output_type": "execute_result"
        }
      ],
      "source": [
        "pd.Series(labels).value_counts()"
      ]
    },
    {
      "cell_type": "code",
      "execution_count": null,
      "id": "b1b53391",
      "metadata": {
        "id": "b1b53391",
        "outputId": "78c0923f-8ffc-49d1-f9c8-44a66f1946a5",
        "scrolled": false
      },
      "outputs": [
        {
          "name": "stdout",
          "output_type": "stream",
          "text": [
            "              precision    recall  f1-score   support\n",
            "\n",
            "    negative       0.37      0.60      0.46      1604\n",
            "     neutral       0.24      0.57      0.34      2810\n",
            "    positive       0.97      0.81      0.89     30114\n",
            "\n",
            "    accuracy                           0.78     34528\n",
            "   macro avg       0.53      0.66      0.56     34528\n",
            "weighted avg       0.88      0.78      0.82     34528\n",
            "\n"
          ]
        }
      ],
      "source": [
        "print(classification_report(y_test, labels))"
      ]
    },
    {
      "cell_type": "markdown",
      "id": "330519c9",
      "metadata": {
        "id": "330519c9"
      },
      "source": [
        "### Logistic Regression"
      ]
    },
    {
      "cell_type": "code",
      "execution_count": null,
      "id": "17b86b53",
      "metadata": {
        "id": "17b86b53"
      },
      "outputs": [],
      "source": [
        "\n",
        "# test classification dataset\n",
        "from collections import Counter\n",
        "from sklearn.datasets import make_classification\n",
        "# define dataset\n",
        "X, y = make_classification(n_samples=1000, n_features=10, n_informative=5, n_redundant=5, n_classes=3, random_state=1)\n",
        "# summarize the dataset\n",
        "print(X.shape, y.shape)\n",
        "print(Counter(y))"
      ]
    },
    {
      "cell_type": "code",
      "execution_count": null,
      "id": "a2d8ed84",
      "metadata": {
        "collapsed": true,
        "id": "a2d8ed84",
        "outputId": "bba98352-45c1-4006-9fe7-8023aa42819e"
      },
      "outputs": [
        {
          "name": "stderr",
          "output_type": "stream",
          "text": [
            "/Users/naveenkumar/opt/anaconda3/lib/python3.8/site-packages/sklearn/linear_model/_logistic.py:763: ConvergenceWarning: lbfgs failed to converge (status=1):\n",
            "STOP: TOTAL NO. of ITERATIONS REACHED LIMIT.\n",
            "\n",
            "Increase the number of iterations (max_iter) or scale the data as shown in:\n",
            "    https://scikit-learn.org/stable/modules/preprocessing.html\n",
            "Please also refer to the documentation for alternative solver options:\n",
            "    https://scikit-learn.org/stable/modules/linear_model.html#logistic-regression\n",
            "  n_iter_i = _check_optimize_result(\n"
          ]
        },
        {
          "ename": "NameError",
          "evalue": "name 'roc_auc_score' is not defined",
          "output_type": "error",
          "traceback": [
            "\u001b[0;31m---------------------------------------------------------------------------\u001b[0m",
            "\u001b[0;31mNameError\u001b[0m                                 Traceback (most recent call last)",
            "\u001b[0;32m<ipython-input-37-ab58ac940b5a>\u001b[0m in \u001b[0;36m<module>\u001b[0;34m\u001b[0m\n\u001b[1;32m     11\u001b[0m \u001b[0;31m# Predict the transformed test documents\u001b[0m\u001b[0;34m\u001b[0m\u001b[0;34m\u001b[0m\u001b[0;34m\u001b[0m\u001b[0m\n\u001b[1;32m     12\u001b[0m \u001b[0mpredictions\u001b[0m \u001b[0;34m=\u001b[0m \u001b[0mmodel\u001b[0m\u001b[0;34m.\u001b[0m\u001b[0mpredict\u001b[0m\u001b[0;34m(\u001b[0m\u001b[0mvect\u001b[0m\u001b[0;34m.\u001b[0m\u001b[0mtransform\u001b[0m\u001b[0;34m(\u001b[0m\u001b[0mX_test\u001b[0m\u001b[0;34m)\u001b[0m\u001b[0;34m)\u001b[0m\u001b[0;34m\u001b[0m\u001b[0;34m\u001b[0m\u001b[0m\n\u001b[0;32m---> 13\u001b[0;31m \u001b[0mprint\u001b[0m\u001b[0;34m(\u001b[0m\u001b[0;34m'AUC: '\u001b[0m\u001b[0;34m,\u001b[0m \u001b[0mroc_auc_score\u001b[0m\u001b[0;34m(\u001b[0m\u001b[0my_test\u001b[0m\u001b[0;34m,\u001b[0m \u001b[0mpredictions\u001b[0m\u001b[0;34m)\u001b[0m\u001b[0;34m)\u001b[0m\u001b[0;34m\u001b[0m\u001b[0;34m\u001b[0m\u001b[0m\n\u001b[0m\u001b[1;32m     14\u001b[0m \u001b[0;34m\u001b[0m\u001b[0m\n\u001b[1;32m     15\u001b[0m \u001b[0;31m# get the feature names as numpy array\u001b[0m\u001b[0;34m\u001b[0m\u001b[0;34m\u001b[0m\u001b[0;34m\u001b[0m\u001b[0m\n",
            "\u001b[0;31mNameError\u001b[0m: name 'roc_auc_score' is not defined"
          ]
        }
      ],
      "source": [
        "# Fit the CountVectorizer to the training data\n",
        "\n",
        "# transform the documents in the training data to a document-term matrix\n",
        "vect = CountVectorizer().fit(X_train_up)\n",
        "X_train_vectorized = vect.transform(X_train_up)\n",
        "\n",
        "# Train the model\n",
        "model = LogisticRegression(multi_class='multinomial', solver='lbfgs')\n",
        "model.fit(X_train_vectorized, y_train_up)\n",
        "\n",
        "# Predict the transformed test documents\n",
        "predictions = model.predict(vect.transform(X_test))\n"
      ]
    },
    {
      "cell_type": "code",
      "execution_count": null,
      "id": "6eb7bdc1",
      "metadata": {
        "id": "6eb7bdc1",
        "outputId": "be61318e-b1c1-4cd5-e55c-8f8cf0d50e31"
      },
      "outputs": [
        {
          "name": "stdout",
          "output_type": "stream",
          "text": [
            "Smallest Coefs:\n",
            "['intense' 'deserves' 'discover' 'intrigue' 'complaint' 'memory'\n",
            " 'fantastic' 'talented' 'compelling' 'packed']\n",
            "\n",
            "Largest Coefs: \n",
            "['refund' 'hill' 'disappointing' 'absurd' 'ridiculous' 'stinks'\n",
            " 'disgusting' 'bam' 'unreadable' 'deleted']\n"
          ]
        }
      ],
      "source": [
        "# get the feature names as numpy array\n",
        "feature_names = np.array(vect.get_feature_names())\n",
        "\n",
        "# Sort the coefficients from the model\n",
        "sorted_coef_index = model.coef_[0].argsort()\n",
        "\n",
        "# Find the 10 smallest and 10 largest coefficients\n",
        "# The 10 largest coefficients are being indexed using [:-11:-1] \n",
        "# so the list returned is in order of largest to smallest\n",
        "print('Smallest Coefs:\\n{}\\n'.format(feature_names[sorted_coef_index[:10]]))\n",
        "print('Largest Coefs: \\n{}'.format(feature_names[sorted_coef_index[:-11:-1]]))"
      ]
    },
    {
      "cell_type": "code",
      "execution_count": null,
      "id": "9e819fe8",
      "metadata": {
        "id": "9e819fe8",
        "outputId": "44f955e0-68f4-4af7-adf8-2179d3b2c639"
      },
      "outputs": [
        {
          "data": {
            "image/png": "[encoded data removed]",
            "text/plain": [
              "<Figure size 432x288 with 2 Axes>"
            ]
          },
          "metadata": {
            "needs_background": "light"
          },
          "output_type": "display_data"
        }
      ],
      "source": [
        "# Create the confusion matrix\n",
        "conf_mat = confusion_matrix(y_test, predictions, normalize=\"true\")\n",
        "# Plot the confusion matrix\n",
        "sns.heatmap(conf_mat.T, annot=True, fmt=\".0%\", cmap=\"cividis\"\n",
        "    #, xticklabels = y_train_up , yticklabels = y_train_up\n",
        "           )\n",
        "plt.xlabel(\"True label\")\n",
        "plt.ylabel(\"Predicted label\")\n",
        "plt.show()\n"
      ]
    },
    {
      "cell_type": "code",
      "execution_count": null,
      "id": "J3xZnNpDkVKi",
      "metadata": {
        "id": "J3xZnNpDkVKi"
      },
      "outputs": [],
      "source": []
    },
    {
      "cell_type": "markdown",
      "id": "94369c3d",
      "metadata": {
        "id": "94369c3d"
      },
      "source": [
        "## Appendix"
      ]
    },
    {
      "cell_type": "code",
      "execution_count": null,
      "id": "a66bfeb9",
      "metadata": {
        "id": "a66bfeb9"
      },
      "outputs": [],
      "source": [
        "# kindle_df[kindle_df['rating'] == 3].review"
      ]
    },
    {
      "cell_type": "code",
      "execution_count": null,
      "id": "a1745e73",
      "metadata": {
        "id": "a1745e73"
      },
      "outputs": [],
      "source": [
        "# x = kindle_df.iloc[[114981]]['review']\n",
        "# x.iloc[0]"
      ]
    }
  ],
  "metadata": {
    "colab": {
      "collapsed_sections": [
        "b2fb7185",
        "2eafaba2",
        "225eba39",
        "0cb779db",
        "94369c3d"
      ],
      "name": "Multi-class_Sentiment Analysis.ipynb",
      "provenance": []
    },
    "kernelspec": {
      "display_name": "Python 3",
      "language": "python",
      "name": "python3"
    },
    "language_info": {
      "codemirror_mode": {
        "name": "ipython",
        "version": 3
      },
      "file_extension": ".py",
      "mimetype": "text/x-python",
      "name": "python",
      "nbconvert_exporter": "python",
      "pygments_lexer": "ipython3",
      "version": "3.8.8"
    }
  },
  "nbformat": 4,
  "nbformat_minor": 5
}
